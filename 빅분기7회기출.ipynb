{
 "cells": [
  {
   "cell_type": "markdown",
   "metadata": {},
   "source": [
    "# 작업 1유형"
   ]
  },
  {
   "cell_type": "markdown",
   "metadata": {},
   "source": [
    "## Q1. 국어,수학,영어,과학 과목 중 가장 많은 학생들이 응시한 시험을 선택하고 해당과목의 점수를 표준화 했을 때 가장 큰 표준화 점수를 구하여라"
   ]
  },
  {
   "cell_type": "code",
   "execution_count": 114,
   "metadata": {},
   "outputs": [
    {
     "data": {
      "text/html": [
       "<div>\n",
       "<style scoped>\n",
       "    .dataframe tbody tr th:only-of-type {\n",
       "        vertical-align: middle;\n",
       "    }\n",
       "\n",
       "    .dataframe tbody tr th {\n",
       "        vertical-align: top;\n",
       "    }\n",
       "\n",
       "    .dataframe thead th {\n",
       "        text-align: right;\n",
       "    }\n",
       "</style>\n",
       "<table border=\"1\" class=\"dataframe\">\n",
       "  <thead>\n",
       "    <tr style=\"text-align: right;\">\n",
       "      <th></th>\n",
       "      <th>학생</th>\n",
       "      <th>국어</th>\n",
       "      <th>수학</th>\n",
       "      <th>영어</th>\n",
       "      <th>과학</th>\n",
       "    </tr>\n",
       "  </thead>\n",
       "  <tbody>\n",
       "    <tr>\n",
       "      <th>0</th>\n",
       "      <td>ID_0</td>\n",
       "      <td>63.0</td>\n",
       "      <td>NaN</td>\n",
       "      <td>79.0</td>\n",
       "      <td>84.0</td>\n",
       "    </tr>\n",
       "    <tr>\n",
       "      <th>1</th>\n",
       "      <td>ID_1</td>\n",
       "      <td>91.0</td>\n",
       "      <td>93.0</td>\n",
       "      <td>NaN</td>\n",
       "      <td>73.0</td>\n",
       "    </tr>\n",
       "    <tr>\n",
       "      <th>2</th>\n",
       "      <td>ID_2</td>\n",
       "      <td>59.0</td>\n",
       "      <td>55.0</td>\n",
       "      <td>NaN</td>\n",
       "      <td>56.0</td>\n",
       "    </tr>\n",
       "    <tr>\n",
       "      <th>3</th>\n",
       "      <td>ID_3</td>\n",
       "      <td>71.0</td>\n",
       "      <td>83.0</td>\n",
       "      <td>82.0</td>\n",
       "      <td>NaN</td>\n",
       "    </tr>\n",
       "    <tr>\n",
       "      <th>4</th>\n",
       "      <td>ID_4</td>\n",
       "      <td>62.0</td>\n",
       "      <td>72.0</td>\n",
       "      <td>56.0</td>\n",
       "      <td>NaN</td>\n",
       "    </tr>\n",
       "    <tr>\n",
       "      <th>5</th>\n",
       "      <td>ID_5</td>\n",
       "      <td>NaN</td>\n",
       "      <td>69.0</td>\n",
       "      <td>88.0</td>\n",
       "      <td>96.0</td>\n",
       "    </tr>\n",
       "    <tr>\n",
       "      <th>6</th>\n",
       "      <td>ID_6</td>\n",
       "      <td>83.0</td>\n",
       "      <td>92.0</td>\n",
       "      <td>69.0</td>\n",
       "      <td>NaN</td>\n",
       "    </tr>\n",
       "    <tr>\n",
       "      <th>7</th>\n",
       "      <td>ID_7</td>\n",
       "      <td>85.0</td>\n",
       "      <td>NaN</td>\n",
       "      <td>83.0</td>\n",
       "      <td>66.0</td>\n",
       "    </tr>\n",
       "    <tr>\n",
       "      <th>8</th>\n",
       "      <td>ID_8</td>\n",
       "      <td>96.0</td>\n",
       "      <td>75.0</td>\n",
       "      <td>86.0</td>\n",
       "      <td>NaN</td>\n",
       "    </tr>\n",
       "    <tr>\n",
       "      <th>9</th>\n",
       "      <td>ID_9</td>\n",
       "      <td>79.0</td>\n",
       "      <td>56.0</td>\n",
       "      <td>90.0</td>\n",
       "      <td>NaN</td>\n",
       "    </tr>\n",
       "    <tr>\n",
       "      <th>10</th>\n",
       "      <td>ID_10</td>\n",
       "      <td>68.0</td>\n",
       "      <td>NaN</td>\n",
       "      <td>69.0</td>\n",
       "      <td>62.0</td>\n",
       "    </tr>\n",
       "    <tr>\n",
       "      <th>11</th>\n",
       "      <td>ID_11</td>\n",
       "      <td>61.0</td>\n",
       "      <td>56.0</td>\n",
       "      <td>NaN</td>\n",
       "      <td>76.0</td>\n",
       "    </tr>\n",
       "    <tr>\n",
       "      <th>12</th>\n",
       "      <td>ID_12</td>\n",
       "      <td>86.0</td>\n",
       "      <td>96.0</td>\n",
       "      <td>NaN</td>\n",
       "      <td>87.0</td>\n",
       "    </tr>\n",
       "    <tr>\n",
       "      <th>13</th>\n",
       "      <td>ID_13</td>\n",
       "      <td>NaN</td>\n",
       "      <td>89.0</td>\n",
       "      <td>98.0</td>\n",
       "      <td>82.0</td>\n",
       "    </tr>\n",
       "    <tr>\n",
       "      <th>14</th>\n",
       "      <td>ID_14</td>\n",
       "      <td>79.0</td>\n",
       "      <td>55.0</td>\n",
       "      <td>69.0</td>\n",
       "      <td>NaN</td>\n",
       "    </tr>\n",
       "  </tbody>\n",
       "</table>\n",
       "</div>"
      ],
      "text/plain": [
       "       학생    국어    수학    영어    과학\n",
       "0    ID_0  63.0   NaN  79.0  84.0\n",
       "1    ID_1  91.0  93.0   NaN  73.0\n",
       "2    ID_2  59.0  55.0   NaN  56.0\n",
       "3    ID_3  71.0  83.0  82.0   NaN\n",
       "4    ID_4  62.0  72.0  56.0   NaN\n",
       "5    ID_5   NaN  69.0  88.0  96.0\n",
       "6    ID_6  83.0  92.0  69.0   NaN\n",
       "7    ID_7  85.0   NaN  83.0  66.0\n",
       "8    ID_8  96.0  75.0  86.0   NaN\n",
       "9    ID_9  79.0  56.0  90.0   NaN\n",
       "10  ID_10  68.0   NaN  69.0  62.0\n",
       "11  ID_11  61.0  56.0   NaN  76.0\n",
       "12  ID_12  86.0  96.0   NaN  87.0\n",
       "13  ID_13   NaN  89.0  98.0  82.0\n",
       "14  ID_14  79.0  55.0  69.0   NaN"
      ]
     },
     "execution_count": 114,
     "metadata": {},
     "output_type": "execute_result"
    }
   ],
   "source": [
    "import pandas as pd\n",
    "\n",
    "df = pd.read_csv('https://raw.githubusercontent.com/Datamanim/datarepo/main/krdatacertificate/e7_p1.csv')\n",
    "df"
   ]
  },
  {
   "cell_type": "code",
   "execution_count": 115,
   "metadata": {},
   "outputs": [
    {
     "data": {
      "text/html": [
       "<div>\n",
       "<style scoped>\n",
       "    .dataframe tbody tr th:only-of-type {\n",
       "        vertical-align: middle;\n",
       "    }\n",
       "\n",
       "    .dataframe tbody tr th {\n",
       "        vertical-align: top;\n",
       "    }\n",
       "\n",
       "    .dataframe thead th {\n",
       "        text-align: right;\n",
       "    }\n",
       "</style>\n",
       "<table border=\"1\" class=\"dataframe\">\n",
       "  <thead>\n",
       "    <tr style=\"text-align: right;\">\n",
       "      <th></th>\n",
       "      <th>국어</th>\n",
       "      <th>수학</th>\n",
       "      <th>영어</th>\n",
       "      <th>과학</th>\n",
       "    </tr>\n",
       "  </thead>\n",
       "  <tbody>\n",
       "    <tr>\n",
       "      <th>count</th>\n",
       "      <td>13.000000</td>\n",
       "      <td>12.000000</td>\n",
       "      <td>11.000000</td>\n",
       "      <td>9.000000</td>\n",
       "    </tr>\n",
       "    <tr>\n",
       "      <th>mean</th>\n",
       "      <td>75.615385</td>\n",
       "      <td>74.250000</td>\n",
       "      <td>79.000000</td>\n",
       "      <td>75.777778</td>\n",
       "    </tr>\n",
       "    <tr>\n",
       "      <th>std</th>\n",
       "      <td>12.379677</td>\n",
       "      <td>16.164636</td>\n",
       "      <td>12.107849</td>\n",
       "      <td>12.872235</td>\n",
       "    </tr>\n",
       "    <tr>\n",
       "      <th>min</th>\n",
       "      <td>59.000000</td>\n",
       "      <td>55.000000</td>\n",
       "      <td>56.000000</td>\n",
       "      <td>56.000000</td>\n",
       "    </tr>\n",
       "    <tr>\n",
       "      <th>25%</th>\n",
       "      <td>63.000000</td>\n",
       "      <td>56.000000</td>\n",
       "      <td>69.000000</td>\n",
       "      <td>66.000000</td>\n",
       "    </tr>\n",
       "    <tr>\n",
       "      <th>50%</th>\n",
       "      <td>79.000000</td>\n",
       "      <td>73.500000</td>\n",
       "      <td>82.000000</td>\n",
       "      <td>76.000000</td>\n",
       "    </tr>\n",
       "    <tr>\n",
       "      <th>75%</th>\n",
       "      <td>85.000000</td>\n",
       "      <td>89.750000</td>\n",
       "      <td>87.000000</td>\n",
       "      <td>84.000000</td>\n",
       "    </tr>\n",
       "    <tr>\n",
       "      <th>max</th>\n",
       "      <td>96.000000</td>\n",
       "      <td>96.000000</td>\n",
       "      <td>98.000000</td>\n",
       "      <td>96.000000</td>\n",
       "    </tr>\n",
       "  </tbody>\n",
       "</table>\n",
       "</div>"
      ],
      "text/plain": [
       "              국어         수학         영어         과학\n",
       "count  13.000000  12.000000  11.000000   9.000000\n",
       "mean   75.615385  74.250000  79.000000  75.777778\n",
       "std    12.379677  16.164636  12.107849  12.872235\n",
       "min    59.000000  55.000000  56.000000  56.000000\n",
       "25%    63.000000  56.000000  69.000000  66.000000\n",
       "50%    79.000000  73.500000  82.000000  76.000000\n",
       "75%    85.000000  89.750000  87.000000  84.000000\n",
       "max    96.000000  96.000000  98.000000  96.000000"
      ]
     },
     "execution_count": 115,
     "metadata": {},
     "output_type": "execute_result"
    }
   ],
   "source": [
    "df.describe() # 국어"
   ]
  },
  {
   "cell_type": "code",
   "execution_count": 116,
   "metadata": {},
   "outputs": [
    {
     "data": {
      "text/plain": [
       "1.713855688712825"
      ]
     },
     "execution_count": 116,
     "metadata": {},
     "output_type": "execute_result"
    }
   ],
   "source": [
    "from sklearn.preprocessing import StandardScaler\n",
    "scaler = StandardScaler()\n",
    "scaled_score = scaler.fit_transform(df[['국어']].dropna())\n",
    "scaled_score.max()"
   ]
  },
  {
   "cell_type": "markdown",
   "metadata": {},
   "source": [
    "## Q2. 32개의 변수간 상관관계를 확인 했을 때, var_11 컬럼과 상관계수의 절댓값이 가장 큰 변수를 찾아 해당 변수의 평균값을 구하여라"
   ]
  },
  {
   "cell_type": "code",
   "execution_count": 117,
   "metadata": {},
   "outputs": [
    {
     "data": {
      "text/html": [
       "<div>\n",
       "<style scoped>\n",
       "    .dataframe tbody tr th:only-of-type {\n",
       "        vertical-align: middle;\n",
       "    }\n",
       "\n",
       "    .dataframe tbody tr th {\n",
       "        vertical-align: top;\n",
       "    }\n",
       "\n",
       "    .dataframe thead th {\n",
       "        text-align: right;\n",
       "    }\n",
       "</style>\n",
       "<table border=\"1\" class=\"dataframe\">\n",
       "  <thead>\n",
       "    <tr style=\"text-align: right;\">\n",
       "      <th></th>\n",
       "      <th>var_1</th>\n",
       "      <th>var_2</th>\n",
       "      <th>var_3</th>\n",
       "      <th>var_4</th>\n",
       "      <th>var_5</th>\n",
       "      <th>var_6</th>\n",
       "      <th>var_7</th>\n",
       "      <th>var_8</th>\n",
       "      <th>var_9</th>\n",
       "      <th>var_10</th>\n",
       "      <th>...</th>\n",
       "      <th>var_23</th>\n",
       "      <th>var_24</th>\n",
       "      <th>var_25</th>\n",
       "      <th>var_26</th>\n",
       "      <th>var_27</th>\n",
       "      <th>var_28</th>\n",
       "      <th>var_29</th>\n",
       "      <th>var_30</th>\n",
       "      <th>var_31</th>\n",
       "      <th>var_32</th>\n",
       "    </tr>\n",
       "  </thead>\n",
       "  <tbody>\n",
       "    <tr>\n",
       "      <th>0</th>\n",
       "      <td>-0.335864</td>\n",
       "      <td>-2.425701</td>\n",
       "      <td>0.452851</td>\n",
       "      <td>-1.381924</td>\n",
       "      <td>-0.425591</td>\n",
       "      <td>-1.461498</td>\n",
       "      <td>-0.417082</td>\n",
       "      <td>-0.944226</td>\n",
       "      <td>-0.351224</td>\n",
       "      <td>1.474046</td>\n",
       "      <td>...</td>\n",
       "      <td>1.715714</td>\n",
       "      <td>0.300227</td>\n",
       "      <td>0.439828</td>\n",
       "      <td>-0.094772</td>\n",
       "      <td>1.551995</td>\n",
       "      <td>3.308446</td>\n",
       "      <td>-0.391377</td>\n",
       "      <td>1.963829</td>\n",
       "      <td>-1.458605</td>\n",
       "      <td>-0.348652</td>\n",
       "    </tr>\n",
       "    <tr>\n",
       "      <th>1</th>\n",
       "      <td>0.803535</td>\n",
       "      <td>-0.699433</td>\n",
       "      <td>0.095579</td>\n",
       "      <td>0.788053</td>\n",
       "      <td>-0.267674</td>\n",
       "      <td>-0.370746</td>\n",
       "      <td>0.636034</td>\n",
       "      <td>-1.674584</td>\n",
       "      <td>-0.058465</td>\n",
       "      <td>-1.188973</td>\n",
       "      <td>...</td>\n",
       "      <td>-1.348879</td>\n",
       "      <td>-0.899480</td>\n",
       "      <td>-1.271886</td>\n",
       "      <td>0.333734</td>\n",
       "      <td>-0.373565</td>\n",
       "      <td>-2.091508</td>\n",
       "      <td>-0.715245</td>\n",
       "      <td>-0.688441</td>\n",
       "      <td>0.910927</td>\n",
       "      <td>-0.746899</td>\n",
       "    </tr>\n",
       "    <tr>\n",
       "      <th>2</th>\n",
       "      <td>-0.408470</td>\n",
       "      <td>-0.361105</td>\n",
       "      <td>-0.857278</td>\n",
       "      <td>0.338294</td>\n",
       "      <td>2.317821</td>\n",
       "      <td>-0.099928</td>\n",
       "      <td>0.557053</td>\n",
       "      <td>-0.847932</td>\n",
       "      <td>0.973471</td>\n",
       "      <td>0.101203</td>\n",
       "      <td>...</td>\n",
       "      <td>-0.388353</td>\n",
       "      <td>0.918553</td>\n",
       "      <td>-1.984422</td>\n",
       "      <td>0.385055</td>\n",
       "      <td>1.161414</td>\n",
       "      <td>-1.280253</td>\n",
       "      <td>2.831802</td>\n",
       "      <td>-0.953771</td>\n",
       "      <td>-0.228466</td>\n",
       "      <td>0.766254</td>\n",
       "    </tr>\n",
       "    <tr>\n",
       "      <th>3</th>\n",
       "      <td>-0.690599</td>\n",
       "      <td>0.777928</td>\n",
       "      <td>-0.079963</td>\n",
       "      <td>0.164086</td>\n",
       "      <td>1.721702</td>\n",
       "      <td>0.146761</td>\n",
       "      <td>-0.988636</td>\n",
       "      <td>0.885344</td>\n",
       "      <td>0.647053</td>\n",
       "      <td>0.674609</td>\n",
       "      <td>...</td>\n",
       "      <td>0.337074</td>\n",
       "      <td>-1.406224</td>\n",
       "      <td>-0.699728</td>\n",
       "      <td>-0.836068</td>\n",
       "      <td>-0.226315</td>\n",
       "      <td>1.260893</td>\n",
       "      <td>-0.781630</td>\n",
       "      <td>-0.219995</td>\n",
       "      <td>0.871289</td>\n",
       "      <td>0.017578</td>\n",
       "    </tr>\n",
       "    <tr>\n",
       "      <th>4</th>\n",
       "      <td>0.179819</td>\n",
       "      <td>-0.668267</td>\n",
       "      <td>0.381849</td>\n",
       "      <td>-0.884196</td>\n",
       "      <td>0.758519</td>\n",
       "      <td>-1.026190</td>\n",
       "      <td>0.986227</td>\n",
       "      <td>-1.663167</td>\n",
       "      <td>2.290551</td>\n",
       "      <td>0.564845</td>\n",
       "      <td>...</td>\n",
       "      <td>-0.700137</td>\n",
       "      <td>-0.153825</td>\n",
       "      <td>-1.835313</td>\n",
       "      <td>0.182131</td>\n",
       "      <td>0.890247</td>\n",
       "      <td>0.024791</td>\n",
       "      <td>1.489955</td>\n",
       "      <td>1.276357</td>\n",
       "      <td>-0.285144</td>\n",
       "      <td>1.066486</td>\n",
       "    </tr>\n",
       "  </tbody>\n",
       "</table>\n",
       "<p>5 rows × 32 columns</p>\n",
       "</div>"
      ],
      "text/plain": [
       "      var_1     var_2     var_3     var_4     var_5     var_6     var_7  \\\n",
       "0 -0.335864 -2.425701  0.452851 -1.381924 -0.425591 -1.461498 -0.417082   \n",
       "1  0.803535 -0.699433  0.095579  0.788053 -0.267674 -0.370746  0.636034   \n",
       "2 -0.408470 -0.361105 -0.857278  0.338294  2.317821 -0.099928  0.557053   \n",
       "3 -0.690599  0.777928 -0.079963  0.164086  1.721702  0.146761 -0.988636   \n",
       "4  0.179819 -0.668267  0.381849 -0.884196  0.758519 -1.026190  0.986227   \n",
       "\n",
       "      var_8     var_9    var_10  ...    var_23    var_24    var_25    var_26  \\\n",
       "0 -0.944226 -0.351224  1.474046  ...  1.715714  0.300227  0.439828 -0.094772   \n",
       "1 -1.674584 -0.058465 -1.188973  ... -1.348879 -0.899480 -1.271886  0.333734   \n",
       "2 -0.847932  0.973471  0.101203  ... -0.388353  0.918553 -1.984422  0.385055   \n",
       "3  0.885344  0.647053  0.674609  ...  0.337074 -1.406224 -0.699728 -0.836068   \n",
       "4 -1.663167  2.290551  0.564845  ... -0.700137 -0.153825 -1.835313  0.182131   \n",
       "\n",
       "     var_27    var_28    var_29    var_30    var_31    var_32  \n",
       "0  1.551995  3.308446 -0.391377  1.963829 -1.458605 -0.348652  \n",
       "1 -0.373565 -2.091508 -0.715245 -0.688441  0.910927 -0.746899  \n",
       "2  1.161414 -1.280253  2.831802 -0.953771 -0.228466  0.766254  \n",
       "3 -0.226315  1.260893 -0.781630 -0.219995  0.871289  0.017578  \n",
       "4  0.890247  0.024791  1.489955  1.276357 -0.285144  1.066486  \n",
       "\n",
       "[5 rows x 32 columns]"
      ]
     },
     "execution_count": 117,
     "metadata": {},
     "output_type": "execute_result"
    }
   ],
   "source": [
    "import pandas as pd\n",
    "df = pd.read_csv('https://raw.githubusercontent.com/Datamanim/datarepo/main/krdatacertificate/e7_p2_.csv')\n",
    "df.head(5)"
   ]
  },
  {
   "cell_type": "code",
   "execution_count": 118,
   "metadata": {},
   "outputs": [
    {
     "data": {
      "text/plain": [
       "'var_28'"
      ]
     },
     "execution_count": 118,
     "metadata": {},
     "output_type": "execute_result"
    }
   ],
   "source": [
    "df.corr()['var_11'].abs().sort_values(ascending=False).index[1] # var_28 "
   ]
  },
  {
   "cell_type": "code",
   "execution_count": 119,
   "metadata": {},
   "outputs": [
    {
     "data": {
      "text/plain": [
       "-0.06289356546077182"
      ]
     },
     "execution_count": 119,
     "metadata": {},
     "output_type": "execute_result"
    }
   ],
   "source": [
    "df['var_28'].mean()"
   ]
  },
  {
   "cell_type": "markdown",
   "metadata": {},
   "source": [
    "## Q3. **var_6 컬럼의 1,3사분위수 각각 IQR의 1.5배 벗어난 이상치의 갯수를 구하라 **"
   ]
  },
  {
   "cell_type": "code",
   "execution_count": 120,
   "metadata": {},
   "outputs": [
    {
     "data": {
      "text/html": [
       "<div>\n",
       "<style scoped>\n",
       "    .dataframe tbody tr th:only-of-type {\n",
       "        vertical-align: middle;\n",
       "    }\n",
       "\n",
       "    .dataframe tbody tr th {\n",
       "        vertical-align: top;\n",
       "    }\n",
       "\n",
       "    .dataframe thead th {\n",
       "        text-align: right;\n",
       "    }\n",
       "</style>\n",
       "<table border=\"1\" class=\"dataframe\">\n",
       "  <thead>\n",
       "    <tr style=\"text-align: right;\">\n",
       "      <th></th>\n",
       "      <th>var_1</th>\n",
       "      <th>var_2</th>\n",
       "      <th>var_3</th>\n",
       "      <th>var_4</th>\n",
       "      <th>var_5</th>\n",
       "      <th>var_6</th>\n",
       "      <th>var_7</th>\n",
       "      <th>var_8</th>\n",
       "      <th>var_9</th>\n",
       "      <th>var_10</th>\n",
       "      <th>var_11</th>\n",
       "      <th>var_12</th>\n",
       "    </tr>\n",
       "  </thead>\n",
       "  <tbody>\n",
       "    <tr>\n",
       "      <th>0</th>\n",
       "      <td>-0.401584</td>\n",
       "      <td>0.007198</td>\n",
       "      <td>-0.134910</td>\n",
       "      <td>-0.419514</td>\n",
       "      <td>-0.686331</td>\n",
       "      <td>-1.174550</td>\n",
       "      <td>-0.499150</td>\n",
       "      <td>-0.557510</td>\n",
       "      <td>0.357347</td>\n",
       "      <td>0.844209</td>\n",
       "      <td>0.082097</td>\n",
       "      <td>0.475098</td>\n",
       "    </tr>\n",
       "    <tr>\n",
       "      <th>1</th>\n",
       "      <td>1.064622</td>\n",
       "      <td>-0.531247</td>\n",
       "      <td>0.571185</td>\n",
       "      <td>-0.762243</td>\n",
       "      <td>-1.456043</td>\n",
       "      <td>0.355432</td>\n",
       "      <td>0.880010</td>\n",
       "      <td>0.523183</td>\n",
       "      <td>-0.141733</td>\n",
       "      <td>0.301472</td>\n",
       "      <td>0.840299</td>\n",
       "      <td>-0.045113</td>\n",
       "    </tr>\n",
       "    <tr>\n",
       "      <th>2</th>\n",
       "      <td>0.900195</td>\n",
       "      <td>-1.148496</td>\n",
       "      <td>-0.718437</td>\n",
       "      <td>-2.315266</td>\n",
       "      <td>-0.755505</td>\n",
       "      <td>0.630923</td>\n",
       "      <td>0.586027</td>\n",
       "      <td>0.086497</td>\n",
       "      <td>-0.381657</td>\n",
       "      <td>-1.602532</td>\n",
       "      <td>1.566340</td>\n",
       "      <td>-0.654105</td>\n",
       "    </tr>\n",
       "    <tr>\n",
       "      <th>3</th>\n",
       "      <td>1.199227</td>\n",
       "      <td>-0.114200</td>\n",
       "      <td>0.101536</td>\n",
       "      <td>-1.851971</td>\n",
       "      <td>-0.672844</td>\n",
       "      <td>0.796077</td>\n",
       "      <td>0.644246</td>\n",
       "      <td>-0.836296</td>\n",
       "      <td>-1.707074</td>\n",
       "      <td>0.376281</td>\n",
       "      <td>1.303967</td>\n",
       "      <td>1.228015</td>\n",
       "    </tr>\n",
       "    <tr>\n",
       "      <th>4</th>\n",
       "      <td>0.607393</td>\n",
       "      <td>1.675917</td>\n",
       "      <td>1.063759</td>\n",
       "      <td>-0.799493</td>\n",
       "      <td>-0.959568</td>\n",
       "      <td>-0.103007</td>\n",
       "      <td>-0.245984</td>\n",
       "      <td>-0.059492</td>\n",
       "      <td>0.293592</td>\n",
       "      <td>-0.517044</td>\n",
       "      <td>0.100772</td>\n",
       "      <td>0.403833</td>\n",
       "    </tr>\n",
       "  </tbody>\n",
       "</table>\n",
       "</div>"
      ],
      "text/plain": [
       "      var_1     var_2     var_3     var_4     var_5     var_6     var_7  \\\n",
       "0 -0.401584  0.007198 -0.134910 -0.419514 -0.686331 -1.174550 -0.499150   \n",
       "1  1.064622 -0.531247  0.571185 -0.762243 -1.456043  0.355432  0.880010   \n",
       "2  0.900195 -1.148496 -0.718437 -2.315266 -0.755505  0.630923  0.586027   \n",
       "3  1.199227 -0.114200  0.101536 -1.851971 -0.672844  0.796077  0.644246   \n",
       "4  0.607393  1.675917  1.063759 -0.799493 -0.959568 -0.103007 -0.245984   \n",
       "\n",
       "      var_8     var_9    var_10    var_11    var_12  \n",
       "0 -0.557510  0.357347  0.844209  0.082097  0.475098  \n",
       "1  0.523183 -0.141733  0.301472  0.840299 -0.045113  \n",
       "2  0.086497 -0.381657 -1.602532  1.566340 -0.654105  \n",
       "3 -0.836296 -1.707074  0.376281  1.303967  1.228015  \n",
       "4 -0.059492  0.293592 -0.517044  0.100772  0.403833  "
      ]
     },
     "execution_count": 120,
     "metadata": {},
     "output_type": "execute_result"
    }
   ],
   "source": [
    "import pandas as pd\n",
    "df = pd.read_csv('https://raw.githubusercontent.com/Datamanim/datarepo/main/krdatacertificate/e7_p3.csv')\n",
    "df.head(5)"
   ]
  },
  {
   "cell_type": "code",
   "execution_count": 121,
   "metadata": {},
   "outputs": [
    {
     "data": {
      "text/plain": [
       "8"
      ]
     },
     "execution_count": 121,
     "metadata": {},
     "output_type": "execute_result"
    }
   ],
   "source": [
    "Q1 = df['var_6'].quantile(0.25)\n",
    "Q3 = df['var_6'].quantile(0.75)\n",
    "IQR = Q3-Q1\n",
    "min_outline = Q1 - 1.5*IQR\n",
    "max_outline = Q3 + 1.5*IQR\n",
    "len(df['var_6'][(df['var_6']<min_outline) | (df['var_6']>max_outline)])\n"
   ]
  },
  {
   "cell_type": "markdown",
   "metadata": {},
   "source": [
    "# 작업2유형"
   ]
  },
  {
   "cell_type": "markdown",
   "metadata": {},
   "source": [
    "## Q1. 종속변수 :이용금액 예측, 평가지표 : rmse"
   ]
  },
  {
   "cell_type": "code",
   "execution_count": 122,
   "metadata": {},
   "outputs": [
    {
     "data": {
      "text/html": [
       "<div>\n",
       "<style scoped>\n",
       "    .dataframe tbody tr th:only-of-type {\n",
       "        vertical-align: middle;\n",
       "    }\n",
       "\n",
       "    .dataframe tbody tr th {\n",
       "        vertical-align: top;\n",
       "    }\n",
       "\n",
       "    .dataframe thead th {\n",
       "        text-align: right;\n",
       "    }\n",
       "</style>\n",
       "<table border=\"1\" class=\"dataframe\">\n",
       "  <thead>\n",
       "    <tr style=\"text-align: right;\">\n",
       "      <th></th>\n",
       "      <th>ID</th>\n",
       "      <th>연월</th>\n",
       "      <th>업종명</th>\n",
       "      <th>이용자구분</th>\n",
       "      <th>성별</th>\n",
       "      <th>이용자수</th>\n",
       "      <th>이용건수</th>\n",
       "      <th>이용금액</th>\n",
       "    </tr>\n",
       "  </thead>\n",
       "  <tbody>\n",
       "    <tr>\n",
       "      <th>0</th>\n",
       "      <td>ID_5020</td>\n",
       "      <td>202201</td>\n",
       "      <td>여관업</td>\n",
       "      <td>법인</td>\n",
       "      <td>알수없음</td>\n",
       "      <td>7693</td>\n",
       "      <td>12105</td>\n",
       "      <td>3049021809</td>\n",
       "    </tr>\n",
       "    <tr>\n",
       "      <th>1</th>\n",
       "      <td>ID_5021</td>\n",
       "      <td>202201</td>\n",
       "      <td>여관업</td>\n",
       "      <td>제주도민</td>\n",
       "      <td>남성</td>\n",
       "      <td>3990</td>\n",
       "      <td>4291</td>\n",
       "      <td>294163241</td>\n",
       "    </tr>\n",
       "  </tbody>\n",
       "</table>\n",
       "</div>"
      ],
      "text/plain": [
       "        ID      연월  업종명 이용자구분    성별  이용자수   이용건수        이용금액\n",
       "0  ID_5020  202201  여관업    법인  알수없음  7693  12105  3049021809\n",
       "1  ID_5021  202201  여관업  제주도민    남성  3990   4291   294163241"
      ]
     },
     "metadata": {},
     "output_type": "display_data"
    },
    {
     "data": {
      "text/html": [
       "<div>\n",
       "<style scoped>\n",
       "    .dataframe tbody tr th:only-of-type {\n",
       "        vertical-align: middle;\n",
       "    }\n",
       "\n",
       "    .dataframe tbody tr th {\n",
       "        vertical-align: top;\n",
       "    }\n",
       "\n",
       "    .dataframe thead th {\n",
       "        text-align: right;\n",
       "    }\n",
       "</style>\n",
       "<table border=\"1\" class=\"dataframe\">\n",
       "  <thead>\n",
       "    <tr style=\"text-align: right;\">\n",
       "      <th></th>\n",
       "      <th>ID</th>\n",
       "      <th>연월</th>\n",
       "      <th>업종명</th>\n",
       "      <th>이용자구분</th>\n",
       "      <th>성별</th>\n",
       "      <th>이용자수</th>\n",
       "      <th>이용건수</th>\n",
       "    </tr>\n",
       "  </thead>\n",
       "  <tbody>\n",
       "    <tr>\n",
       "      <th>0</th>\n",
       "      <td>ID_2575</td>\n",
       "      <td>201911</td>\n",
       "      <td>한식 음식점업</td>\n",
       "      <td>제주도민</td>\n",
       "      <td>여성</td>\n",
       "      <td>153363</td>\n",
       "      <td>163462</td>\n",
       "    </tr>\n",
       "    <tr>\n",
       "      <th>1</th>\n",
       "      <td>ID_6637</td>\n",
       "      <td>202305</td>\n",
       "      <td>건강보조식품 소매업</td>\n",
       "      <td>법인</td>\n",
       "      <td>알수없음</td>\n",
       "      <td>136</td>\n",
       "      <td>144</td>\n",
       "    </tr>\n",
       "  </tbody>\n",
       "</table>\n",
       "</div>"
      ],
      "text/plain": [
       "        ID      연월         업종명 이용자구분    성별    이용자수    이용건수\n",
       "0  ID_2575  201911     한식 음식점업  제주도민    여성  153363  163462\n",
       "1  ID_6637  202305  건강보조식품 소매업    법인  알수없음     136     144"
      ]
     },
     "execution_count": 122,
     "metadata": {},
     "output_type": "execute_result"
    }
   ],
   "source": [
    "import pandas as pd\n",
    "train = pd.read_csv('https://raw.githubusercontent.com/Datamanim/datarepo/main/krdatacertificate/e7_p2_train2.csv')\n",
    "test = pd.read_csv('https://raw.githubusercontent.com/Datamanim/datarepo/main/krdatacertificate/e7_p2_test2.csv')\n",
    "\n",
    "display(train.head(2))\n",
    "test.head(2)"
   ]
  },
  {
   "cell_type": "code",
   "execution_count": 123,
   "metadata": {},
   "outputs": [
    {
     "data": {
      "text/plain": [
       "(ID       0\n",
       " 연월       0\n",
       " 업종명      0\n",
       " 이용자구분    0\n",
       " 성별       0\n",
       " 이용자수     0\n",
       " 이용건수     0\n",
       " 이용금액     0\n",
       " dtype: int64,\n",
       " ID       0\n",
       " 연월       0\n",
       " 업종명      0\n",
       " 이용자구분    0\n",
       " 성별       0\n",
       " 이용자수     0\n",
       " 이용건수     0\n",
       " dtype: int64)"
      ]
     },
     "execution_count": 123,
     "metadata": {},
     "output_type": "execute_result"
    }
   ],
   "source": [
    "train.isna().sum(), test.isna().sum()"
   ]
  },
  {
   "cell_type": "code",
   "execution_count": 124,
   "metadata": {},
   "outputs": [
    {
     "name": "stdout",
     "output_type": "stream",
     "text": [
      "<class 'pandas.core.frame.DataFrame'>\n",
      "RangeIndex: 2245 entries, 0 to 2244\n",
      "Data columns (total 8 columns):\n",
      " #   Column  Non-Null Count  Dtype \n",
      "---  ------  --------------  ----- \n",
      " 0   ID      2245 non-null   object\n",
      " 1   연월      2245 non-null   int64 \n",
      " 2   업종명     2245 non-null   object\n",
      " 3   이용자구분   2245 non-null   object\n",
      " 4   성별      2245 non-null   object\n",
      " 5   이용자수    2245 non-null   int64 \n",
      " 6   이용건수    2245 non-null   int64 \n",
      " 7   이용금액    2245 non-null   int64 \n",
      "dtypes: int64(4), object(4)\n",
      "memory usage: 140.4+ KB\n"
     ]
    }
   ],
   "source": [
    "train.info()"
   ]
  },
  {
   "cell_type": "code",
   "execution_count": 125,
   "metadata": {},
   "outputs": [
    {
     "name": "stdout",
     "output_type": "stream",
     "text": [
      "<class 'pandas.core.frame.DataFrame'>\n",
      "RangeIndex: 5020 entries, 0 to 5019\n",
      "Data columns (total 7 columns):\n",
      " #   Column  Non-Null Count  Dtype \n",
      "---  ------  --------------  ----- \n",
      " 0   ID      5020 non-null   object\n",
      " 1   연월      5020 non-null   int64 \n",
      " 2   업종명     5020 non-null   object\n",
      " 3   이용자구분   5020 non-null   object\n",
      " 4   성별      5020 non-null   object\n",
      " 5   이용자수    5020 non-null   int64 \n",
      " 6   이용건수    5020 non-null   int64 \n",
      "dtypes: int64(3), object(4)\n",
      "memory usage: 274.7+ KB\n"
     ]
    }
   ],
   "source": [
    "test.info()"
   ]
  },
  {
   "cell_type": "code",
   "execution_count": 126,
   "metadata": {},
   "outputs": [
    {
     "data": {
      "text/html": [
       "<div>\n",
       "<style scoped>\n",
       "    .dataframe tbody tr th:only-of-type {\n",
       "        vertical-align: middle;\n",
       "    }\n",
       "\n",
       "    .dataframe tbody tr th {\n",
       "        vertical-align: top;\n",
       "    }\n",
       "\n",
       "    .dataframe thead th {\n",
       "        text-align: right;\n",
       "    }\n",
       "</style>\n",
       "<table border=\"1\" class=\"dataframe\">\n",
       "  <thead>\n",
       "    <tr style=\"text-align: right;\">\n",
       "      <th></th>\n",
       "      <th>ID</th>\n",
       "      <th>연월</th>\n",
       "      <th>업종명</th>\n",
       "      <th>이용자구분</th>\n",
       "      <th>성별</th>\n",
       "      <th>이용자수</th>\n",
       "      <th>이용건수</th>\n",
       "      <th>이용금액</th>\n",
       "    </tr>\n",
       "  </thead>\n",
       "  <tbody>\n",
       "    <tr>\n",
       "      <th>0</th>\n",
       "      <td>ID_5020</td>\n",
       "      <td>202201</td>\n",
       "      <td>여관업</td>\n",
       "      <td>법인</td>\n",
       "      <td>알수없음</td>\n",
       "      <td>7693</td>\n",
       "      <td>12105</td>\n",
       "      <td>3049021809</td>\n",
       "    </tr>\n",
       "    <tr>\n",
       "      <th>1</th>\n",
       "      <td>ID_5021</td>\n",
       "      <td>202201</td>\n",
       "      <td>여관업</td>\n",
       "      <td>제주도민</td>\n",
       "      <td>남성</td>\n",
       "      <td>3990</td>\n",
       "      <td>4291</td>\n",
       "      <td>294163241</td>\n",
       "    </tr>\n",
       "    <tr>\n",
       "      <th>2</th>\n",
       "      <td>ID_5022</td>\n",
       "      <td>202201</td>\n",
       "      <td>여관업</td>\n",
       "      <td>제주도민</td>\n",
       "      <td>여성</td>\n",
       "      <td>1495</td>\n",
       "      <td>1620</td>\n",
       "      <td>119277191</td>\n",
       "    </tr>\n",
       "    <tr>\n",
       "      <th>3</th>\n",
       "      <td>ID_5023</td>\n",
       "      <td>202201</td>\n",
       "      <td>전시 및 행사 대행업</td>\n",
       "      <td>내국인</td>\n",
       "      <td>남성</td>\n",
       "      <td>16299</td>\n",
       "      <td>18588</td>\n",
       "      <td>432933220</td>\n",
       "    </tr>\n",
       "    <tr>\n",
       "      <th>4</th>\n",
       "      <td>ID_5024</td>\n",
       "      <td>202201</td>\n",
       "      <td>전시 및 행사 대행업</td>\n",
       "      <td>내국인</td>\n",
       "      <td>여성</td>\n",
       "      <td>17350</td>\n",
       "      <td>19922</td>\n",
       "      <td>396316520</td>\n",
       "    </tr>\n",
       "  </tbody>\n",
       "</table>\n",
       "</div>"
      ],
      "text/plain": [
       "        ID      연월          업종명 이용자구분    성별   이용자수   이용건수        이용금액\n",
       "0  ID_5020  202201          여관업    법인  알수없음   7693  12105  3049021809\n",
       "1  ID_5021  202201          여관업  제주도민    남성   3990   4291   294163241\n",
       "2  ID_5022  202201          여관업  제주도민    여성   1495   1620   119277191\n",
       "3  ID_5023  202201  전시 및 행사 대행업   내국인    남성  16299  18588   432933220\n",
       "4  ID_5024  202201  전시 및 행사 대행업   내국인    여성  17350  19922   396316520"
      ]
     },
     "execution_count": 126,
     "metadata": {},
     "output_type": "execute_result"
    }
   ],
   "source": [
    "train.head()"
   ]
  },
  {
   "cell_type": "code",
   "execution_count": 127,
   "metadata": {},
   "outputs": [
    {
     "data": {
      "text/plain": [
       "ID       2245\n",
       "연월         22\n",
       "업종명        15\n",
       "이용자구분       7\n",
       "성별          3\n",
       "이용자수     1839\n",
       "이용건수     1856\n",
       "이용금액     2244\n",
       "dtype: int64"
      ]
     },
     "execution_count": 127,
     "metadata": {},
     "output_type": "execute_result"
    }
   ],
   "source": [
    "train.nunique()"
   ]
  },
  {
   "cell_type": "code",
   "execution_count": 128,
   "metadata": {},
   "outputs": [
    {
     "name": "stdout",
     "output_type": "stream",
     "text": [
      "<class 'pandas.core.frame.DataFrame'>\n",
      "RangeIndex: 2245 entries, 0 to 2244\n",
      "Data columns (total 8 columns):\n",
      " #   Column  Non-Null Count  Dtype \n",
      "---  ------  --------------  ----- \n",
      " 0   ID      2245 non-null   object\n",
      " 1   연월      2245 non-null   int64 \n",
      " 2   업종명     2245 non-null   object\n",
      " 3   이용자구분   2245 non-null   object\n",
      " 4   성별      2245 non-null   object\n",
      " 5   이용자수    2245 non-null   int64 \n",
      " 6   이용건수    2245 non-null   int64 \n",
      " 7   이용금액    2245 non-null   int64 \n",
      "dtypes: int64(4), object(4)\n",
      "memory usage: 140.4+ KB\n"
     ]
    }
   ],
   "source": [
    "train.info()"
   ]
  },
  {
   "cell_type": "code",
   "execution_count": 129,
   "metadata": {},
   "outputs": [
    {
     "data": {
      "text/html": [
       "<div>\n",
       "<style scoped>\n",
       "    .dataframe tbody tr th:only-of-type {\n",
       "        vertical-align: middle;\n",
       "    }\n",
       "\n",
       "    .dataframe tbody tr th {\n",
       "        vertical-align: top;\n",
       "    }\n",
       "\n",
       "    .dataframe thead th {\n",
       "        text-align: right;\n",
       "    }\n",
       "</style>\n",
       "<table border=\"1\" class=\"dataframe\">\n",
       "  <thead>\n",
       "    <tr style=\"text-align: right;\">\n",
       "      <th></th>\n",
       "      <th>연월</th>\n",
       "      <th>업종명</th>\n",
       "      <th>이용자구분</th>\n",
       "      <th>성별</th>\n",
       "      <th>이용자수</th>\n",
       "      <th>이용건수</th>\n",
       "      <th>이용금액</th>\n",
       "    </tr>\n",
       "  </thead>\n",
       "  <tbody>\n",
       "    <tr>\n",
       "      <th>0</th>\n",
       "      <td>202201</td>\n",
       "      <td>8</td>\n",
       "      <td>3</td>\n",
       "      <td>1</td>\n",
       "      <td>7693</td>\n",
       "      <td>12105</td>\n",
       "      <td>3.049022e+09</td>\n",
       "    </tr>\n",
       "    <tr>\n",
       "      <th>1</th>\n",
       "      <td>202201</td>\n",
       "      <td>8</td>\n",
       "      <td>5</td>\n",
       "      <td>0</td>\n",
       "      <td>3990</td>\n",
       "      <td>4291</td>\n",
       "      <td>2.941632e+08</td>\n",
       "    </tr>\n",
       "    <tr>\n",
       "      <th>2</th>\n",
       "      <td>202201</td>\n",
       "      <td>8</td>\n",
       "      <td>5</td>\n",
       "      <td>2</td>\n",
       "      <td>1495</td>\n",
       "      <td>1620</td>\n",
       "      <td>1.192772e+08</td>\n",
       "    </tr>\n",
       "    <tr>\n",
       "      <th>3</th>\n",
       "      <td>202201</td>\n",
       "      <td>9</td>\n",
       "      <td>1</td>\n",
       "      <td>0</td>\n",
       "      <td>16299</td>\n",
       "      <td>18588</td>\n",
       "      <td>4.329332e+08</td>\n",
       "    </tr>\n",
       "    <tr>\n",
       "      <th>4</th>\n",
       "      <td>202201</td>\n",
       "      <td>9</td>\n",
       "      <td>1</td>\n",
       "      <td>2</td>\n",
       "      <td>17350</td>\n",
       "      <td>19922</td>\n",
       "      <td>3.963165e+08</td>\n",
       "    </tr>\n",
       "  </tbody>\n",
       "</table>\n",
       "</div>"
      ],
      "text/plain": [
       "       연월  업종명  이용자구분  성별   이용자수   이용건수          이용금액\n",
       "0  202201    8      3   1   7693  12105  3.049022e+09\n",
       "1  202201    8      5   0   3990   4291  2.941632e+08\n",
       "2  202201    8      5   2   1495   1620  1.192772e+08\n",
       "3  202201    9      1   0  16299  18588  4.329332e+08\n",
       "4  202201    9      1   2  17350  19922  3.963165e+08"
      ]
     },
     "execution_count": 129,
     "metadata": {},
     "output_type": "execute_result"
    }
   ],
   "source": [
    "# type이 object은 변수 레이블 인코딩\n",
    "# LightGBM은 피처 이름에 특수 문자가 포함된 경우 처리하지 못하고, 실행시간 1분미만으로 원핫인코딩 대신 레이블 인코딩 선택\n",
    "from sklearn.preprocessing import LabelEncoder\n",
    "encoder = LabelEncoder()\n",
    "df = pd.concat([train,test],axis=0)\n",
    "df = df.drop('ID',axis=1)\n",
    "cols = df.select_dtypes(include=\"object\").columns\n",
    "cols\n",
    "for col in cols:\n",
    "    df[col] = encoder.fit_transform(df[col])\n",
    "df.head()"
   ]
  },
  {
   "cell_type": "code",
   "execution_count": 130,
   "metadata": {},
   "outputs": [
    {
     "data": {
      "text/html": [
       "<div>\n",
       "<style scoped>\n",
       "    .dataframe tbody tr th:only-of-type {\n",
       "        vertical-align: middle;\n",
       "    }\n",
       "\n",
       "    .dataframe tbody tr th {\n",
       "        vertical-align: top;\n",
       "    }\n",
       "\n",
       "    .dataframe thead th {\n",
       "        text-align: right;\n",
       "    }\n",
       "</style>\n",
       "<table border=\"1\" class=\"dataframe\">\n",
       "  <thead>\n",
       "    <tr style=\"text-align: right;\">\n",
       "      <th></th>\n",
       "      <th>연월</th>\n",
       "      <th>업종명</th>\n",
       "      <th>이용자구분</th>\n",
       "      <th>성별</th>\n",
       "      <th>이용자수</th>\n",
       "      <th>이용건수</th>\n",
       "    </tr>\n",
       "  </thead>\n",
       "  <tbody>\n",
       "    <tr>\n",
       "      <th>0</th>\n",
       "      <td>201911</td>\n",
       "      <td>12</td>\n",
       "      <td>5</td>\n",
       "      <td>2</td>\n",
       "      <td>153363</td>\n",
       "      <td>163462</td>\n",
       "    </tr>\n",
       "    <tr>\n",
       "      <th>1</th>\n",
       "      <td>202305</td>\n",
       "      <td>0</td>\n",
       "      <td>3</td>\n",
       "      <td>1</td>\n",
       "      <td>136</td>\n",
       "      <td>144</td>\n",
       "    </tr>\n",
       "    <tr>\n",
       "      <th>2</th>\n",
       "      <td>202208</td>\n",
       "      <td>7</td>\n",
       "      <td>0</td>\n",
       "      <td>1</td>\n",
       "      <td>26</td>\n",
       "      <td>26</td>\n",
       "    </tr>\n",
       "    <tr>\n",
       "      <th>3</th>\n",
       "      <td>202010</td>\n",
       "      <td>5</td>\n",
       "      <td>0</td>\n",
       "      <td>1</td>\n",
       "      <td>83</td>\n",
       "      <td>87</td>\n",
       "    </tr>\n",
       "    <tr>\n",
       "      <th>4</th>\n",
       "      <td>202303</td>\n",
       "      <td>4</td>\n",
       "      <td>6</td>\n",
       "      <td>1</td>\n",
       "      <td>27</td>\n",
       "      <td>35</td>\n",
       "    </tr>\n",
       "  </tbody>\n",
       "</table>\n",
       "</div>"
      ],
      "text/plain": [
       "       연월  업종명  이용자구분  성별    이용자수    이용건수\n",
       "0  201911   12      5   2  153363  163462\n",
       "1  202305    0      3   1     136     144\n",
       "2  202208    7      0   1      26      26\n",
       "3  202010    5      0   1      83      87\n",
       "4  202303    4      6   1      27      35"
      ]
     },
     "execution_count": 130,
     "metadata": {},
     "output_type": "execute_result"
    }
   ],
   "source": [
    "n_train = len(train)\n",
    "train_df = df.iloc[:n_train]\n",
    "test_df = df.iloc[n_train:]\n",
    "test_df = test_df.drop('이용금액',axis=1)\n",
    "test_df.head()"
   ]
  },
  {
   "cell_type": "code",
   "execution_count": 131,
   "metadata": {},
   "outputs": [],
   "source": [
    "from sklearn.model_selection import train_test_split\n",
    "y = train_df['이용금액']\n",
    "X = train_df.drop('이용금액',axis=1)\n",
    "\n",
    "X_train, X_test, y_train, y_test = train_test_split(X,y, test_size=0.2, random_state=42)"
   ]
  },
  {
   "cell_type": "code",
   "execution_count": 132,
   "metadata": {},
   "outputs": [
    {
     "data": {
      "text/plain": [
       "204645542.23007306"
      ]
     },
     "execution_count": 132,
     "metadata": {},
     "output_type": "execute_result"
    }
   ],
   "source": [
    "from sklearn.ensemble import RandomForestRegressor\n",
    "from lightgbm import LGBMRegressor\n",
    "from sklearn.metrics import mean_squared_error\n",
    "import numpy as np\n",
    "\n",
    "model_rf = RandomForestRegressor(random_state=42)\n",
    "model_rf.fit(X_train, y_train)\n",
    "y_pred_rf = model_rf.predict(X_test)\n",
    "score_rf = mean_squared_error(y_test, y_pred_rf)\n",
    "np.sqrt(score_rf)"
   ]
  },
  {
   "cell_type": "code",
   "execution_count": 133,
   "metadata": {},
   "outputs": [
    {
     "data": {
      "text/plain": [
       "219398705.21903247"
      ]
     },
     "execution_count": 133,
     "metadata": {},
     "output_type": "execute_result"
    }
   ],
   "source": [
    "from lightgbm import LGBMRegressor\n",
    "model_lgbm = LGBMRegressor(random_state=42)\n",
    "model_lgbm.fit(X_train, y_train)\n",
    "y_pred_lgbm = model_lgbm.predict(X_test)\n",
    "score_lgbm = mean_squared_error(y_test, y_pred_lgbm)\n",
    "np.sqrt(score_lgbm)"
   ]
  },
  {
   "cell_type": "code",
   "execution_count": 134,
   "metadata": {},
   "outputs": [
    {
     "data": {
      "text/plain": [
       "array([7.47518615e+09, 4.87946968e+07, 2.61024076e+06, ...,\n",
       "       5.27776460e+09, 9.36554705e+08, 8.88352544e+08])"
      ]
     },
     "execution_count": 134,
     "metadata": {},
     "output_type": "execute_result"
    }
   ],
   "source": [
    "y_pred = model_rf.predict(test_df)\n",
    "y_pred "
   ]
  },
  {
   "cell_type": "code",
   "execution_count": 135,
   "metadata": {},
   "outputs": [
    {
     "data": {
      "text/html": [
       "<div>\n",
       "<style scoped>\n",
       "    .dataframe tbody tr th:only-of-type {\n",
       "        vertical-align: middle;\n",
       "    }\n",
       "\n",
       "    .dataframe tbody tr th {\n",
       "        vertical-align: top;\n",
       "    }\n",
       "\n",
       "    .dataframe thead th {\n",
       "        text-align: right;\n",
       "    }\n",
       "</style>\n",
       "<table border=\"1\" class=\"dataframe\">\n",
       "  <thead>\n",
       "    <tr style=\"text-align: right;\">\n",
       "      <th></th>\n",
       "      <th>이용금액</th>\n",
       "    </tr>\n",
       "  </thead>\n",
       "  <tbody>\n",
       "    <tr>\n",
       "      <th>0</th>\n",
       "      <td>7.475186e+09</td>\n",
       "    </tr>\n",
       "    <tr>\n",
       "      <th>1</th>\n",
       "      <td>4.879470e+07</td>\n",
       "    </tr>\n",
       "    <tr>\n",
       "      <th>2</th>\n",
       "      <td>2.610241e+06</td>\n",
       "    </tr>\n",
       "    <tr>\n",
       "      <th>3</th>\n",
       "      <td>1.031211e+07</td>\n",
       "    </tr>\n",
       "    <tr>\n",
       "      <th>4</th>\n",
       "      <td>5.272512e+05</td>\n",
       "    </tr>\n",
       "    <tr>\n",
       "      <th>...</th>\n",
       "      <td>...</td>\n",
       "    </tr>\n",
       "    <tr>\n",
       "      <th>5015</th>\n",
       "      <td>3.746385e+08</td>\n",
       "    </tr>\n",
       "    <tr>\n",
       "      <th>5016</th>\n",
       "      <td>1.527021e+08</td>\n",
       "    </tr>\n",
       "    <tr>\n",
       "      <th>5017</th>\n",
       "      <td>5.277765e+09</td>\n",
       "    </tr>\n",
       "    <tr>\n",
       "      <th>5018</th>\n",
       "      <td>9.365547e+08</td>\n",
       "    </tr>\n",
       "    <tr>\n",
       "      <th>5019</th>\n",
       "      <td>8.883525e+08</td>\n",
       "    </tr>\n",
       "  </tbody>\n",
       "</table>\n",
       "<p>5020 rows × 1 columns</p>\n",
       "</div>"
      ],
      "text/plain": [
       "              이용금액\n",
       "0     7.475186e+09\n",
       "1     4.879470e+07\n",
       "2     2.610241e+06\n",
       "3     1.031211e+07\n",
       "4     5.272512e+05\n",
       "...            ...\n",
       "5015  3.746385e+08\n",
       "5016  1.527021e+08\n",
       "5017  5.277765e+09\n",
       "5018  9.365547e+08\n",
       "5019  8.883525e+08\n",
       "\n",
       "[5020 rows x 1 columns]"
      ]
     },
     "execution_count": 135,
     "metadata": {},
     "output_type": "execute_result"
    }
   ],
   "source": [
    "result = pd.DataFrame({\n",
    "    \"이용금액\":y_pred\n",
    "})\n",
    "\n",
    "result"
   ]
  },
  {
   "cell_type": "code",
   "execution_count": 112,
   "metadata": {},
   "outputs": [],
   "source": [
    "# result.to_csv('result.csv', index=False)"
   ]
  },
  {
   "cell_type": "markdown",
   "metadata": {},
   "source": [
    "# 작업형3"
   ]
  },
  {
   "cell_type": "markdown",
   "metadata": {},
   "source": [
    "## Q1. 선형관계 가장 큰 변수 찾아 상관계수를 구하여라"
   ]
  },
  {
   "cell_type": "code",
   "execution_count": 136,
   "metadata": {},
   "outputs": [
    {
     "data": {
      "text/html": [
       "<div>\n",
       "<style scoped>\n",
       "    .dataframe tbody tr th:only-of-type {\n",
       "        vertical-align: middle;\n",
       "    }\n",
       "\n",
       "    .dataframe tbody tr th {\n",
       "        vertical-align: top;\n",
       "    }\n",
       "\n",
       "    .dataframe thead th {\n",
       "        text-align: right;\n",
       "    }\n",
       "</style>\n",
       "<table border=\"1\" class=\"dataframe\">\n",
       "  <thead>\n",
       "    <tr style=\"text-align: right;\">\n",
       "      <th></th>\n",
       "      <th>Target</th>\n",
       "      <th>v1</th>\n",
       "      <th>v2</th>\n",
       "      <th>v3</th>\n",
       "      <th>v4</th>\n",
       "      <th>v5</th>\n",
       "      <th>v6</th>\n",
       "      <th>v7</th>\n",
       "      <th>v8</th>\n",
       "      <th>v9</th>\n",
       "      <th>...</th>\n",
       "      <th>v12</th>\n",
       "      <th>v13</th>\n",
       "      <th>v14</th>\n",
       "      <th>v15</th>\n",
       "      <th>v16</th>\n",
       "      <th>v17</th>\n",
       "      <th>v18</th>\n",
       "      <th>v19</th>\n",
       "      <th>v20</th>\n",
       "      <th>v21</th>\n",
       "    </tr>\n",
       "  </thead>\n",
       "  <tbody>\n",
       "    <tr>\n",
       "      <th>0</th>\n",
       "      <td>21.650072</td>\n",
       "      <td>0.496714</td>\n",
       "      <td>-0.138264</td>\n",
       "      <td>0.647689</td>\n",
       "      <td>1.523030</td>\n",
       "      <td>-0.234153</td>\n",
       "      <td>-0.234137</td>\n",
       "      <td>1.579213</td>\n",
       "      <td>0.767435</td>\n",
       "      <td>-0.469474</td>\n",
       "      <td>...</td>\n",
       "      <td>-0.465730</td>\n",
       "      <td>0.241962</td>\n",
       "      <td>-1.913280</td>\n",
       "      <td>-1.724918</td>\n",
       "      <td>-0.562288</td>\n",
       "      <td>-1.012831</td>\n",
       "      <td>0.314247</td>\n",
       "      <td>-0.908024</td>\n",
       "      <td>-1.412304</td>\n",
       "      <td>1.465649</td>\n",
       "    </tr>\n",
       "    <tr>\n",
       "      <th>1</th>\n",
       "      <td>-19.469855</td>\n",
       "      <td>-0.225776</td>\n",
       "      <td>0.067528</td>\n",
       "      <td>-1.424748</td>\n",
       "      <td>-0.544383</td>\n",
       "      <td>0.110923</td>\n",
       "      <td>-1.150994</td>\n",
       "      <td>0.375698</td>\n",
       "      <td>-0.600639</td>\n",
       "      <td>-0.291694</td>\n",
       "      <td>...</td>\n",
       "      <td>-0.013497</td>\n",
       "      <td>-1.057711</td>\n",
       "      <td>0.822545</td>\n",
       "      <td>-1.220844</td>\n",
       "      <td>0.208864</td>\n",
       "      <td>-1.959670</td>\n",
       "      <td>-1.328186</td>\n",
       "      <td>0.196861</td>\n",
       "      <td>0.738467</td>\n",
       "      <td>0.171368</td>\n",
       "    </tr>\n",
       "    <tr>\n",
       "      <th>2</th>\n",
       "      <td>-24.475600</td>\n",
       "      <td>-0.115648</td>\n",
       "      <td>-0.301104</td>\n",
       "      <td>-1.478522</td>\n",
       "      <td>-0.719844</td>\n",
       "      <td>-0.460639</td>\n",
       "      <td>1.057122</td>\n",
       "      <td>0.343618</td>\n",
       "      <td>-1.763040</td>\n",
       "      <td>0.324084</td>\n",
       "      <td>...</td>\n",
       "      <td>0.611676</td>\n",
       "      <td>1.031000</td>\n",
       "      <td>0.931280</td>\n",
       "      <td>-0.839218</td>\n",
       "      <td>-0.309212</td>\n",
       "      <td>0.331263</td>\n",
       "      <td>0.975545</td>\n",
       "      <td>-0.479174</td>\n",
       "      <td>-0.185659</td>\n",
       "      <td>-1.106335</td>\n",
       "    </tr>\n",
       "    <tr>\n",
       "      <th>3</th>\n",
       "      <td>13.476831</td>\n",
       "      <td>-1.196207</td>\n",
       "      <td>0.812526</td>\n",
       "      <td>1.356240</td>\n",
       "      <td>-0.072010</td>\n",
       "      <td>1.003533</td>\n",
       "      <td>0.361636</td>\n",
       "      <td>-0.645120</td>\n",
       "      <td>0.361396</td>\n",
       "      <td>1.538037</td>\n",
       "      <td>...</td>\n",
       "      <td>-2.619745</td>\n",
       "      <td>0.821903</td>\n",
       "      <td>0.087047</td>\n",
       "      <td>-0.299007</td>\n",
       "      <td>0.091761</td>\n",
       "      <td>-1.987569</td>\n",
       "      <td>-0.219672</td>\n",
       "      <td>0.357113</td>\n",
       "      <td>1.477894</td>\n",
       "      <td>-0.518270</td>\n",
       "    </tr>\n",
       "    <tr>\n",
       "      <th>4</th>\n",
       "      <td>3.505322</td>\n",
       "      <td>-0.808494</td>\n",
       "      <td>-0.501757</td>\n",
       "      <td>0.915402</td>\n",
       "      <td>0.328751</td>\n",
       "      <td>-0.529760</td>\n",
       "      <td>0.513267</td>\n",
       "      <td>0.097078</td>\n",
       "      <td>0.968645</td>\n",
       "      <td>-0.702053</td>\n",
       "      <td>...</td>\n",
       "      <td>-1.463515</td>\n",
       "      <td>0.296120</td>\n",
       "      <td>0.261055</td>\n",
       "      <td>0.005113</td>\n",
       "      <td>-0.234587</td>\n",
       "      <td>-1.415371</td>\n",
       "      <td>-0.420645</td>\n",
       "      <td>-0.342715</td>\n",
       "      <td>-0.802277</td>\n",
       "      <td>-0.161286</td>\n",
       "    </tr>\n",
       "  </tbody>\n",
       "</table>\n",
       "<p>5 rows × 22 columns</p>\n",
       "</div>"
      ],
      "text/plain": [
       "      Target        v1        v2        v3        v4        v5        v6  \\\n",
       "0  21.650072  0.496714 -0.138264  0.647689  1.523030 -0.234153 -0.234137   \n",
       "1 -19.469855 -0.225776  0.067528 -1.424748 -0.544383  0.110923 -1.150994   \n",
       "2 -24.475600 -0.115648 -0.301104 -1.478522 -0.719844 -0.460639  1.057122   \n",
       "3  13.476831 -1.196207  0.812526  1.356240 -0.072010  1.003533  0.361636   \n",
       "4   3.505322 -0.808494 -0.501757  0.915402  0.328751 -0.529760  0.513267   \n",
       "\n",
       "         v7        v8        v9  ...       v12       v13       v14       v15  \\\n",
       "0  1.579213  0.767435 -0.469474  ... -0.465730  0.241962 -1.913280 -1.724918   \n",
       "1  0.375698 -0.600639 -0.291694  ... -0.013497 -1.057711  0.822545 -1.220844   \n",
       "2  0.343618 -1.763040  0.324084  ...  0.611676  1.031000  0.931280 -0.839218   \n",
       "3 -0.645120  0.361396  1.538037  ... -2.619745  0.821903  0.087047 -0.299007   \n",
       "4  0.097078  0.968645 -0.702053  ... -1.463515  0.296120  0.261055  0.005113   \n",
       "\n",
       "        v16       v17       v18       v19       v20       v21  \n",
       "0 -0.562288 -1.012831  0.314247 -0.908024 -1.412304  1.465649  \n",
       "1  0.208864 -1.959670 -1.328186  0.196861  0.738467  0.171368  \n",
       "2 -0.309212  0.331263  0.975545 -0.479174 -0.185659 -1.106335  \n",
       "3  0.091761 -1.987569 -0.219672  0.357113  1.477894 -0.518270  \n",
       "4 -0.234587 -1.415371 -0.420645 -0.342715 -0.802277 -0.161286  \n",
       "\n",
       "[5 rows x 22 columns]"
      ]
     },
     "execution_count": 136,
     "metadata": {},
     "output_type": "execute_result"
    }
   ],
   "source": [
    "import pandas as pd\n",
    "df=pd.read_csv('https://raw.githubusercontent.com/Datamanim/datarepo/main/krdatacertificate/e7_p3_1.csv')\n",
    "df.head()"
   ]
  },
  {
   "cell_type": "code",
   "execution_count": 137,
   "metadata": {},
   "outputs": [
    {
     "data": {
      "text/plain": [
       "Target    0\n",
       "v1        0\n",
       "v2        0\n",
       "v3        0\n",
       "v4        0\n",
       "v5        0\n",
       "v6        0\n",
       "v7        0\n",
       "v8        0\n",
       "v9        0\n",
       "v10       0\n",
       "v11       0\n",
       "v12       0\n",
       "v13       0\n",
       "v14       0\n",
       "v15       0\n",
       "v16       0\n",
       "v17       0\n",
       "v18       0\n",
       "v19       0\n",
       "v20       0\n",
       "v21       0\n",
       "dtype: int64"
      ]
     },
     "execution_count": 137,
     "metadata": {},
     "output_type": "execute_result"
    }
   ],
   "source": [
    "df.isna().sum()"
   ]
  },
  {
   "cell_type": "code",
   "execution_count": null,
   "metadata": {},
   "outputs": [
    {
     "data": {
      "text/plain": [
       "Target    1.000000\n",
       "v3        0.627025\n",
       "Name: Target, dtype: float64"
      ]
     },
     "execution_count": 146,
     "metadata": {},
     "output_type": "execute_result"
    }
   ],
   "source": [
    "df.corr()['Target'].abs().sort_values(ascending=False).head(2) # v3"
   ]
  },
  {
   "cell_type": "markdown",
   "metadata": {},
   "source": [
    "## Q2. Target 변수를 종속변수로 하여 다중선형회귀모델링을 진행했을 때 v2 컬럼의 회귀 계수는?"
   ]
  },
  {
   "cell_type": "code",
   "execution_count": 147,
   "metadata": {},
   "outputs": [
    {
     "name": "stdout",
     "output_type": "stream",
     "text": [
      "<class 'pandas.core.frame.DataFrame'>\n",
      "RangeIndex: 1000 entries, 0 to 999\n",
      "Data columns (total 22 columns):\n",
      " #   Column  Non-Null Count  Dtype  \n",
      "---  ------  --------------  -----  \n",
      " 0   Target  1000 non-null   float64\n",
      " 1   v1      1000 non-null   float64\n",
      " 2   v2      1000 non-null   float64\n",
      " 3   v3      1000 non-null   float64\n",
      " 4   v4      1000 non-null   float64\n",
      " 5   v5      1000 non-null   float64\n",
      " 6   v6      1000 non-null   float64\n",
      " 7   v7      1000 non-null   float64\n",
      " 8   v8      1000 non-null   float64\n",
      " 9   v9      1000 non-null   float64\n",
      " 10  v10     1000 non-null   float64\n",
      " 11  v11     1000 non-null   float64\n",
      " 12  v12     1000 non-null   float64\n",
      " 13  v13     1000 non-null   float64\n",
      " 14  v14     1000 non-null   float64\n",
      " 15  v15     1000 non-null   float64\n",
      " 16  v16     1000 non-null   float64\n",
      " 17  v17     1000 non-null   float64\n",
      " 18  v18     1000 non-null   float64\n",
      " 19  v19     1000 non-null   float64\n",
      " 20  v20     1000 non-null   float64\n",
      " 21  v21     1000 non-null   float64\n",
      "dtypes: float64(22)\n",
      "memory usage: 172.0 KB\n"
     ]
    }
   ],
   "source": [
    "df.info()"
   ]
  },
  {
   "cell_type": "code",
   "execution_count": 152,
   "metadata": {},
   "outputs": [],
   "source": [
    "X = df.drop('Target',axis=1)\n",
    "y  = df['Target']"
   ]
  },
  {
   "cell_type": "code",
   "execution_count": 158,
   "metadata": {},
   "outputs": [
    {
     "data": {
      "text/plain": [
       "6.440301364843064"
      ]
     },
     "execution_count": 158,
     "metadata": {},
     "output_type": "execute_result"
    }
   ],
   "source": [
    "import statsmodels.api as sm\n",
    "X = sm.add_constant(X)\n",
    "model = sm.OLS(y, X).fit()\n",
    "model.params['v2']\t\n"
   ]
  },
  {
   "cell_type": "markdown",
   "metadata": {},
   "source": [
    "## Q3. 회귀 계수들이 가지는 p값들 중 최대 값은?"
   ]
  },
  {
   "cell_type": "code",
   "execution_count": 160,
   "metadata": {},
   "outputs": [
    {
     "data": {
      "text/plain": [
       "0.9265545986906569"
      ]
     },
     "execution_count": 160,
     "metadata": {},
     "output_type": "execute_result"
    }
   ],
   "source": [
    "model.pvalues.max()"
   ]
  },
  {
   "cell_type": "code",
   "execution_count": 161,
   "metadata": {},
   "outputs": [
    {
     "data": {
      "text/html": [
       "<table class=\"simpletable\">\n",
       "<caption>OLS Regression Results</caption>\n",
       "<tr>\n",
       "  <th>Dep. Variable:</th>         <td>Target</td>      <th>  R-squared:         </th> <td>   0.999</td> \n",
       "</tr>\n",
       "<tr>\n",
       "  <th>Model:</th>                   <td>OLS</td>       <th>  Adj. R-squared:    </th> <td>   0.999</td> \n",
       "</tr>\n",
       "<tr>\n",
       "  <th>Method:</th>             <td>Least Squares</td>  <th>  F-statistic:       </th> <td>5.228e+04</td>\n",
       "</tr>\n",
       "<tr>\n",
       "  <th>Date:</th>             <td>Fri, 22 Nov 2024</td> <th>  Prob (F-statistic):</th>  <td>  0.00</td>  \n",
       "</tr>\n",
       "<tr>\n",
       "  <th>Time:</th>                 <td>10:07:19</td>     <th>  Log-Likelihood:    </th> <td> -707.67</td> \n",
       "</tr>\n",
       "<tr>\n",
       "  <th>No. Observations:</th>      <td>  1000</td>      <th>  AIC:               </th> <td>   1459.</td> \n",
       "</tr>\n",
       "<tr>\n",
       "  <th>Df Residuals:</th>          <td>   978</td>      <th>  BIC:               </th> <td>   1567.</td> \n",
       "</tr>\n",
       "<tr>\n",
       "  <th>Df Model:</th>              <td>    21</td>      <th>                     </th>     <td> </td>    \n",
       "</tr>\n",
       "<tr>\n",
       "  <th>Covariance Type:</th>      <td>nonrobust</td>    <th>                     </th>     <td> </td>    \n",
       "</tr>\n",
       "</table>\n",
       "<table class=\"simpletable\">\n",
       "<tr>\n",
       "    <td></td>       <th>coef</th>     <th>std err</th>      <th>t</th>      <th>P>|t|</th>  <th>[0.025</th>    <th>0.975]</th>  \n",
       "</tr>\n",
       "<tr>\n",
       "  <th>const</th> <td>    0.0118</td> <td>    0.016</td> <td>    0.739</td> <td> 0.460</td> <td>   -0.019</td> <td>    0.043</td>\n",
       "</tr>\n",
       "<tr>\n",
       "  <th>v1</th>    <td>    5.5360</td> <td>    0.016</td> <td>  353.805</td> <td> 0.000</td> <td>    5.505</td> <td>    5.567</td>\n",
       "</tr>\n",
       "<tr>\n",
       "  <th>v2</th>    <td>    6.4403</td> <td>    0.016</td> <td>  410.550</td> <td> 0.000</td> <td>    6.410</td> <td>    6.471</td>\n",
       "</tr>\n",
       "<tr>\n",
       "  <th>v3</th>    <td>    9.6506</td> <td>    0.016</td> <td>  614.757</td> <td> 0.000</td> <td>    9.620</td> <td>    9.681</td>\n",
       "</tr>\n",
       "<tr>\n",
       "  <th>v4</th>    <td>    8.9758</td> <td>    0.016</td> <td>  576.776</td> <td> 0.000</td> <td>    8.945</td> <td>    9.006</td>\n",
       "</tr>\n",
       "<tr>\n",
       "  <th>v5</th>    <td>    1.9523</td> <td>    0.016</td> <td>  124.711</td> <td> 0.000</td> <td>    1.922</td> <td>    1.983</td>\n",
       "</tr>\n",
       "<tr>\n",
       "  <th>v6</th>    <td>    0.0145</td> <td>    0.016</td> <td>    0.899</td> <td> 0.369</td> <td>   -0.017</td> <td>    0.046</td>\n",
       "</tr>\n",
       "<tr>\n",
       "  <th>v7</th>    <td>   -0.0023</td> <td>    0.016</td> <td>   -0.140</td> <td> 0.888</td> <td>   -0.034</td> <td>    0.029</td>\n",
       "</tr>\n",
       "<tr>\n",
       "  <th>v8</th>    <td>    0.0173</td> <td>    0.016</td> <td>    1.096</td> <td> 0.274</td> <td>   -0.014</td> <td>    0.048</td>\n",
       "</tr>\n",
       "<tr>\n",
       "  <th>v9</th>    <td>   -0.0123</td> <td>    0.016</td> <td>   -0.781</td> <td> 0.435</td> <td>   -0.043</td> <td>    0.019</td>\n",
       "</tr>\n",
       "<tr>\n",
       "  <th>v10</th>   <td>   -0.0019</td> <td>    0.016</td> <td>   -0.117</td> <td> 0.906</td> <td>   -0.033</td> <td>    0.030</td>\n",
       "</tr>\n",
       "<tr>\n",
       "  <th>v11</th>   <td>    0.0171</td> <td>    0.016</td> <td>    1.099</td> <td> 0.272</td> <td>   -0.013</td> <td>    0.048</td>\n",
       "</tr>\n",
       "<tr>\n",
       "  <th>v12</th>   <td>    0.0161</td> <td>    0.016</td> <td>    1.018</td> <td> 0.309</td> <td>   -0.015</td> <td>    0.047</td>\n",
       "</tr>\n",
       "<tr>\n",
       "  <th>v13</th>   <td>   -0.0167</td> <td>    0.016</td> <td>   -1.058</td> <td> 0.290</td> <td>   -0.048</td> <td>    0.014</td>\n",
       "</tr>\n",
       "<tr>\n",
       "  <th>v14</th>   <td>    0.0068</td> <td>    0.016</td> <td>    0.412</td> <td> 0.681</td> <td>   -0.026</td> <td>    0.039</td>\n",
       "</tr>\n",
       "<tr>\n",
       "  <th>v15</th>   <td>   -0.0432</td> <td>    0.017</td> <td>   -2.605</td> <td> 0.009</td> <td>   -0.076</td> <td>   -0.011</td>\n",
       "</tr>\n",
       "<tr>\n",
       "  <th>v16</th>   <td>    0.0117</td> <td>    0.016</td> <td>    0.749</td> <td> 0.454</td> <td>   -0.019</td> <td>    0.043</td>\n",
       "</tr>\n",
       "<tr>\n",
       "  <th>v17</th>   <td>    0.0156</td> <td>    0.015</td> <td>    1.012</td> <td> 0.312</td> <td>   -0.015</td> <td>    0.046</td>\n",
       "</tr>\n",
       "<tr>\n",
       "  <th>v18</th>   <td>    0.0100</td> <td>    0.016</td> <td>    0.628</td> <td> 0.530</td> <td>   -0.021</td> <td>    0.041</td>\n",
       "</tr>\n",
       "<tr>\n",
       "  <th>v19</th>   <td>   -0.0174</td> <td>    0.016</td> <td>   -1.119</td> <td> 0.263</td> <td>   -0.048</td> <td>    0.013</td>\n",
       "</tr>\n",
       "<tr>\n",
       "  <th>v20</th>   <td>    0.0098</td> <td>    0.015</td> <td>    0.637</td> <td> 0.524</td> <td>   -0.020</td> <td>    0.040</td>\n",
       "</tr>\n",
       "<tr>\n",
       "  <th>v21</th>   <td>    0.0015</td> <td>    0.016</td> <td>    0.092</td> <td> 0.927</td> <td>   -0.030</td> <td>    0.033</td>\n",
       "</tr>\n",
       "</table>\n",
       "<table class=\"simpletable\">\n",
       "<tr>\n",
       "  <th>Omnibus:</th>       <td> 4.701</td> <th>  Durbin-Watson:     </th> <td>   2.013</td>\n",
       "</tr>\n",
       "<tr>\n",
       "  <th>Prob(Omnibus):</th> <td> 0.095</td> <th>  Jarque-Bera (JB):  </th> <td>   4.745</td>\n",
       "</tr>\n",
       "<tr>\n",
       "  <th>Skew:</th>          <td>-0.167</td> <th>  Prob(JB):          </th> <td>  0.0932</td>\n",
       "</tr>\n",
       "<tr>\n",
       "  <th>Kurtosis:</th>      <td> 2.955</td> <th>  Cond. No.          </th> <td>    1.32</td>\n",
       "</tr>\n",
       "</table><br/><br/>Notes:<br/>[1] Standard Errors assume that the covariance matrix of the errors is correctly specified."
      ],
      "text/latex": [
       "\\begin{center}\n",
       "\\begin{tabular}{lclc}\n",
       "\\toprule\n",
       "\\textbf{Dep. Variable:}    &      Target      & \\textbf{  R-squared:         } &     0.999   \\\\\n",
       "\\textbf{Model:}            &       OLS        & \\textbf{  Adj. R-squared:    } &     0.999   \\\\\n",
       "\\textbf{Method:}           &  Least Squares   & \\textbf{  F-statistic:       } & 5.228e+04   \\\\\n",
       "\\textbf{Date:}             & Fri, 22 Nov 2024 & \\textbf{  Prob (F-statistic):} &     0.00    \\\\\n",
       "\\textbf{Time:}             &     10:07:19     & \\textbf{  Log-Likelihood:    } &   -707.67   \\\\\n",
       "\\textbf{No. Observations:} &        1000      & \\textbf{  AIC:               } &     1459.   \\\\\n",
       "\\textbf{Df Residuals:}     &         978      & \\textbf{  BIC:               } &     1567.   \\\\\n",
       "\\textbf{Df Model:}         &          21      & \\textbf{                     } &             \\\\\n",
       "\\textbf{Covariance Type:}  &    nonrobust     & \\textbf{                     } &             \\\\\n",
       "\\bottomrule\n",
       "\\end{tabular}\n",
       "\\begin{tabular}{lcccccc}\n",
       "               & \\textbf{coef} & \\textbf{std err} & \\textbf{t} & \\textbf{P$> |$t$|$} & \\textbf{[0.025} & \\textbf{0.975]}  \\\\\n",
       "\\midrule\n",
       "\\textbf{const} &       0.0118  &        0.016     &     0.739  &         0.460        &       -0.019    &        0.043     \\\\\n",
       "\\textbf{v1}    &       5.5360  &        0.016     &   353.805  &         0.000        &        5.505    &        5.567     \\\\\n",
       "\\textbf{v2}    &       6.4403  &        0.016     &   410.550  &         0.000        &        6.410    &        6.471     \\\\\n",
       "\\textbf{v3}    &       9.6506  &        0.016     &   614.757  &         0.000        &        9.620    &        9.681     \\\\\n",
       "\\textbf{v4}    &       8.9758  &        0.016     &   576.776  &         0.000        &        8.945    &        9.006     \\\\\n",
       "\\textbf{v5}    &       1.9523  &        0.016     &   124.711  &         0.000        &        1.922    &        1.983     \\\\\n",
       "\\textbf{v6}    &       0.0145  &        0.016     &     0.899  &         0.369        &       -0.017    &        0.046     \\\\\n",
       "\\textbf{v7}    &      -0.0023  &        0.016     &    -0.140  &         0.888        &       -0.034    &        0.029     \\\\\n",
       "\\textbf{v8}    &       0.0173  &        0.016     &     1.096  &         0.274        &       -0.014    &        0.048     \\\\\n",
       "\\textbf{v9}    &      -0.0123  &        0.016     &    -0.781  &         0.435        &       -0.043    &        0.019     \\\\\n",
       "\\textbf{v10}   &      -0.0019  &        0.016     &    -0.117  &         0.906        &       -0.033    &        0.030     \\\\\n",
       "\\textbf{v11}   &       0.0171  &        0.016     &     1.099  &         0.272        &       -0.013    &        0.048     \\\\\n",
       "\\textbf{v12}   &       0.0161  &        0.016     &     1.018  &         0.309        &       -0.015    &        0.047     \\\\\n",
       "\\textbf{v13}   &      -0.0167  &        0.016     &    -1.058  &         0.290        &       -0.048    &        0.014     \\\\\n",
       "\\textbf{v14}   &       0.0068  &        0.016     &     0.412  &         0.681        &       -0.026    &        0.039     \\\\\n",
       "\\textbf{v15}   &      -0.0432  &        0.017     &    -2.605  &         0.009        &       -0.076    &       -0.011     \\\\\n",
       "\\textbf{v16}   &       0.0117  &        0.016     &     0.749  &         0.454        &       -0.019    &        0.043     \\\\\n",
       "\\textbf{v17}   &       0.0156  &        0.015     &     1.012  &         0.312        &       -0.015    &        0.046     \\\\\n",
       "\\textbf{v18}   &       0.0100  &        0.016     &     0.628  &         0.530        &       -0.021    &        0.041     \\\\\n",
       "\\textbf{v19}   &      -0.0174  &        0.016     &    -1.119  &         0.263        &       -0.048    &        0.013     \\\\\n",
       "\\textbf{v20}   &       0.0098  &        0.015     &     0.637  &         0.524        &       -0.020    &        0.040     \\\\\n",
       "\\textbf{v21}   &       0.0015  &        0.016     &     0.092  &         0.927        &       -0.030    &        0.033     \\\\\n",
       "\\bottomrule\n",
       "\\end{tabular}\n",
       "\\begin{tabular}{lclc}\n",
       "\\textbf{Omnibus:}       &  4.701 & \\textbf{  Durbin-Watson:     } &    2.013  \\\\\n",
       "\\textbf{Prob(Omnibus):} &  0.095 & \\textbf{  Jarque-Bera (JB):  } &    4.745  \\\\\n",
       "\\textbf{Skew:}          & -0.167 & \\textbf{  Prob(JB):          } &   0.0932  \\\\\n",
       "\\textbf{Kurtosis:}      &  2.955 & \\textbf{  Cond. No.          } &     1.32  \\\\\n",
       "\\bottomrule\n",
       "\\end{tabular}\n",
       "%\\caption{OLS Regression Results}\n",
       "\\end{center}\n",
       "\n",
       "Notes: \\newline\n",
       " [1] Standard Errors assume that the covariance matrix of the errors is correctly specified."
      ],
      "text/plain": [
       "<class 'statsmodels.iolib.summary.Summary'>\n",
       "\"\"\"\n",
       "                            OLS Regression Results                            \n",
       "==============================================================================\n",
       "Dep. Variable:                 Target   R-squared:                       0.999\n",
       "Model:                            OLS   Adj. R-squared:                  0.999\n",
       "Method:                 Least Squares   F-statistic:                 5.228e+04\n",
       "Date:                Fri, 22 Nov 2024   Prob (F-statistic):               0.00\n",
       "Time:                        10:07:19   Log-Likelihood:                -707.67\n",
       "No. Observations:                1000   AIC:                             1459.\n",
       "Df Residuals:                     978   BIC:                             1567.\n",
       "Df Model:                          21                                         \n",
       "Covariance Type:            nonrobust                                         \n",
       "==============================================================================\n",
       "                 coef    std err          t      P>|t|      [0.025      0.975]\n",
       "------------------------------------------------------------------------------\n",
       "const          0.0118      0.016      0.739      0.460      -0.019       0.043\n",
       "v1             5.5360      0.016    353.805      0.000       5.505       5.567\n",
       "v2             6.4403      0.016    410.550      0.000       6.410       6.471\n",
       "v3             9.6506      0.016    614.757      0.000       9.620       9.681\n",
       "v4             8.9758      0.016    576.776      0.000       8.945       9.006\n",
       "v5             1.9523      0.016    124.711      0.000       1.922       1.983\n",
       "v6             0.0145      0.016      0.899      0.369      -0.017       0.046\n",
       "v7            -0.0023      0.016     -0.140      0.888      -0.034       0.029\n",
       "v8             0.0173      0.016      1.096      0.274      -0.014       0.048\n",
       "v9            -0.0123      0.016     -0.781      0.435      -0.043       0.019\n",
       "v10           -0.0019      0.016     -0.117      0.906      -0.033       0.030\n",
       "v11            0.0171      0.016      1.099      0.272      -0.013       0.048\n",
       "v12            0.0161      0.016      1.018      0.309      -0.015       0.047\n",
       "v13           -0.0167      0.016     -1.058      0.290      -0.048       0.014\n",
       "v14            0.0068      0.016      0.412      0.681      -0.026       0.039\n",
       "v15           -0.0432      0.017     -2.605      0.009      -0.076      -0.011\n",
       "v16            0.0117      0.016      0.749      0.454      -0.019       0.043\n",
       "v17            0.0156      0.015      1.012      0.312      -0.015       0.046\n",
       "v18            0.0100      0.016      0.628      0.530      -0.021       0.041\n",
       "v19           -0.0174      0.016     -1.119      0.263      -0.048       0.013\n",
       "v20            0.0098      0.015      0.637      0.524      -0.020       0.040\n",
       "v21            0.0015      0.016      0.092      0.927      -0.030       0.033\n",
       "==============================================================================\n",
       "Omnibus:                        4.701   Durbin-Watson:                   2.013\n",
       "Prob(Omnibus):                  0.095   Jarque-Bera (JB):                4.745\n",
       "Skew:                          -0.167   Prob(JB):                       0.0932\n",
       "Kurtosis:                       2.955   Cond. No.                         1.32\n",
       "==============================================================================\n",
       "\n",
       "Notes:\n",
       "[1] Standard Errors assume that the covariance matrix of the errors is correctly specified.\n",
       "\"\"\""
      ]
     },
     "execution_count": 161,
     "metadata": {},
     "output_type": "execute_result"
    }
   ],
   "source": [
    "model.summary()"
   ]
  },
  {
   "cell_type": "markdown",
   "metadata": {},
   "source": [
    "##  4. 심장병 발병 예측 / 종속변수 target 1: 발병\n",
    "train 데이터는 앞의 210개 행을, test데이터는 나머지 부분을 사용한다\n",
    "train 데이터로 target을 종속변수로 로지스틱 회귀를 진행할 때 age 컬럼의 오즈비를 구하여라"
   ]
  },
  {
   "cell_type": "code",
   "execution_count": 173,
   "metadata": {},
   "outputs": [
    {
     "data": {
      "text/html": [
       "<div>\n",
       "<style scoped>\n",
       "    .dataframe tbody tr th:only-of-type {\n",
       "        vertical-align: middle;\n",
       "    }\n",
       "\n",
       "    .dataframe tbody tr th {\n",
       "        vertical-align: top;\n",
       "    }\n",
       "\n",
       "    .dataframe thead th {\n",
       "        text-align: right;\n",
       "    }\n",
       "</style>\n",
       "<table border=\"1\" class=\"dataframe\">\n",
       "  <thead>\n",
       "    <tr style=\"text-align: right;\">\n",
       "      <th></th>\n",
       "      <th>age</th>\n",
       "      <th>sex</th>\n",
       "      <th>cp</th>\n",
       "      <th>trestbps</th>\n",
       "      <th>chol</th>\n",
       "      <th>fbs</th>\n",
       "      <th>restecg</th>\n",
       "      <th>thalach</th>\n",
       "      <th>exang</th>\n",
       "      <th>oldpeak</th>\n",
       "      <th>slope</th>\n",
       "      <th>ca</th>\n",
       "      <th>thal</th>\n",
       "      <th>target</th>\n",
       "    </tr>\n",
       "  </thead>\n",
       "  <tbody>\n",
       "    <tr>\n",
       "      <th>0</th>\n",
       "      <td>63.0</td>\n",
       "      <td>1.0</td>\n",
       "      <td>1.0</td>\n",
       "      <td>145.0</td>\n",
       "      <td>233.0</td>\n",
       "      <td>1.0</td>\n",
       "      <td>2.0</td>\n",
       "      <td>150.0</td>\n",
       "      <td>0.0</td>\n",
       "      <td>2.3</td>\n",
       "      <td>3.0</td>\n",
       "      <td>0.0</td>\n",
       "      <td>6.0</td>\n",
       "      <td>0</td>\n",
       "    </tr>\n",
       "    <tr>\n",
       "      <th>1</th>\n",
       "      <td>67.0</td>\n",
       "      <td>1.0</td>\n",
       "      <td>4.0</td>\n",
       "      <td>160.0</td>\n",
       "      <td>286.0</td>\n",
       "      <td>0.0</td>\n",
       "      <td>2.0</td>\n",
       "      <td>108.0</td>\n",
       "      <td>1.0</td>\n",
       "      <td>1.5</td>\n",
       "      <td>2.0</td>\n",
       "      <td>3.0</td>\n",
       "      <td>3.0</td>\n",
       "      <td>1</td>\n",
       "    </tr>\n",
       "    <tr>\n",
       "      <th>2</th>\n",
       "      <td>67.0</td>\n",
       "      <td>1.0</td>\n",
       "      <td>4.0</td>\n",
       "      <td>120.0</td>\n",
       "      <td>229.0</td>\n",
       "      <td>0.0</td>\n",
       "      <td>2.0</td>\n",
       "      <td>129.0</td>\n",
       "      <td>1.0</td>\n",
       "      <td>2.6</td>\n",
       "      <td>2.0</td>\n",
       "      <td>2.0</td>\n",
       "      <td>7.0</td>\n",
       "      <td>1</td>\n",
       "    </tr>\n",
       "    <tr>\n",
       "      <th>3</th>\n",
       "      <td>37.0</td>\n",
       "      <td>1.0</td>\n",
       "      <td>3.0</td>\n",
       "      <td>130.0</td>\n",
       "      <td>250.0</td>\n",
       "      <td>0.0</td>\n",
       "      <td>0.0</td>\n",
       "      <td>187.0</td>\n",
       "      <td>0.0</td>\n",
       "      <td>3.5</td>\n",
       "      <td>3.0</td>\n",
       "      <td>0.0</td>\n",
       "      <td>3.0</td>\n",
       "      <td>0</td>\n",
       "    </tr>\n",
       "    <tr>\n",
       "      <th>4</th>\n",
       "      <td>41.0</td>\n",
       "      <td>0.0</td>\n",
       "      <td>2.0</td>\n",
       "      <td>130.0</td>\n",
       "      <td>204.0</td>\n",
       "      <td>0.0</td>\n",
       "      <td>2.0</td>\n",
       "      <td>172.0</td>\n",
       "      <td>0.0</td>\n",
       "      <td>1.4</td>\n",
       "      <td>1.0</td>\n",
       "      <td>0.0</td>\n",
       "      <td>3.0</td>\n",
       "      <td>0</td>\n",
       "    </tr>\n",
       "  </tbody>\n",
       "</table>\n",
       "</div>"
      ],
      "text/plain": [
       "    age  sex   cp  trestbps   chol  fbs  restecg  thalach  exang  oldpeak  \\\n",
       "0  63.0  1.0  1.0     145.0  233.0  1.0      2.0    150.0    0.0      2.3   \n",
       "1  67.0  1.0  4.0     160.0  286.0  0.0      2.0    108.0    1.0      1.5   \n",
       "2  67.0  1.0  4.0     120.0  229.0  0.0      2.0    129.0    1.0      2.6   \n",
       "3  37.0  1.0  3.0     130.0  250.0  0.0      0.0    187.0    0.0      3.5   \n",
       "4  41.0  0.0  2.0     130.0  204.0  0.0      2.0    172.0    0.0      1.4   \n",
       "\n",
       "   slope   ca  thal  target  \n",
       "0    3.0  0.0   6.0       0  \n",
       "1    2.0  3.0   3.0       1  \n",
       "2    2.0  2.0   7.0       1  \n",
       "3    3.0  0.0   3.0       0  \n",
       "4    1.0  0.0   3.0       0  "
      ]
     },
     "execution_count": 173,
     "metadata": {},
     "output_type": "execute_result"
    }
   ],
   "source": [
    "import pandas as pd \n",
    "df= pd.read_csv('https://raw.githubusercontent.com/Datamanim/datarepo/main/krdatacertificate/e7_p3_t.csv')\n",
    "df.head()"
   ]
  },
  {
   "cell_type": "code",
   "execution_count": 174,
   "metadata": {},
   "outputs": [
    {
     "data": {
      "text/plain": [
       "(297, 14)"
      ]
     },
     "execution_count": 174,
     "metadata": {},
     "output_type": "execute_result"
    }
   ],
   "source": [
    "df.shape"
   ]
  },
  {
   "cell_type": "code",
   "execution_count": 184,
   "metadata": {},
   "outputs": [
    {
     "data": {
      "text/html": [
       "<div>\n",
       "<style scoped>\n",
       "    .dataframe tbody tr th:only-of-type {\n",
       "        vertical-align: middle;\n",
       "    }\n",
       "\n",
       "    .dataframe tbody tr th {\n",
       "        vertical-align: top;\n",
       "    }\n",
       "\n",
       "    .dataframe thead th {\n",
       "        text-align: right;\n",
       "    }\n",
       "</style>\n",
       "<table border=\"1\" class=\"dataframe\">\n",
       "  <thead>\n",
       "    <tr style=\"text-align: right;\">\n",
       "      <th></th>\n",
       "      <th>age</th>\n",
       "      <th>sex</th>\n",
       "      <th>cp</th>\n",
       "      <th>trestbps</th>\n",
       "      <th>chol</th>\n",
       "      <th>fbs</th>\n",
       "      <th>restecg</th>\n",
       "      <th>thalach</th>\n",
       "      <th>exang</th>\n",
       "      <th>oldpeak</th>\n",
       "      <th>slope</th>\n",
       "      <th>ca</th>\n",
       "      <th>thal</th>\n",
       "      <th>target</th>\n",
       "    </tr>\n",
       "  </thead>\n",
       "  <tbody>\n",
       "    <tr>\n",
       "      <th>0</th>\n",
       "      <td>63.0</td>\n",
       "      <td>1.0</td>\n",
       "      <td>1.0</td>\n",
       "      <td>145.0</td>\n",
       "      <td>233.0</td>\n",
       "      <td>1.0</td>\n",
       "      <td>2.0</td>\n",
       "      <td>150.0</td>\n",
       "      <td>0.0</td>\n",
       "      <td>2.3</td>\n",
       "      <td>3.0</td>\n",
       "      <td>0.0</td>\n",
       "      <td>6.0</td>\n",
       "      <td>0</td>\n",
       "    </tr>\n",
       "    <tr>\n",
       "      <th>1</th>\n",
       "      <td>67.0</td>\n",
       "      <td>1.0</td>\n",
       "      <td>4.0</td>\n",
       "      <td>160.0</td>\n",
       "      <td>286.0</td>\n",
       "      <td>0.0</td>\n",
       "      <td>2.0</td>\n",
       "      <td>108.0</td>\n",
       "      <td>1.0</td>\n",
       "      <td>1.5</td>\n",
       "      <td>2.0</td>\n",
       "      <td>3.0</td>\n",
       "      <td>3.0</td>\n",
       "      <td>1</td>\n",
       "    </tr>\n",
       "  </tbody>\n",
       "</table>\n",
       "</div>"
      ],
      "text/plain": [
       "    age  sex   cp  trestbps   chol  fbs  restecg  thalach  exang  oldpeak  \\\n",
       "0  63.0  1.0  1.0     145.0  233.0  1.0      2.0    150.0    0.0      2.3   \n",
       "1  67.0  1.0  4.0     160.0  286.0  0.0      2.0    108.0    1.0      1.5   \n",
       "\n",
       "   slope   ca  thal  target  \n",
       "0    3.0  0.0   6.0       0  \n",
       "1    2.0  3.0   3.0       1  "
      ]
     },
     "metadata": {},
     "output_type": "display_data"
    },
    {
     "data": {
      "text/html": [
       "<div>\n",
       "<style scoped>\n",
       "    .dataframe tbody tr th:only-of-type {\n",
       "        vertical-align: middle;\n",
       "    }\n",
       "\n",
       "    .dataframe tbody tr th {\n",
       "        vertical-align: top;\n",
       "    }\n",
       "\n",
       "    .dataframe thead th {\n",
       "        text-align: right;\n",
       "    }\n",
       "</style>\n",
       "<table border=\"1\" class=\"dataframe\">\n",
       "  <thead>\n",
       "    <tr style=\"text-align: right;\">\n",
       "      <th></th>\n",
       "      <th>age</th>\n",
       "      <th>sex</th>\n",
       "      <th>cp</th>\n",
       "      <th>trestbps</th>\n",
       "      <th>chol</th>\n",
       "      <th>fbs</th>\n",
       "      <th>restecg</th>\n",
       "      <th>thalach</th>\n",
       "      <th>exang</th>\n",
       "      <th>oldpeak</th>\n",
       "      <th>slope</th>\n",
       "      <th>ca</th>\n",
       "      <th>thal</th>\n",
       "      <th>target</th>\n",
       "    </tr>\n",
       "  </thead>\n",
       "  <tbody>\n",
       "    <tr>\n",
       "      <th>210</th>\n",
       "      <td>66.0</td>\n",
       "      <td>0.0</td>\n",
       "      <td>4.0</td>\n",
       "      <td>178.0</td>\n",
       "      <td>228.0</td>\n",
       "      <td>1.0</td>\n",
       "      <td>0.0</td>\n",
       "      <td>165.0</td>\n",
       "      <td>1.0</td>\n",
       "      <td>1.0</td>\n",
       "      <td>2.0</td>\n",
       "      <td>2.0</td>\n",
       "      <td>7.0</td>\n",
       "      <td>1</td>\n",
       "    </tr>\n",
       "    <tr>\n",
       "      <th>211</th>\n",
       "      <td>52.0</td>\n",
       "      <td>1.0</td>\n",
       "      <td>4.0</td>\n",
       "      <td>112.0</td>\n",
       "      <td>230.0</td>\n",
       "      <td>0.0</td>\n",
       "      <td>0.0</td>\n",
       "      <td>160.0</td>\n",
       "      <td>0.0</td>\n",
       "      <td>0.0</td>\n",
       "      <td>1.0</td>\n",
       "      <td>1.0</td>\n",
       "      <td>3.0</td>\n",
       "      <td>1</td>\n",
       "    </tr>\n",
       "  </tbody>\n",
       "</table>\n",
       "</div>"
      ],
      "text/plain": [
       "      age  sex   cp  trestbps   chol  fbs  restecg  thalach  exang  oldpeak  \\\n",
       "210  66.0  0.0  4.0     178.0  228.0  1.0      0.0    165.0    1.0      1.0   \n",
       "211  52.0  1.0  4.0     112.0  230.0  0.0      0.0    160.0    0.0      0.0   \n",
       "\n",
       "     slope   ca  thal  target  \n",
       "210    2.0  2.0   7.0       1  \n",
       "211    1.0  1.0   3.0       1  "
      ]
     },
     "execution_count": 184,
     "metadata": {},
     "output_type": "execute_result"
    }
   ],
   "source": [
    "train = df.iloc[:210]\n",
    "test = df.iloc[210:]\n",
    "display(train.head(2))\n",
    "test.head(2)"
   ]
  },
  {
   "cell_type": "code",
   "execution_count": 185,
   "metadata": {},
   "outputs": [
    {
     "name": "stdout",
     "output_type": "stream",
     "text": [
      "<class 'pandas.core.frame.DataFrame'>\n",
      "RangeIndex: 297 entries, 0 to 296\n",
      "Data columns (total 14 columns):\n",
      " #   Column    Non-Null Count  Dtype  \n",
      "---  ------    --------------  -----  \n",
      " 0   age       297 non-null    float64\n",
      " 1   sex       297 non-null    float64\n",
      " 2   cp        297 non-null    float64\n",
      " 3   trestbps  297 non-null    float64\n",
      " 4   chol      297 non-null    float64\n",
      " 5   fbs       297 non-null    float64\n",
      " 6   restecg   297 non-null    float64\n",
      " 7   thalach   297 non-null    float64\n",
      " 8   exang     297 non-null    float64\n",
      " 9   oldpeak   297 non-null    float64\n",
      " 10  slope     297 non-null    float64\n",
      " 11  ca        297 non-null    float64\n",
      " 12  thal      297 non-null    float64\n",
      " 13  target    297 non-null    int64  \n",
      "dtypes: float64(13), int64(1)\n",
      "memory usage: 32.6 KB\n"
     ]
    }
   ],
   "source": [
    "df.info()"
   ]
  },
  {
   "cell_type": "code",
   "execution_count": 186,
   "metadata": {},
   "outputs": [
    {
     "data": {
      "text/plain": [
       "age         0\n",
       "sex         0\n",
       "cp          0\n",
       "trestbps    0\n",
       "chol        0\n",
       "fbs         0\n",
       "restecg     0\n",
       "thalach     0\n",
       "exang       0\n",
       "oldpeak     0\n",
       "slope       0\n",
       "ca          0\n",
       "thal        0\n",
       "target      0\n",
       "dtype: int64"
      ]
     },
     "execution_count": 186,
     "metadata": {},
     "output_type": "execute_result"
    }
   ],
   "source": [
    "df.isna().sum()"
   ]
  },
  {
   "cell_type": "code",
   "execution_count": 187,
   "metadata": {},
   "outputs": [
    {
     "data": {
      "text/plain": [
       "210    1\n",
       "211    1\n",
       "212    0\n",
       "213    0\n",
       "214    0\n",
       "      ..\n",
       "292    1\n",
       "293    1\n",
       "294    1\n",
       "295    1\n",
       "296    1\n",
       "Name: target, Length: 87, dtype: int64"
      ]
     },
     "execution_count": 187,
     "metadata": {},
     "output_type": "execute_result"
    }
   ],
   "source": [
    "test['target']"
   ]
  },
  {
   "cell_type": "code",
   "execution_count": 188,
   "metadata": {},
   "outputs": [
    {
     "name": "stdout",
     "output_type": "stream",
     "text": [
      "Optimization terminated successfully.\n",
      "         Current function value: 0.320236\n",
      "         Iterations 7\n"
     ]
    },
    {
     "data": {
      "text/html": [
       "<table class=\"simpletable\">\n",
       "<caption>Logit Regression Results</caption>\n",
       "<tr>\n",
       "  <th>Dep. Variable:</th>        <td>target</td>      <th>  No. Observations:  </th>  <td>   210</td>  \n",
       "</tr>\n",
       "<tr>\n",
       "  <th>Model:</th>                 <td>Logit</td>      <th>  Df Residuals:      </th>  <td>   196</td>  \n",
       "</tr>\n",
       "<tr>\n",
       "  <th>Method:</th>                 <td>MLE</td>       <th>  Df Model:          </th>  <td>    13</td>  \n",
       "</tr>\n",
       "<tr>\n",
       "  <th>Date:</th>            <td>Fri, 22 Nov 2024</td> <th>  Pseudo R-squ.:     </th>  <td>0.5350</td>  \n",
       "</tr>\n",
       "<tr>\n",
       "  <th>Time:</th>                <td>10:19:33</td>     <th>  Log-Likelihood:    </th> <td> -67.250</td> \n",
       "</tr>\n",
       "<tr>\n",
       "  <th>converged:</th>             <td>True</td>       <th>  LL-Null:           </th> <td> -144.61</td> \n",
       "</tr>\n",
       "<tr>\n",
       "  <th>Covariance Type:</th>     <td>nonrobust</td>    <th>  LLR p-value:       </th> <td>2.308e-26</td>\n",
       "</tr>\n",
       "</table>\n",
       "<table class=\"simpletable\">\n",
       "<tr>\n",
       "      <td></td>        <th>coef</th>     <th>std err</th>      <th>z</th>      <th>P>|z|</th>  <th>[0.025</th>    <th>0.975]</th>  \n",
       "</tr>\n",
       "<tr>\n",
       "  <th>const</th>    <td>  -10.7525</td> <td>    3.655</td> <td>   -2.942</td> <td> 0.003</td> <td>  -17.917</td> <td>   -3.588</td>\n",
       "</tr>\n",
       "<tr>\n",
       "  <th>age</th>      <td>   -0.0056</td> <td>    0.030</td> <td>   -0.184</td> <td> 0.854</td> <td>   -0.065</td> <td>    0.054</td>\n",
       "</tr>\n",
       "<tr>\n",
       "  <th>sex</th>      <td>    1.5477</td> <td>    0.666</td> <td>    2.323</td> <td> 0.020</td> <td>    0.242</td> <td>    2.853</td>\n",
       "</tr>\n",
       "<tr>\n",
       "  <th>cp</th>       <td>    0.8332</td> <td>    0.259</td> <td>    3.215</td> <td> 0.001</td> <td>    0.325</td> <td>    1.341</td>\n",
       "</tr>\n",
       "<tr>\n",
       "  <th>trestbps</th> <td>    0.0320</td> <td>    0.014</td> <td>    2.356</td> <td> 0.018</td> <td>    0.005</td> <td>    0.059</td>\n",
       "</tr>\n",
       "<tr>\n",
       "  <th>chol</th>     <td>    0.0068</td> <td>    0.005</td> <td>    1.448</td> <td> 0.148</td> <td>   -0.002</td> <td>    0.016</td>\n",
       "</tr>\n",
       "<tr>\n",
       "  <th>fbs</th>      <td>   -1.1463</td> <td>    0.655</td> <td>   -1.749</td> <td> 0.080</td> <td>   -2.431</td> <td>    0.138</td>\n",
       "</tr>\n",
       "<tr>\n",
       "  <th>restecg</th>  <td>    0.3812</td> <td>    0.234</td> <td>    1.631</td> <td> 0.103</td> <td>   -0.077</td> <td>    0.839</td>\n",
       "</tr>\n",
       "<tr>\n",
       "  <th>thalach</th>  <td>   -0.0207</td> <td>    0.014</td> <td>   -1.523</td> <td> 0.128</td> <td>   -0.047</td> <td>    0.006</td>\n",
       "</tr>\n",
       "<tr>\n",
       "  <th>exang</th>    <td>    0.9930</td> <td>    0.494</td> <td>    2.010</td> <td> 0.044</td> <td>    0.025</td> <td>    1.961</td>\n",
       "</tr>\n",
       "<tr>\n",
       "  <th>oldpeak</th>  <td>    0.3693</td> <td>    0.255</td> <td>    1.446</td> <td> 0.148</td> <td>   -0.131</td> <td>    0.870</td>\n",
       "</tr>\n",
       "<tr>\n",
       "  <th>slope</th>    <td>    0.6106</td> <td>    0.439</td> <td>    1.390</td> <td> 0.165</td> <td>   -0.251</td> <td>    1.472</td>\n",
       "</tr>\n",
       "<tr>\n",
       "  <th>ca</th>       <td>    0.9819</td> <td>    0.315</td> <td>    3.120</td> <td> 0.002</td> <td>    0.365</td> <td>    1.599</td>\n",
       "</tr>\n",
       "<tr>\n",
       "  <th>thal</th>     <td>    0.3474</td> <td>    0.124</td> <td>    2.801</td> <td> 0.005</td> <td>    0.104</td> <td>    0.590</td>\n",
       "</tr>\n",
       "</table>"
      ],
      "text/latex": [
       "\\begin{center}\n",
       "\\begin{tabular}{lclc}\n",
       "\\toprule\n",
       "\\textbf{Dep. Variable:}   &      target      & \\textbf{  No. Observations:  } &      210    \\\\\n",
       "\\textbf{Model:}           &      Logit       & \\textbf{  Df Residuals:      } &      196    \\\\\n",
       "\\textbf{Method:}          &       MLE        & \\textbf{  Df Model:          } &       13    \\\\\n",
       "\\textbf{Date:}            & Fri, 22 Nov 2024 & \\textbf{  Pseudo R-squ.:     } &   0.5350    \\\\\n",
       "\\textbf{Time:}            &     10:19:33     & \\textbf{  Log-Likelihood:    } &   -67.250   \\\\\n",
       "\\textbf{converged:}       &       True       & \\textbf{  LL-Null:           } &   -144.61   \\\\\n",
       "\\textbf{Covariance Type:} &    nonrobust     & \\textbf{  LLR p-value:       } & 2.308e-26   \\\\\n",
       "\\bottomrule\n",
       "\\end{tabular}\n",
       "\\begin{tabular}{lcccccc}\n",
       "                  & \\textbf{coef} & \\textbf{std err} & \\textbf{z} & \\textbf{P$> |$z$|$} & \\textbf{[0.025} & \\textbf{0.975]}  \\\\\n",
       "\\midrule\n",
       "\\textbf{const}    &     -10.7525  &        3.655     &    -2.942  &         0.003        &      -17.917    &       -3.588     \\\\\n",
       "\\textbf{age}      &      -0.0056  &        0.030     &    -0.184  &         0.854        &       -0.065    &        0.054     \\\\\n",
       "\\textbf{sex}      &       1.5477  &        0.666     &     2.323  &         0.020        &        0.242    &        2.853     \\\\\n",
       "\\textbf{cp}       &       0.8332  &        0.259     &     3.215  &         0.001        &        0.325    &        1.341     \\\\\n",
       "\\textbf{trestbps} &       0.0320  &        0.014     &     2.356  &         0.018        &        0.005    &        0.059     \\\\\n",
       "\\textbf{chol}     &       0.0068  &        0.005     &     1.448  &         0.148        &       -0.002    &        0.016     \\\\\n",
       "\\textbf{fbs}      &      -1.1463  &        0.655     &    -1.749  &         0.080        &       -2.431    &        0.138     \\\\\n",
       "\\textbf{restecg}  &       0.3812  &        0.234     &     1.631  &         0.103        &       -0.077    &        0.839     \\\\\n",
       "\\textbf{thalach}  &      -0.0207  &        0.014     &    -1.523  &         0.128        &       -0.047    &        0.006     \\\\\n",
       "\\textbf{exang}    &       0.9930  &        0.494     &     2.010  &         0.044        &        0.025    &        1.961     \\\\\n",
       "\\textbf{oldpeak}  &       0.3693  &        0.255     &     1.446  &         0.148        &       -0.131    &        0.870     \\\\\n",
       "\\textbf{slope}    &       0.6106  &        0.439     &     1.390  &         0.165        &       -0.251    &        1.472     \\\\\n",
       "\\textbf{ca}       &       0.9819  &        0.315     &     3.120  &         0.002        &        0.365    &        1.599     \\\\\n",
       "\\textbf{thal}     &       0.3474  &        0.124     &     2.801  &         0.005        &        0.104    &        0.590     \\\\\n",
       "\\bottomrule\n",
       "\\end{tabular}\n",
       "%\\caption{Logit Regression Results}\n",
       "\\end{center}"
      ],
      "text/plain": [
       "<class 'statsmodels.iolib.summary.Summary'>\n",
       "\"\"\"\n",
       "                           Logit Regression Results                           \n",
       "==============================================================================\n",
       "Dep. Variable:                 target   No. Observations:                  210\n",
       "Model:                          Logit   Df Residuals:                      196\n",
       "Method:                           MLE   Df Model:                           13\n",
       "Date:                Fri, 22 Nov 2024   Pseudo R-squ.:                  0.5350\n",
       "Time:                        10:19:33   Log-Likelihood:                -67.250\n",
       "converged:                       True   LL-Null:                       -144.61\n",
       "Covariance Type:            nonrobust   LLR p-value:                 2.308e-26\n",
       "==============================================================================\n",
       "                 coef    std err          z      P>|z|      [0.025      0.975]\n",
       "------------------------------------------------------------------------------\n",
       "const        -10.7525      3.655     -2.942      0.003     -17.917      -3.588\n",
       "age           -0.0056      0.030     -0.184      0.854      -0.065       0.054\n",
       "sex            1.5477      0.666      2.323      0.020       0.242       2.853\n",
       "cp             0.8332      0.259      3.215      0.001       0.325       1.341\n",
       "trestbps       0.0320      0.014      2.356      0.018       0.005       0.059\n",
       "chol           0.0068      0.005      1.448      0.148      -0.002       0.016\n",
       "fbs           -1.1463      0.655     -1.749      0.080      -2.431       0.138\n",
       "restecg        0.3812      0.234      1.631      0.103      -0.077       0.839\n",
       "thalach       -0.0207      0.014     -1.523      0.128      -0.047       0.006\n",
       "exang          0.9930      0.494      2.010      0.044       0.025       1.961\n",
       "oldpeak        0.3693      0.255      1.446      0.148      -0.131       0.870\n",
       "slope          0.6106      0.439      1.390      0.165      -0.251       1.472\n",
       "ca             0.9819      0.315      3.120      0.002       0.365       1.599\n",
       "thal           0.3474      0.124      2.801      0.005       0.104       0.590\n",
       "==============================================================================\n",
       "\"\"\""
      ]
     },
     "execution_count": 188,
     "metadata": {},
     "output_type": "execute_result"
    }
   ],
   "source": [
    "import statsmodels.api as sm\n",
    "X = train.drop('target', axis=1)\n",
    "y = train['target']\n",
    "X = sm.add_constant(X)\n",
    "model = sm.Logit(y, X).fit()\n",
    "model.summary()"
   ]
  },
  {
   "cell_type": "code",
   "execution_count": 189,
   "metadata": {},
   "outputs": [
    {
     "data": {
      "text/plain": [
       "0.9944442574640205"
      ]
     },
     "execution_count": 189,
     "metadata": {},
     "output_type": "execute_result"
    }
   ],
   "source": [
    "import numpy as np\n",
    "np.exp(model.params['age'])\n"
   ]
  },
  {
   "cell_type": "markdown",
   "metadata": {},
   "source": [
    "## Q5. train으로 로지스틱 회귀 진행했을 경우 잔차 이탈도 (residual deviance)를 계산하라"
   ]
  },
  {
   "cell_type": "code",
   "execution_count": 194,
   "metadata": {},
   "outputs": [
    {
     "data": {
      "text/plain": [
       "-67.24951955671358"
      ]
     },
     "execution_count": 194,
     "metadata": {},
     "output_type": "execute_result"
    }
   ],
   "source": [
    "model.llf"
   ]
  },
  {
   "cell_type": "code",
   "execution_count": 195,
   "metadata": {},
   "outputs": [
    {
     "data": {
      "text/plain": [
       "134.49903911342716"
      ]
     },
     "execution_count": 195,
     "metadata": {},
     "output_type": "execute_result"
    }
   ],
   "source": [
    "-2 * model.llf"
   ]
  },
  {
   "cell_type": "code",
   "execution_count": null,
   "metadata": {},
   "outputs": [
    {
     "data": {
      "text/plain": [
       "134.49903911342716"
      ]
     },
     "execution_count": 199,
     "metadata": {},
     "output_type": "execute_result"
    }
   ],
   "source": [
    "# 다른방법\n",
    "model2 = sm.GLM(y, X, family=sm.families.Binomial()).fit()\n",
    "model2.deviance"
   ]
  },
  {
   "cell_type": "code",
   "execution_count": null,
   "metadata": {},
   "outputs": [
    {
     "name": "stdout",
     "output_type": "stream",
     "text": [
      "Optimization terminated successfully.\n",
      "         Current function value: 0.688605\n",
      "         Iterations 4\n"
     ]
    },
    {
     "data": {
      "text/plain": [
       "289.2141639736865"
      ]
     },
     "execution_count": 197,
     "metadata": {},
     "output_type": "execute_result"
    }
   ],
   "source": [
    "# 참고) Null Deviance와 Residual Deviance의 차이가 크면 모델이 데이터를 잘 설명하고 있음을 나타냄\n",
    "#Null model은 독립 변수를 사용하지 않고 종속 변수의 평균값만으로 예측한 모델\n",
    "null_model = sm.Logit(y, np.ones((len(y), 1))).fit()  # 상수항만 포함\n",
    "null_deviance = -2 * null_model.llf\n",
    "null_deviance"
   ]
  },
  {
   "cell_type": "code",
   "execution_count": 200,
   "metadata": {},
   "outputs": [
    {
     "data": {
      "text/plain": [
       "-144.60708198684324"
      ]
     },
     "execution_count": 200,
     "metadata": {},
     "output_type": "execute_result"
    }
   ],
   "source": [
    "null_model.llf"
   ]
  },
  {
   "cell_type": "code",
   "execution_count": 205,
   "metadata": {},
   "outputs": [
    {
     "data": {
      "text/plain": [
       "154.71512486025932"
      ]
     },
     "execution_count": 205,
     "metadata": {},
     "output_type": "execute_result"
    }
   ],
   "source": [
    "null_deviance - (-2 * model.llf)"
   ]
  },
  {
   "cell_type": "markdown",
   "metadata": {},
   "source": [
    "## Q6. test 데이터의 독립변수로 target 예측 후 오류율을 구하여라"
   ]
  },
  {
   "cell_type": "code",
   "execution_count": 216,
   "metadata": {},
   "outputs": [
    {
     "data": {
      "text/plain": [
       "210    1\n",
       "211    0\n",
       "212    0\n",
       "213    0\n",
       "214    0\n",
       "      ..\n",
       "292    1\n",
       "293    0\n",
       "294    1\n",
       "295    1\n",
       "296    0\n",
       "Length: 87, dtype: int32"
      ]
     },
     "execution_count": 216,
     "metadata": {},
     "output_type": "execute_result"
    }
   ],
   "source": [
    "X_test = test.drop('target',axis=1)\n",
    "y_test = test['target']\n",
    "X_test = sm.add_constant(X_test)\n",
    "y_pred_prob = model.predict(X_test)\n",
    "y_pred = (y_pred_prob>0.5).astype(int)\n",
    "y_pred"
   ]
  },
  {
   "cell_type": "code",
   "execution_count": 219,
   "metadata": {},
   "outputs": [
    {
     "data": {
      "text/plain": [
       "0.1954022988505747"
      ]
     },
     "execution_count": 219,
     "metadata": {},
     "output_type": "execute_result"
    }
   ],
   "source": [
    "from sklearn.metrics import accuracy_score\n",
    "1-accuracy_score(y_test, y_pred)"
   ]
  }
 ],
 "metadata": {
  "kernelspec": {
   "display_name": "tensor",
   "language": "python",
   "name": "python3"
  },
  "language_info": {
   "codemirror_mode": {
    "name": "ipython",
    "version": 3
   },
   "file_extension": ".py",
   "mimetype": "text/x-python",
   "name": "python",
   "nbconvert_exporter": "python",
   "pygments_lexer": "ipython3",
   "version": "3.11.10"
  }
 },
 "nbformat": 4,
 "nbformat_minor": 2
}
