{
  "nbformat": 4,
  "nbformat_minor": 0,
  "metadata": {
    "colab": {
      "provenance": [],
      "authorship_tag": "ABX9TyNVKrm67gir+7aIjbIKhhsY",
      "include_colab_link": true
    },
    "kernelspec": {
      "name": "python3",
      "display_name": "Python 3"
    },
    "language_info": {
      "name": "python"
    }
  },
  "cells": [
    {
      "cell_type": "markdown",
      "metadata": {
        "id": "view-in-github",
        "colab_type": "text"
      },
      "source": [
        "<a href=\"https://colab.research.google.com/github/yesolee/BigDataCertification/blob/main/%EB%B9%85%EB%B6%84%EA%B8%B0_%EC%9E%91%EC%97%85%ED%98%953%EC%9C%A0%ED%98%95.ipynb\" target=\"_parent\"><img src=\"https://colab.research.google.com/assets/colab-badge.svg\" alt=\"Open In Colab\"/></a>"
      ]
    },
    {
      "cell_type": "code",
      "execution_count": 31,
      "metadata": {
        "colab": {
          "base_uri": "https://localhost:8080/"
        },
        "id": "wWt05gXQsYJr",
        "outputId": "0373e9aa-ae8a-4626-f0ee-884262b120d1"
      },
      "outputs": [
        {
          "output_type": "stream",
          "name": "stdout",
          "text": [
            "0.00043917806690261466 정규분포를 따르지 않는다\n"
          ]
        }
      ],
      "source": [
        "# 정규성 검정\n",
        "from scipy.stats import shapiro\n",
        "\n",
        "data = [10, 20, 15, 30, 90, 10, 1, 5, 7, 20 ]\n",
        "# 귀무가설: 데이터는 정규분포를 따른다\n",
        "\n",
        "stat, p_value = shapiro(data)\n",
        "\n",
        "print(p_value, \"정규분포를 따른다\" if p_value> 0.05 else \"정규분포를 따르지 않는다\")"
      ]
    },
    {
      "cell_type": "code",
      "source": [
        "# z검정: 모집단의 표준편차를 알고 있을때, 평균 비교에 사용\n",
        "import numpy as np\n",
        "from statsmodels.stats.weightstats import ztest\n",
        "\n",
        "# 데이터 생성\n",
        "data= np.random.normal(55,5,100) # 평균이55, 표준편차가 5인 표본 100개\n",
        "\n",
        "# z검정\n",
        "z_stat, p_value = ztest(data, value=50) # 귀무가설: 평균이 50이다\n",
        "\n",
        "print(p_value, \"유의수준 초과, 귀무가설을 기각할 수 없다(평균이 50)\" if p_value>0.05 else \"유의수준 미만, 귀무가설을 기각(평균이 50이 아니다)\")"
      ],
      "metadata": {
        "colab": {
          "base_uri": "https://localhost:8080/"
        },
        "id": "XZWXohXx0nfp",
        "outputId": "dd64529b-6851-45c5-8cf1-8ecef2bfbabb"
      },
      "execution_count": 33,
      "outputs": [
        {
          "output_type": "stream",
          "name": "stdout",
          "text": [
            "4.448752145173029e-25 유의수준 미만, 귀무가설을 기각(평균이 50이 아니다)\n"
          ]
        }
      ]
    },
    {
      "cell_type": "code",
      "source": [
        "from scipy.stats import ttest_1samp\n",
        "\n",
        "#데이터 생성\n",
        "data= np.random.normal(55,10,30) # 평균이 55, 표준편차가 10인 표본 30개\n",
        "\n",
        "# 단일 표본 t검정\n",
        "t_stat, p_value = ttest_1samp(data, 50)\n",
        "\n",
        "print(p_value, \"유의수준 초과, 귀무가설을 기각할 수 없다(평균이 50)\" if p_value>0.05 else \"유의수준 미만, 귀무가설을 기각(평균이 50이 아니다)\")"
      ],
      "metadata": {
        "colab": {
          "base_uri": "https://localhost:8080/"
        },
        "id": "8yrqpNPe3a7z",
        "outputId": "9cb075d6-2d63-4893-a462-dd0425805778"
      },
      "execution_count": 34,
      "outputs": [
        {
          "output_type": "stream",
          "name": "stdout",
          "text": [
            "0.002922275650744329 유의수준 미만, 귀무가설을 기각(평균이 50이 아니다)\n"
          ]
        }
      ]
    },
    {
      "cell_type": "code",
      "source": [
        "from scipy.stats import ttest_ind\n",
        "\n",
        "# 데이터 생성\n",
        "group1 = np.random.normal(50,10,30)\n",
        "group2 = np.random.normal(55,10,30)\n",
        "\n",
        "# 독립표본 t검정: 두 그룹의 평균 비교\n",
        "t_stat, p_value= ttest_ind(group1, group2)\n",
        "\n",
        "print(p_value, \"두 그룹의 평균은 같다\" if p_value > 0.05 else \"두 그룹의 평균은 다르다\")"
      ],
      "metadata": {
        "colab": {
          "base_uri": "https://localhost:8080/"
        },
        "id": "FYjESgg94FBs",
        "outputId": "b767b9fc-f47b-420e-81a9-92ea1b6e11e8"
      },
      "execution_count": 37,
      "outputs": [
        {
          "output_type": "stream",
          "name": "stdout",
          "text": [
            "0.1372371925519809 두 그룹의 평균은 같다\n"
          ]
        }
      ]
    },
    {
      "cell_type": "code",
      "source": [
        "from scipy.stats import ttest_rel\n",
        "\n",
        "# 데이터 생성\n",
        "before= np.random.normal(50,10,30)\n",
        "after = before + np.random.normal(2,5,30)\n",
        "\n",
        "# 대응 표본 t검정\n",
        "t_stat, p_value = ttest_rel(before, after)\n",
        "print(p_value, \"처리 전후 평균 차이가 유의미하지 않다\" if p_value > 0.05 else \"처리 전후 평균 차이가 유의미하다\")"
      ],
      "metadata": {
        "colab": {
          "base_uri": "https://localhost:8080/"
        },
        "id": "HEavq6eJ4VVi",
        "outputId": "07494b03-3b01-458b-f5ae-261486232a58"
      },
      "execution_count": 39,
      "outputs": [
        {
          "output_type": "stream",
          "name": "stdout",
          "text": [
            "0.012707786773851518 처리 전후 평균 차이가 유의미하다\n"
          ]
        }
      ]
    },
    {
      "cell_type": "code",
      "source": [
        "from scipy.stats import f_oneway\n",
        "\n",
        "# 데이터 생성\n",
        "group1 = np.random.normal(50, 10, 30)\n",
        "group2 = np.random.normal(50, 15, 30)\n",
        "\n",
        "# f검정\n",
        "f_stat, p_value = f_oneway(group1, group2)\n",
        "\n",
        "print(p_value, \"두 집단의 분산이 같다\" if p_value > 0.05 else \"두 집단의 분산이 다르다\")\n"
      ],
      "metadata": {
        "colab": {
          "base_uri": "https://localhost:8080/"
        },
        "id": "qrE6pZXE68py",
        "outputId": "497aa9c6-3600-465a-d197-12129d39ae09"
      },
      "execution_count": 40,
      "outputs": [
        {
          "output_type": "stream",
          "name": "stdout",
          "text": [
            "0.06117937000476893 두 집단의 분산이 같다\n"
          ]
        }
      ]
    },
    {
      "cell_type": "code",
      "source": [
        "from scipy.stats import f_oneway\n",
        "\n",
        "# 데이터 생성\n",
        "group1 = np.random.normal(50, 10, 30)\n",
        "group2 = np.random.normal(55, 10, 30)\n",
        "group3 = np.random.normal(60, 10, 30)\n",
        "\n",
        "f_stat, p_value = f_oneway(group1, group2, group3)\n",
        "\n",
        "print(p_value, \"그룹간 평균차이가 유의미 하지 않다\" if p_value > 0.05 else \"적어도 한 그룹의 평균이 다르다\")\n",
        "\n"
      ],
      "metadata": {
        "colab": {
          "base_uri": "https://localhost:8080/"
        },
        "id": "DLWvBVpU7hQN",
        "outputId": "7e5caf05-d5a3-4ecc-938c-3de952c05f10"
      },
      "execution_count": 43,
      "outputs": [
        {
          "output_type": "stream",
          "name": "stdout",
          "text": [
            "3.3982018102480806e-07 적어도 한 그룹의 평균이 다르다\n"
          ]
        }
      ]
    },
    {
      "cell_type": "code",
      "source": [
        "from scipy.stats import chi2_contingency\n",
        "\n",
        "# 교차표 생성\n",
        "data= np.array([[10,20,30],[6,9,17]])\n",
        "\n",
        "# 카이제곱 검정\n",
        "chi_stat, p_value, dof, expected = chi2_contingency(data)\n",
        "\n",
        "print(p_value, \"두 변수는 서로 독립이다\" if p_value > 0.05 else \"두 변수는 독립이 아니다\")\n"
      ],
      "metadata": {
        "colab": {
          "base_uri": "https://localhost:8080/"
        },
        "id": "yqk8H1Rj8wyh",
        "outputId": "b733cbe7-65ae-4030-9ee3-8cfd88124365"
      },
      "execution_count": 47,
      "outputs": [
        {
          "output_type": "stream",
          "name": "stdout",
          "text": [
            "0.873028283380073 두 변수는 서로 독립이다\n"
          ]
        }
      ]
    }
  ]
}