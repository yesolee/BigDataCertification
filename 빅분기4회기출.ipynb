{
 "cells": [
  {
   "cell_type": "markdown",
   "metadata": {},
   "source": [
    "# 작업1유형"
   ]
  },
  {
   "cell_type": "markdown",
   "metadata": {},
   "source": [
    "## Q1. Temperature컬럼에서 숫자가 아닌 문자들을 제거후 숫자 타입으로 바꾸고 3분위수에서 1분위수의 차이를 소숫점 이하 2자리까지 구하여라"
   ]
  },
  {
   "cell_type": "code",
   "execution_count": 152,
   "metadata": {},
   "outputs": [
    {
     "data": {
      "text/html": [
       "<div>\n",
       "<style scoped>\n",
       "    .dataframe tbody tr th:only-of-type {\n",
       "        vertical-align: middle;\n",
       "    }\n",
       "\n",
       "    .dataframe tbody tr th {\n",
       "        vertical-align: top;\n",
       "    }\n",
       "\n",
       "    .dataframe thead th {\n",
       "        text-align: right;\n",
       "    }\n",
       "</style>\n",
       "<table border=\"1\" class=\"dataframe\">\n",
       "  <thead>\n",
       "    <tr style=\"text-align: right;\">\n",
       "      <th></th>\n",
       "      <th>Store</th>\n",
       "      <th>Date</th>\n",
       "      <th>Weekly_Sales</th>\n",
       "      <th>Holiday_Flag</th>\n",
       "      <th>Temperature</th>\n",
       "      <th>Fuel_Price</th>\n",
       "      <th>CPI</th>\n",
       "      <th>Unemployment</th>\n",
       "    </tr>\n",
       "  </thead>\n",
       "  <tbody>\n",
       "    <tr>\n",
       "      <th>0</th>\n",
       "      <td>1</td>\n",
       "      <td>05-02-2010</td>\n",
       "      <td>1643690.90</td>\n",
       "      <td>0</td>\n",
       "      <td>42.31</td>\n",
       "      <td>2.572</td>\n",
       "      <td>211.096358</td>\n",
       "      <td>8.106</td>\n",
       "    </tr>\n",
       "    <tr>\n",
       "      <th>1</th>\n",
       "      <td>1</td>\n",
       "      <td>12-02-2010</td>\n",
       "      <td>1641957.44</td>\n",
       "      <td>1</td>\n",
       "      <td>38.51</td>\n",
       "      <td>2.548</td>\n",
       "      <td>211.242170</td>\n",
       "      <td>8.106</td>\n",
       "    </tr>\n",
       "    <tr>\n",
       "      <th>2</th>\n",
       "      <td>1</td>\n",
       "      <td>19-02-2010</td>\n",
       "      <td>1611968.17</td>\n",
       "      <td>0</td>\n",
       "      <td>39.93</td>\n",
       "      <td>2.514</td>\n",
       "      <td>211.289143</td>\n",
       "      <td>8.106</td>\n",
       "    </tr>\n",
       "    <tr>\n",
       "      <th>3</th>\n",
       "      <td>1</td>\n",
       "      <td>26-02-2010</td>\n",
       "      <td>1409727.59</td>\n",
       "      <td>0</td>\n",
       "      <td>46.63</td>\n",
       "      <td>2.561</td>\n",
       "      <td>211.319643</td>\n",
       "      <td>8.106</td>\n",
       "    </tr>\n",
       "    <tr>\n",
       "      <th>4</th>\n",
       "      <td>1</td>\n",
       "      <td>05-03-2010</td>\n",
       "      <td>1554806.68</td>\n",
       "      <td>0</td>\n",
       "      <td>46.5</td>\n",
       "      <td>2.625</td>\n",
       "      <td>211.350143</td>\n",
       "      <td>8.106</td>\n",
       "    </tr>\n",
       "  </tbody>\n",
       "</table>\n",
       "</div>"
      ],
      "text/plain": [
       "   Store        Date  Weekly_Sales  Holiday_Flag Temperature  Fuel_Price  \\\n",
       "0      1  05-02-2010    1643690.90             0       42.31       2.572   \n",
       "1      1  12-02-2010    1641957.44             1       38.51       2.548   \n",
       "2      1  19-02-2010    1611968.17             0       39.93       2.514   \n",
       "3      1  26-02-2010    1409727.59             0       46.63       2.561   \n",
       "4      1  05-03-2010    1554806.68             0        46.5       2.625   \n",
       "\n",
       "          CPI  Unemployment  \n",
       "0  211.096358         8.106  \n",
       "1  211.242170         8.106  \n",
       "2  211.289143         8.106  \n",
       "3  211.319643         8.106  \n",
       "4  211.350143         8.106  "
      ]
     },
     "execution_count": 152,
     "metadata": {},
     "output_type": "execute_result"
    }
   ],
   "source": [
    "import pandas as pd\n",
    "df = pd.read_csv('https://raw.githubusercontent.com/Datamanim/datarepo/main/krdatacertificate/e4_p1_1.csv')\n",
    "df.head(5)"
   ]
  },
  {
   "cell_type": "code",
   "execution_count": 153,
   "metadata": {},
   "outputs": [
    {
     "data": {
      "text/plain": [
       "3543"
      ]
     },
     "execution_count": 153,
     "metadata": {},
     "output_type": "execute_result"
    }
   ],
   "source": [
    "df['Temperature'].nunique()"
   ]
  },
  {
   "cell_type": "code",
   "execution_count": 154,
   "metadata": {},
   "outputs": [
    {
     "name": "stdout",
     "output_type": "stream",
     "text": [
      "<class 'pandas.core.series.Series'>\n",
      "RangeIndex: 6435 entries, 0 to 6434\n",
      "Series name: Temperature\n",
      "Non-Null Count  Dtype  \n",
      "--------------  -----  \n",
      "6435 non-null   float64\n",
      "dtypes: float64(1)\n",
      "memory usage: 50.4 KB\n"
     ]
    }
   ],
   "source": [
    "df['Temperature'] = df['Temperature'].str.replace(r'[^0-9.]','',regex=\"True\").astype(float)\n",
    "# 숫자와 소숫점이 아닌거\n",
    "df['Temperature'].info()"
   ]
  },
  {
   "cell_type": "code",
   "execution_count": 155,
   "metadata": {},
   "outputs": [
    {
     "data": {
      "text/plain": [
       "27.48"
      ]
     },
     "execution_count": 155,
     "metadata": {},
     "output_type": "execute_result"
    }
   ],
   "source": [
    "round(df['Temperature'].quantile(0.75) - df['Temperature'].quantile(0.25), 2) "
   ]
  },
  {
   "cell_type": "markdown",
   "metadata": {},
   "source": [
    "## Q2. Likes를 Comments로 나눈 비율이 20이상이면서 Keyword값이 minecraft인 영상들의 Views값의 평균을 정수로 구하여라"
   ]
  },
  {
   "cell_type": "code",
   "execution_count": 156,
   "metadata": {},
   "outputs": [
    {
     "data": {
      "text/html": [
       "<div>\n",
       "<style scoped>\n",
       "    .dataframe tbody tr th:only-of-type {\n",
       "        vertical-align: middle;\n",
       "    }\n",
       "\n",
       "    .dataframe tbody tr th {\n",
       "        vertical-align: top;\n",
       "    }\n",
       "\n",
       "    .dataframe thead th {\n",
       "        text-align: right;\n",
       "    }\n",
       "</style>\n",
       "<table border=\"1\" class=\"dataframe\">\n",
       "  <thead>\n",
       "    <tr style=\"text-align: right;\">\n",
       "      <th></th>\n",
       "      <th>Title</th>\n",
       "      <th>Video ID</th>\n",
       "      <th>Published At</th>\n",
       "      <th>Keyword</th>\n",
       "      <th>Likes</th>\n",
       "      <th>Comments</th>\n",
       "      <th>Views</th>\n",
       "    </tr>\n",
       "  </thead>\n",
       "  <tbody>\n",
       "    <tr>\n",
       "      <th>0</th>\n",
       "      <td>Apple Pay Is Killing the Physical Wallet After...</td>\n",
       "      <td>wAZZ-UWGVHI</td>\n",
       "      <td>2022-08-23</td>\n",
       "      <td>tech</td>\n",
       "      <td>3407.0</td>\n",
       "      <td>672.0</td>\n",
       "      <td>135612.0</td>\n",
       "    </tr>\n",
       "    <tr>\n",
       "      <th>1</th>\n",
       "      <td>The most EXPENSIVE thing I own.</td>\n",
       "      <td>b3x28s61q3c</td>\n",
       "      <td>2022-08-24</td>\n",
       "      <td>tech</td>\n",
       "      <td>76779.0</td>\n",
       "      <td>4306.0</td>\n",
       "      <td>1758063.0</td>\n",
       "    </tr>\n",
       "  </tbody>\n",
       "</table>\n",
       "</div>"
      ],
      "text/plain": [
       "                                               Title     Video ID  \\\n",
       "0  Apple Pay Is Killing the Physical Wallet After...  wAZZ-UWGVHI   \n",
       "1                    The most EXPENSIVE thing I own.  b3x28s61q3c   \n",
       "\n",
       "  Published At Keyword    Likes  Comments      Views  \n",
       "0   2022-08-23    tech   3407.0     672.0   135612.0  \n",
       "1   2022-08-24    tech  76779.0    4306.0  1758063.0  "
      ]
     },
     "execution_count": 156,
     "metadata": {},
     "output_type": "execute_result"
    }
   ],
   "source": [
    "import pandas as pd\n",
    "df = pd.read_csv('https://raw.githubusercontent.com/Datamanim/datarepo/main/krdatacertificate/e4_p1_2.csv')\n",
    "df.head(2)"
   ]
  },
  {
   "cell_type": "code",
   "execution_count": 157,
   "metadata": {},
   "outputs": [
    {
     "data": {
      "text/plain": [
       "1789084"
      ]
     },
     "execution_count": 157,
     "metadata": {},
     "output_type": "execute_result"
    }
   ],
   "source": [
    "int(df[((df['Likes'] / df['Comments']) >= 20 ) & (df['Keyword'] == \"minecraft\")]['Views'].mean())"
   ]
  },
  {
   "cell_type": "markdown",
   "metadata": {},
   "source": [
    "##  Q3. date_added가 2018년 1월 이면서 country가 United Kingdom 단독 제작인 데이터의 갯수"
   ]
  },
  {
   "cell_type": "code",
   "execution_count": 158,
   "metadata": {},
   "outputs": [
    {
     "data": {
      "text/html": [
       "<div>\n",
       "<style scoped>\n",
       "    .dataframe tbody tr th:only-of-type {\n",
       "        vertical-align: middle;\n",
       "    }\n",
       "\n",
       "    .dataframe tbody tr th {\n",
       "        vertical-align: top;\n",
       "    }\n",
       "\n",
       "    .dataframe thead th {\n",
       "        text-align: right;\n",
       "    }\n",
       "</style>\n",
       "<table border=\"1\" class=\"dataframe\">\n",
       "  <thead>\n",
       "    <tr style=\"text-align: right;\">\n",
       "      <th></th>\n",
       "      <th>show_id</th>\n",
       "      <th>type</th>\n",
       "      <th>title</th>\n",
       "      <th>director</th>\n",
       "      <th>cast</th>\n",
       "      <th>country</th>\n",
       "      <th>date_added</th>\n",
       "      <th>release_year</th>\n",
       "      <th>rating</th>\n",
       "      <th>duration</th>\n",
       "      <th>listed_in</th>\n",
       "      <th>description</th>\n",
       "    </tr>\n",
       "  </thead>\n",
       "  <tbody>\n",
       "    <tr>\n",
       "      <th>0</th>\n",
       "      <td>s1</td>\n",
       "      <td>Movie</td>\n",
       "      <td>Dick Johnson Is Dead</td>\n",
       "      <td>Kirsten Johnson</td>\n",
       "      <td>NaN</td>\n",
       "      <td>United States</td>\n",
       "      <td>September 25, 2021</td>\n",
       "      <td>2020</td>\n",
       "      <td>PG-13</td>\n",
       "      <td>90 min</td>\n",
       "      <td>Documentaries</td>\n",
       "      <td>As her father nears the end of his life, filmm...</td>\n",
       "    </tr>\n",
       "    <tr>\n",
       "      <th>1</th>\n",
       "      <td>s2</td>\n",
       "      <td>TV Show</td>\n",
       "      <td>Blood &amp; Water</td>\n",
       "      <td>NaN</td>\n",
       "      <td>Ama Qamata, Khosi Ngema, Gail Mabalane, Thaban...</td>\n",
       "      <td>South Africa</td>\n",
       "      <td>September 24, 2021</td>\n",
       "      <td>2021</td>\n",
       "      <td>TV-MA</td>\n",
       "      <td>2 Seasons</td>\n",
       "      <td>International TV Shows, TV Dramas, TV Mysteries</td>\n",
       "      <td>After crossing paths at a party, a Cape Town t...</td>\n",
       "    </tr>\n",
       "  </tbody>\n",
       "</table>\n",
       "</div>"
      ],
      "text/plain": [
       "  show_id     type                 title         director  \\\n",
       "0      s1    Movie  Dick Johnson Is Dead  Kirsten Johnson   \n",
       "1      s2  TV Show         Blood & Water              NaN   \n",
       "\n",
       "                                                cast        country  \\\n",
       "0                                                NaN  United States   \n",
       "1  Ama Qamata, Khosi Ngema, Gail Mabalane, Thaban...   South Africa   \n",
       "\n",
       "           date_added  release_year rating   duration  \\\n",
       "0  September 25, 2021          2020  PG-13     90 min   \n",
       "1  September 24, 2021          2021  TV-MA  2 Seasons   \n",
       "\n",
       "                                         listed_in  \\\n",
       "0                                    Documentaries   \n",
       "1  International TV Shows, TV Dramas, TV Mysteries   \n",
       "\n",
       "                                         description  \n",
       "0  As her father nears the end of his life, filmm...  \n",
       "1  After crossing paths at a party, a Cape Town t...  "
      ]
     },
     "execution_count": 158,
     "metadata": {},
     "output_type": "execute_result"
    }
   ],
   "source": [
    "import pandas as pd\n",
    "df = pd.read_csv('https://raw.githubusercontent.com/Datamanim/datarepo/main/krdatacertificate/e4_p1_3.csv')\n",
    "df.head(2)"
   ]
  },
  {
   "cell_type": "code",
   "execution_count": 159,
   "metadata": {},
   "outputs": [
    {
     "name": "stdout",
     "output_type": "stream",
     "text": [
      "<class 'pandas.core.frame.DataFrame'>\n",
      "RangeIndex: 8807 entries, 0 to 8806\n",
      "Data columns (total 12 columns):\n",
      " #   Column        Non-Null Count  Dtype \n",
      "---  ------        --------------  ----- \n",
      " 0   show_id       8807 non-null   object\n",
      " 1   type          8807 non-null   object\n",
      " 2   title         8807 non-null   object\n",
      " 3   director      6173 non-null   object\n",
      " 4   cast          7982 non-null   object\n",
      " 5   country       7976 non-null   object\n",
      " 6   date_added    8797 non-null   object\n",
      " 7   release_year  8807 non-null   int64 \n",
      " 8   rating        8803 non-null   object\n",
      " 9   duration      8804 non-null   object\n",
      " 10  listed_in     8807 non-null   object\n",
      " 11  description   8807 non-null   object\n",
      "dtypes: int64(1), object(11)\n",
      "memory usage: 825.8+ KB\n"
     ]
    }
   ],
   "source": [
    "df.info()"
   ]
  },
  {
   "cell_type": "code",
   "execution_count": 160,
   "metadata": {},
   "outputs": [
    {
     "data": {
      "text/plain": [
       "date_added\n",
       "January 1, 2020      109\n",
       "November 1, 2019      89\n",
       "March 1, 2018         75\n",
       "December 31, 2019     74\n",
       "October 1, 2018       71\n",
       "                    ... \n",
       "May 17, 2018           1\n",
       "May 13, 2018           1\n",
       "May 12, 2018           1\n",
       "May 7, 2018            1\n",
       "January 11, 2020       1\n",
       "Name: count, Length: 1957, dtype: int64"
      ]
     },
     "execution_count": 160,
     "metadata": {},
     "output_type": "execute_result"
    }
   ],
   "source": [
    "df['date_added'].value_counts()"
   ]
  },
  {
   "cell_type": "code",
   "execution_count": 161,
   "metadata": {},
   "outputs": [
    {
     "name": "stdout",
     "output_type": "stream",
     "text": [
      "<class 'pandas.core.frame.DataFrame'>\n",
      "RangeIndex: 8807 entries, 0 to 8806\n",
      "Data columns (total 13 columns):\n",
      " #   Column        Non-Null Count  Dtype         \n",
      "---  ------        --------------  -----         \n",
      " 0   show_id       8807 non-null   object        \n",
      " 1   type          8807 non-null   object        \n",
      " 2   title         8807 non-null   object        \n",
      " 3   director      6173 non-null   object        \n",
      " 4   cast          7982 non-null   object        \n",
      " 5   country       7976 non-null   object        \n",
      " 6   date_added    8797 non-null   object        \n",
      " 7   release_year  8807 non-null   int64         \n",
      " 8   rating        8803 non-null   object        \n",
      " 9   duration      8804 non-null   object        \n",
      " 10  listed_in     8807 non-null   object        \n",
      " 11  description   8807 non-null   object        \n",
      " 12  date_time     8797 non-null   datetime64[ns]\n",
      "dtypes: datetime64[ns](1), int64(1), object(11)\n",
      "memory usage: 894.6+ KB\n"
     ]
    }
   ],
   "source": [
    "df['date_time'] = pd.to_datetime(df['date_added'].str.strip(), format=\"%B %d, %Y\")\n",
    "df.info()"
   ]
  },
  {
   "cell_type": "code",
   "execution_count": 162,
   "metadata": {},
   "outputs": [
    {
     "data": {
      "text/plain": [
       "0       False\n",
       "1       False\n",
       "2       False\n",
       "3       False\n",
       "4       False\n",
       "        ...  \n",
       "8802    False\n",
       "8803    False\n",
       "8804    False\n",
       "8805    False\n",
       "8806    False\n",
       "Name: date_time, Length: 8807, dtype: bool"
      ]
     },
     "execution_count": 162,
     "metadata": {},
     "output_type": "execute_result"
    }
   ],
   "source": [
    "df['date_time'].dt.strftime(\"%Y-%m\") == \"2018-01\""
   ]
  },
  {
   "cell_type": "code",
   "execution_count": 163,
   "metadata": {},
   "outputs": [
    {
     "data": {
      "text/plain": [
       "6"
      ]
     },
     "execution_count": 163,
     "metadata": {},
     "output_type": "execute_result"
    }
   ],
   "source": [
    "df[( df['date_time'].dt.strftime(\"%Y-%m\") == \"2018-01\" ) & (df['country']== \"United Kingdom\")].shape[0]"
   ]
  },
  {
   "cell_type": "markdown",
   "metadata": {},
   "source": [
    "# 작업2유형"
   ]
  },
  {
   "cell_type": "markdown",
   "metadata": {},
   "source": [
    "## Q1. 예측 변수 Segmentation, test.csv에 대해 ID별로 Segmentation의 클래스를 예측해서 저장후 제출, 제출 데이터 컬럼은 ID와 Segmentation 두개만 존재해야함. 평가지표는 macro f1 score"
   ]
  },
  {
   "cell_type": "code",
   "execution_count": 164,
   "metadata": {},
   "outputs": [
    {
     "data": {
      "text/html": [
       "<div>\n",
       "<style scoped>\n",
       "    .dataframe tbody tr th:only-of-type {\n",
       "        vertical-align: middle;\n",
       "    }\n",
       "\n",
       "    .dataframe tbody tr th {\n",
       "        vertical-align: top;\n",
       "    }\n",
       "\n",
       "    .dataframe thead th {\n",
       "        text-align: right;\n",
       "    }\n",
       "</style>\n",
       "<table border=\"1\" class=\"dataframe\">\n",
       "  <thead>\n",
       "    <tr style=\"text-align: right;\">\n",
       "      <th></th>\n",
       "      <th>ID</th>\n",
       "      <th>Gender</th>\n",
       "      <th>Ever_Married</th>\n",
       "      <th>Age</th>\n",
       "      <th>Graduated</th>\n",
       "      <th>Profession</th>\n",
       "      <th>Work_Experience</th>\n",
       "      <th>Spending_Score</th>\n",
       "      <th>Family_Size</th>\n",
       "      <th>Var_1</th>\n",
       "      <th>Segmentation</th>\n",
       "    </tr>\n",
       "  </thead>\n",
       "  <tbody>\n",
       "    <tr>\n",
       "      <th>0</th>\n",
       "      <td>464357</td>\n",
       "      <td>Male</td>\n",
       "      <td>No</td>\n",
       "      <td>40</td>\n",
       "      <td>Yes</td>\n",
       "      <td>Artist</td>\n",
       "      <td>7.0</td>\n",
       "      <td>Low</td>\n",
       "      <td>1.0</td>\n",
       "      <td>Cat_6</td>\n",
       "      <td>A</td>\n",
       "    </tr>\n",
       "    <tr>\n",
       "      <th>1</th>\n",
       "      <td>459624</td>\n",
       "      <td>Male</td>\n",
       "      <td>No</td>\n",
       "      <td>18</td>\n",
       "      <td>No</td>\n",
       "      <td>Healthcare</td>\n",
       "      <td>NaN</td>\n",
       "      <td>Low</td>\n",
       "      <td>5.0</td>\n",
       "      <td>Cat_4</td>\n",
       "      <td>D</td>\n",
       "    </tr>\n",
       "  </tbody>\n",
       "</table>\n",
       "</div>"
      ],
      "text/plain": [
       "       ID Gender Ever_Married  Age Graduated  Profession  Work_Experience  \\\n",
       "0  464357   Male           No   40       Yes      Artist              7.0   \n",
       "1  459624   Male           No   18        No  Healthcare              NaN   \n",
       "\n",
       "  Spending_Score  Family_Size  Var_1 Segmentation  \n",
       "0            Low          1.0  Cat_6            A  \n",
       "1            Low          5.0  Cat_4            D  "
      ]
     },
     "metadata": {},
     "output_type": "display_data"
    },
    {
     "data": {
      "text/html": [
       "<div>\n",
       "<style scoped>\n",
       "    .dataframe tbody tr th:only-of-type {\n",
       "        vertical-align: middle;\n",
       "    }\n",
       "\n",
       "    .dataframe tbody tr th {\n",
       "        vertical-align: top;\n",
       "    }\n",
       "\n",
       "    .dataframe thead th {\n",
       "        text-align: right;\n",
       "    }\n",
       "</style>\n",
       "<table border=\"1\" class=\"dataframe\">\n",
       "  <thead>\n",
       "    <tr style=\"text-align: right;\">\n",
       "      <th></th>\n",
       "      <th>ID</th>\n",
       "      <th>Gender</th>\n",
       "      <th>Ever_Married</th>\n",
       "      <th>Age</th>\n",
       "      <th>Graduated</th>\n",
       "      <th>Profession</th>\n",
       "      <th>Work_Experience</th>\n",
       "      <th>Spending_Score</th>\n",
       "      <th>Family_Size</th>\n",
       "      <th>Var_1</th>\n",
       "    </tr>\n",
       "  </thead>\n",
       "  <tbody>\n",
       "    <tr>\n",
       "      <th>0</th>\n",
       "      <td>460406</td>\n",
       "      <td>Male</td>\n",
       "      <td>Yes</td>\n",
       "      <td>36</td>\n",
       "      <td>Yes</td>\n",
       "      <td>Healthcare</td>\n",
       "      <td>3.0</td>\n",
       "      <td>Low</td>\n",
       "      <td>2.0</td>\n",
       "      <td>Cat_6</td>\n",
       "    </tr>\n",
       "    <tr>\n",
       "      <th>1</th>\n",
       "      <td>466890</td>\n",
       "      <td>Male</td>\n",
       "      <td>Yes</td>\n",
       "      <td>47</td>\n",
       "      <td>Yes</td>\n",
       "      <td>Artist</td>\n",
       "      <td>0.0</td>\n",
       "      <td>Average</td>\n",
       "      <td>6.0</td>\n",
       "      <td>Cat_7</td>\n",
       "    </tr>\n",
       "  </tbody>\n",
       "</table>\n",
       "</div>"
      ],
      "text/plain": [
       "       ID Gender Ever_Married  Age Graduated  Profession  Work_Experience  \\\n",
       "0  460406   Male          Yes   36       Yes  Healthcare              3.0   \n",
       "1  466890   Male          Yes   47       Yes      Artist              0.0   \n",
       "\n",
       "  Spending_Score  Family_Size  Var_1  \n",
       "0            Low          2.0  Cat_6  \n",
       "1        Average          6.0  Cat_7  "
      ]
     },
     "execution_count": 164,
     "metadata": {},
     "output_type": "execute_result"
    }
   ],
   "source": [
    "import pandas as pd\n",
    "train = pd.read_csv('https://raw.githubusercontent.com/Datamanim/datarepo/main/krdatacertificate/e4_p2_train.csv')\n",
    "test = pd.read_csv('https://raw.githubusercontent.com/Datamanim/datarepo/main/krdatacertificate/e4_p2_test.csv')\n",
    "\n",
    "display(train.head(2))\n",
    "test.head(2)"
   ]
  },
  {
   "cell_type": "code",
   "execution_count": 165,
   "metadata": {},
   "outputs": [
    {
     "data": {
      "text/plain": [
       "Segmentation\n",
       "D    1388\n",
       "A    1244\n",
       "C    1143\n",
       "B    1106\n",
       "Name: count, dtype: int64"
      ]
     },
     "execution_count": 165,
     "metadata": {},
     "output_type": "execute_result"
    }
   ],
   "source": [
    "train['Segmentation'].value_counts()"
   ]
  },
  {
   "cell_type": "code",
   "execution_count": 166,
   "metadata": {},
   "outputs": [
    {
     "data": {
      "text/plain": [
       "((4881, 11), (1542, 10))"
      ]
     },
     "execution_count": 166,
     "metadata": {},
     "output_type": "execute_result"
    }
   ],
   "source": [
    "train.shape, test.shape"
   ]
  },
  {
   "cell_type": "code",
   "execution_count": 167,
   "metadata": {},
   "outputs": [
    {
     "data": {
      "text/plain": [
       "(966, 283)"
      ]
     },
     "execution_count": 167,
     "metadata": {},
     "output_type": "execute_result"
    }
   ],
   "source": [
    "train.isna().sum().sum(), test.isna().sum().sum()"
   ]
  },
  {
   "cell_type": "code",
   "execution_count": 168,
   "metadata": {},
   "outputs": [
    {
     "data": {
      "text/plain": [
       "ID                 0.000000\n",
       "Gender             0.000000\n",
       "Ever_Married       0.019668\n",
       "Age                0.000000\n",
       "Graduated          0.010449\n",
       "Profession         0.013112\n",
       "Work_Experience    0.105101\n",
       "Spending_Score     0.000000\n",
       "Family_Size        0.039336\n",
       "Var_1              0.010244\n",
       "Segmentation       0.000000\n",
       "dtype: float64"
      ]
     },
     "execution_count": 168,
     "metadata": {},
     "output_type": "execute_result"
    }
   ],
   "source": [
    "train.isna().sum()/len(train)"
   ]
  },
  {
   "cell_type": "code",
   "execution_count": 169,
   "metadata": {},
   "outputs": [
    {
     "data": {
      "text/plain": [
       "ID                 0.000000\n",
       "Gender             0.000000\n",
       "Ever_Married       0.014267\n",
       "Age                0.000000\n",
       "Graduated          0.010376\n",
       "Profession         0.014916\n",
       "Work_Experience    0.092088\n",
       "Spending_Score     0.000000\n",
       "Family_Size        0.044099\n",
       "Var_1              0.007782\n",
       "dtype: float64"
      ]
     },
     "execution_count": 169,
     "metadata": {},
     "output_type": "execute_result"
    }
   ],
   "source": [
    "test.isna().sum()/len(test)"
   ]
  },
  {
   "cell_type": "code",
   "execution_count": 170,
   "metadata": {},
   "outputs": [
    {
     "data": {
      "text/html": [
       "<div>\n",
       "<style scoped>\n",
       "    .dataframe tbody tr th:only-of-type {\n",
       "        vertical-align: middle;\n",
       "    }\n",
       "\n",
       "    .dataframe tbody tr th {\n",
       "        vertical-align: top;\n",
       "    }\n",
       "\n",
       "    .dataframe thead th {\n",
       "        text-align: right;\n",
       "    }\n",
       "</style>\n",
       "<table border=\"1\" class=\"dataframe\">\n",
       "  <thead>\n",
       "    <tr style=\"text-align: right;\">\n",
       "      <th></th>\n",
       "      <th>dtypes</th>\n",
       "      <th>nan_ratio_train</th>\n",
       "      <th>nan_ratio_test</th>\n",
       "    </tr>\n",
       "  </thead>\n",
       "  <tbody>\n",
       "    <tr>\n",
       "      <th>Age</th>\n",
       "      <td>int64</td>\n",
       "      <td>0.000000</td>\n",
       "      <td>0.000000</td>\n",
       "    </tr>\n",
       "    <tr>\n",
       "      <th>Ever_Married</th>\n",
       "      <td>object</td>\n",
       "      <td>0.019668</td>\n",
       "      <td>0.014267</td>\n",
       "    </tr>\n",
       "    <tr>\n",
       "      <th>Family_Size</th>\n",
       "      <td>float64</td>\n",
       "      <td>0.039336</td>\n",
       "      <td>0.044099</td>\n",
       "    </tr>\n",
       "    <tr>\n",
       "      <th>Gender</th>\n",
       "      <td>object</td>\n",
       "      <td>0.000000</td>\n",
       "      <td>0.000000</td>\n",
       "    </tr>\n",
       "    <tr>\n",
       "      <th>Graduated</th>\n",
       "      <td>object</td>\n",
       "      <td>0.010449</td>\n",
       "      <td>0.010376</td>\n",
       "    </tr>\n",
       "    <tr>\n",
       "      <th>ID</th>\n",
       "      <td>int64</td>\n",
       "      <td>0.000000</td>\n",
       "      <td>0.000000</td>\n",
       "    </tr>\n",
       "    <tr>\n",
       "      <th>Profession</th>\n",
       "      <td>object</td>\n",
       "      <td>0.013112</td>\n",
       "      <td>0.014916</td>\n",
       "    </tr>\n",
       "    <tr>\n",
       "      <th>Segmentation</th>\n",
       "      <td>object</td>\n",
       "      <td>0.000000</td>\n",
       "      <td>NaN</td>\n",
       "    </tr>\n",
       "    <tr>\n",
       "      <th>Spending_Score</th>\n",
       "      <td>object</td>\n",
       "      <td>0.000000</td>\n",
       "      <td>0.000000</td>\n",
       "    </tr>\n",
       "    <tr>\n",
       "      <th>Var_1</th>\n",
       "      <td>object</td>\n",
       "      <td>0.010244</td>\n",
       "      <td>0.007782</td>\n",
       "    </tr>\n",
       "    <tr>\n",
       "      <th>Work_Experience</th>\n",
       "      <td>float64</td>\n",
       "      <td>0.105101</td>\n",
       "      <td>0.092088</td>\n",
       "    </tr>\n",
       "  </tbody>\n",
       "</table>\n",
       "</div>"
      ],
      "text/plain": [
       "                  dtypes  nan_ratio_train  nan_ratio_test\n",
       "Age                int64         0.000000        0.000000\n",
       "Ever_Married      object         0.019668        0.014267\n",
       "Family_Size      float64         0.039336        0.044099\n",
       "Gender            object         0.000000        0.000000\n",
       "Graduated         object         0.010449        0.010376\n",
       "ID                 int64         0.000000        0.000000\n",
       "Profession        object         0.013112        0.014916\n",
       "Segmentation      object         0.000000             NaN\n",
       "Spending_Score    object         0.000000        0.000000\n",
       "Var_1             object         0.010244        0.007782\n",
       "Work_Experience  float64         0.105101        0.092088"
      ]
     },
     "execution_count": 170,
     "metadata": {},
     "output_type": "execute_result"
    }
   ],
   "source": [
    "pd.DataFrame({\n",
    "    \"dtypes\": train.dtypes,\n",
    "    \"nan_ratio_train\": train.isna().sum()/len(train),\n",
    "    \"nan_ratio_test\": test.isna().sum()/len(test)\n",
    "})"
   ]
  },
  {
   "cell_type": "code",
   "execution_count": 171,
   "metadata": {},
   "outputs": [
    {
     "data": {
      "text/html": [
       "<div>\n",
       "<style scoped>\n",
       "    .dataframe tbody tr th:only-of-type {\n",
       "        vertical-align: middle;\n",
       "    }\n",
       "\n",
       "    .dataframe tbody tr th {\n",
       "        vertical-align: top;\n",
       "    }\n",
       "\n",
       "    .dataframe thead th {\n",
       "        text-align: right;\n",
       "    }\n",
       "</style>\n",
       "<table border=\"1\" class=\"dataframe\">\n",
       "  <thead>\n",
       "    <tr style=\"text-align: right;\">\n",
       "      <th></th>\n",
       "      <th>ID</th>\n",
       "      <th>Age</th>\n",
       "      <th>Work_Experience</th>\n",
       "      <th>Family_Size</th>\n",
       "    </tr>\n",
       "  </thead>\n",
       "  <tbody>\n",
       "    <tr>\n",
       "      <th>count</th>\n",
       "      <td>4881.000000</td>\n",
       "      <td>4881.000000</td>\n",
       "      <td>4368.000000</td>\n",
       "      <td>4689.000000</td>\n",
       "    </tr>\n",
       "    <tr>\n",
       "      <th>mean</th>\n",
       "      <td>463476.022741</td>\n",
       "      <td>43.567916</td>\n",
       "      <td>2.685211</td>\n",
       "      <td>2.838132</td>\n",
       "    </tr>\n",
       "    <tr>\n",
       "      <th>std</th>\n",
       "      <td>2586.931166</td>\n",
       "      <td>16.687728</td>\n",
       "      <td>3.452785</td>\n",
       "      <td>1.538897</td>\n",
       "    </tr>\n",
       "    <tr>\n",
       "      <th>min</th>\n",
       "      <td>458982.000000</td>\n",
       "      <td>18.000000</td>\n",
       "      <td>0.000000</td>\n",
       "      <td>1.000000</td>\n",
       "    </tr>\n",
       "    <tr>\n",
       "      <th>25%</th>\n",
       "      <td>461236.000000</td>\n",
       "      <td>31.000000</td>\n",
       "      <td>0.000000</td>\n",
       "      <td>2.000000</td>\n",
       "    </tr>\n",
       "    <tr>\n",
       "      <th>50%</th>\n",
       "      <td>463447.000000</td>\n",
       "      <td>41.000000</td>\n",
       "      <td>1.000000</td>\n",
       "      <td>3.000000</td>\n",
       "    </tr>\n",
       "    <tr>\n",
       "      <th>75%</th>\n",
       "      <td>465717.000000</td>\n",
       "      <td>53.000000</td>\n",
       "      <td>5.000000</td>\n",
       "      <td>4.000000</td>\n",
       "    </tr>\n",
       "    <tr>\n",
       "      <th>max</th>\n",
       "      <td>467972.000000</td>\n",
       "      <td>89.000000</td>\n",
       "      <td>14.000000</td>\n",
       "      <td>9.000000</td>\n",
       "    </tr>\n",
       "  </tbody>\n",
       "</table>\n",
       "</div>"
      ],
      "text/plain": [
       "                  ID          Age  Work_Experience  Family_Size\n",
       "count    4881.000000  4881.000000      4368.000000  4689.000000\n",
       "mean   463476.022741    43.567916         2.685211     2.838132\n",
       "std      2586.931166    16.687728         3.452785     1.538897\n",
       "min    458982.000000    18.000000         0.000000     1.000000\n",
       "25%    461236.000000    31.000000         0.000000     2.000000\n",
       "50%    463447.000000    41.000000         1.000000     3.000000\n",
       "75%    465717.000000    53.000000         5.000000     4.000000\n",
       "max    467972.000000    89.000000        14.000000     9.000000"
      ]
     },
     "execution_count": 171,
     "metadata": {},
     "output_type": "execute_result"
    }
   ],
   "source": [
    "# 숫자형 데이터 결측치 채우기\n",
    "# 이상치 확인\n",
    "train.describe()\n"
   ]
  },
  {
   "cell_type": "code",
   "execution_count": 172,
   "metadata": {},
   "outputs": [],
   "source": [
    "# 결측치 채우기\n",
    "train_col = train.select_dtypes(include='number').columns\n",
    "for col in train_col:\n",
    "    train[col] = train[col].fillna(train[col].mean())"
   ]
  },
  {
   "cell_type": "code",
   "execution_count": 173,
   "metadata": {},
   "outputs": [
    {
     "data": {
      "text/plain": [
       "ID                 0\n",
       "Age                0\n",
       "Work_Experience    0\n",
       "Family_Size        0\n",
       "dtype: int64"
      ]
     },
     "execution_count": 173,
     "metadata": {},
     "output_type": "execute_result"
    }
   ],
   "source": [
    "train[train_col].isna().sum()"
   ]
  },
  {
   "cell_type": "code",
   "execution_count": 174,
   "metadata": {},
   "outputs": [
    {
     "data": {
      "text/html": [
       "<div>\n",
       "<style scoped>\n",
       "    .dataframe tbody tr th:only-of-type {\n",
       "        vertical-align: middle;\n",
       "    }\n",
       "\n",
       "    .dataframe tbody tr th {\n",
       "        vertical-align: top;\n",
       "    }\n",
       "\n",
       "    .dataframe thead th {\n",
       "        text-align: right;\n",
       "    }\n",
       "</style>\n",
       "<table border=\"1\" class=\"dataframe\">\n",
       "  <thead>\n",
       "    <tr style=\"text-align: right;\">\n",
       "      <th></th>\n",
       "      <th>ID</th>\n",
       "      <th>Age</th>\n",
       "      <th>Work_Experience</th>\n",
       "      <th>Family_Size</th>\n",
       "    </tr>\n",
       "  </thead>\n",
       "  <tbody>\n",
       "    <tr>\n",
       "      <th>count</th>\n",
       "      <td>1542.000000</td>\n",
       "      <td>1542.000000</td>\n",
       "      <td>1400.000000</td>\n",
       "      <td>1474.000000</td>\n",
       "    </tr>\n",
       "    <tr>\n",
       "      <th>mean</th>\n",
       "      <td>463551.448768</td>\n",
       "      <td>43.285344</td>\n",
       "      <td>2.452857</td>\n",
       "      <td>2.904342</td>\n",
       "    </tr>\n",
       "    <tr>\n",
       "      <th>std</th>\n",
       "      <td>2610.236569</td>\n",
       "      <td>16.726421</td>\n",
       "      <td>3.195432</td>\n",
       "      <td>1.567125</td>\n",
       "    </tr>\n",
       "    <tr>\n",
       "      <th>min</th>\n",
       "      <td>458984.000000</td>\n",
       "      <td>18.000000</td>\n",
       "      <td>0.000000</td>\n",
       "      <td>1.000000</td>\n",
       "    </tr>\n",
       "    <tr>\n",
       "      <th>25%</th>\n",
       "      <td>461249.250000</td>\n",
       "      <td>30.000000</td>\n",
       "      <td>0.000000</td>\n",
       "      <td>2.000000</td>\n",
       "    </tr>\n",
       "    <tr>\n",
       "      <th>50%</th>\n",
       "      <td>463681.000000</td>\n",
       "      <td>40.000000</td>\n",
       "      <td>1.000000</td>\n",
       "      <td>3.000000</td>\n",
       "    </tr>\n",
       "    <tr>\n",
       "      <th>75%</th>\n",
       "      <td>465803.000000</td>\n",
       "      <td>53.000000</td>\n",
       "      <td>4.000000</td>\n",
       "      <td>4.000000</td>\n",
       "    </tr>\n",
       "    <tr>\n",
       "      <th>max</th>\n",
       "      <td>467966.000000</td>\n",
       "      <td>89.000000</td>\n",
       "      <td>14.000000</td>\n",
       "      <td>9.000000</td>\n",
       "    </tr>\n",
       "  </tbody>\n",
       "</table>\n",
       "</div>"
      ],
      "text/plain": [
       "                  ID          Age  Work_Experience  Family_Size\n",
       "count    1542.000000  1542.000000      1400.000000  1474.000000\n",
       "mean   463551.448768    43.285344         2.452857     2.904342\n",
       "std      2610.236569    16.726421         3.195432     1.567125\n",
       "min    458984.000000    18.000000         0.000000     1.000000\n",
       "25%    461249.250000    30.000000         0.000000     2.000000\n",
       "50%    463681.000000    40.000000         1.000000     3.000000\n",
       "75%    465803.000000    53.000000         4.000000     4.000000\n",
       "max    467966.000000    89.000000        14.000000     9.000000"
      ]
     },
     "execution_count": 174,
     "metadata": {},
     "output_type": "execute_result"
    }
   ],
   "source": [
    "test.describe()"
   ]
  },
  {
   "cell_type": "code",
   "execution_count": 175,
   "metadata": {},
   "outputs": [],
   "source": [
    "test_col = test.select_dtypes(include=\"number\").columns\n",
    "for col in test_col:\n",
    "    test[col] = test[col].fillna(test[col].mean())"
   ]
  },
  {
   "cell_type": "code",
   "execution_count": 176,
   "metadata": {},
   "outputs": [
    {
     "data": {
      "text/plain": [
       "ID                 0\n",
       "Age                0\n",
       "Work_Experience    0\n",
       "Family_Size        0\n",
       "dtype: int64"
      ]
     },
     "execution_count": 176,
     "metadata": {},
     "output_type": "execute_result"
    }
   ],
   "source": [
    "test[test_col].isna().sum()"
   ]
  },
  {
   "cell_type": "code",
   "execution_count": 177,
   "metadata": {},
   "outputs": [
    {
     "data": {
      "text/plain": [
       "ID                    0\n",
       "Gender                0\n",
       "Ever_Married        118\n",
       "Age                   0\n",
       "Graduated            67\n",
       "Profession           87\n",
       "Work_Experience       0\n",
       "Spending_Score        0\n",
       "Family_Size           0\n",
       "Var_1                62\n",
       "Segmentation       1542\n",
       "dtype: int64"
      ]
     },
     "execution_count": 177,
     "metadata": {},
     "output_type": "execute_result"
    }
   ],
   "source": [
    "df = pd.concat([train, test], axis=0)\n",
    "df.isna().sum()"
   ]
  },
  {
   "cell_type": "code",
   "execution_count": 178,
   "metadata": {},
   "outputs": [],
   "source": [
    "df_obejct = df.select_dtypes(include=\"object\").columns[:-1]\n",
    "for col in df_obejct:\n",
    "    df[col] = df[col].fillna(\"unknown\")"
   ]
  },
  {
   "cell_type": "code",
   "execution_count": 179,
   "metadata": {},
   "outputs": [
    {
     "name": "stdout",
     "output_type": "stream",
     "text": [
      "<class 'pandas.core.frame.DataFrame'>\n",
      "Index: 6423 entries, 0 to 1541\n",
      "Data columns (total 11 columns):\n",
      " #   Column           Non-Null Count  Dtype  \n",
      "---  ------           --------------  -----  \n",
      " 0   ID               6423 non-null   int64  \n",
      " 1   Gender           6423 non-null   int32  \n",
      " 2   Ever_Married     6423 non-null   int32  \n",
      " 3   Age              6423 non-null   int64  \n",
      " 4   Graduated        6423 non-null   int32  \n",
      " 5   Profession       6423 non-null   int32  \n",
      " 6   Work_Experience  6423 non-null   float64\n",
      " 7   Spending_Score   6423 non-null   int32  \n",
      " 8   Family_Size      6423 non-null   float64\n",
      " 9   Var_1            6423 non-null   int32  \n",
      " 10  Segmentation     4881 non-null   object \n",
      "dtypes: float64(2), int32(6), int64(2), object(1)\n",
      "memory usage: 451.6+ KB\n"
     ]
    }
   ],
   "source": [
    "from sklearn.preprocessing import LabelEncoder\n",
    "encoded_col = df.select_dtypes(include=\"object\").columns[:-1]\n",
    "encoders = {}\n",
    "for col in encoded_col:\n",
    "    encoder = LabelEncoder()\n",
    "    df[col] = encoder.fit_transform(df[col])\n",
    "    encoders[col] = encoder\n",
    "\n",
    "df.info()"
   ]
  },
  {
   "cell_type": "code",
   "execution_count": 180,
   "metadata": {},
   "outputs": [
    {
     "name": "stderr",
     "output_type": "stream",
     "text": [
      "C:\\Users\\yesol\\AppData\\Local\\Temp\\ipykernel_6208\\3307526677.py:6: SettingWithCopyWarning: \n",
      "A value is trying to be set on a copy of a slice from a DataFrame.\n",
      "Try using .loc[row_indexer,col_indexer] = value instead\n",
      "\n",
      "See the caveats in the documentation: https://pandas.pydata.org/pandas-docs/stable/user_guide/indexing.html#returning-a-view-versus-a-copy\n",
      "  train_df['Segmentation'] = encoder.fit_transform(train_df['Segmentation'] )\n"
     ]
    },
    {
     "data": {
      "text/plain": [
       "0       0\n",
       "1       3\n",
       "2       3\n",
       "3       1\n",
       "4       2\n",
       "       ..\n",
       "4876    2\n",
       "4877    3\n",
       "4878    3\n",
       "4879    0\n",
       "4880    0\n",
       "Name: Segmentation, Length: 4881, dtype: int32"
      ]
     },
     "execution_count": 180,
     "metadata": {},
     "output_type": "execute_result"
    }
   ],
   "source": [
    "n_train = len(train)\n",
    "train_df = df.iloc[:n_train]\n",
    "test_df = df.iloc[n_train:]\n",
    "\n",
    "encoder = LabelEncoder()\n",
    "train_df['Segmentation'] = encoder.fit_transform(train_df['Segmentation'] )\n",
    "encoders['Segmentation'] = encoder\n",
    "\n",
    "train_df['Segmentation']"
   ]
  },
  {
   "cell_type": "code",
   "execution_count": 181,
   "metadata": {},
   "outputs": [],
   "source": [
    "from sklearn.model_selection import train_test_split\n",
    "\n",
    "X = train_df.drop(['ID', 'Segmentation'], axis=1)\n",
    "y_encoded = train_df['Segmentation']\n",
    "X_train, X_valid, y_train, y_valid = train_test_split(X, y_encoded, test_size=0.2, random_state=42)\n"
   ]
  },
  {
   "cell_type": "code",
   "execution_count": 183,
   "metadata": {},
   "outputs": [
    {
     "data": {
      "text/plain": [
       "ID                    0\n",
       "Gender                0\n",
       "Ever_Married          0\n",
       "Age                   0\n",
       "Graduated             0\n",
       "Profession            0\n",
       "Work_Experience       0\n",
       "Spending_Score        0\n",
       "Family_Size           0\n",
       "Var_1                 0\n",
       "Segmentation       1542\n",
       "dtype: int64"
      ]
     },
     "execution_count": 183,
     "metadata": {},
     "output_type": "execute_result"
    }
   ],
   "source": [
    "test_df.isna().sum()"
   ]
  },
  {
   "cell_type": "code",
   "execution_count": 184,
   "metadata": {},
   "outputs": [],
   "source": [
    "X_test = test_df.drop(['ID','Segmentation'], axis=1)"
   ]
  },
  {
   "cell_type": "code",
   "execution_count": 185,
   "metadata": {},
   "outputs": [
    {
     "data": {
      "text/plain": [
       "array([3, 3, 1, 0, 1, 1, 0, 3, 0, 2, 1, 0, 3, 2, 2, 1, 1, 0, 1, 3, 1, 3,\n",
       "       2, 3, 2, 3, 3, 2, 1, 3, 0, 3, 0, 1, 0, 2, 1, 1, 0, 0, 0, 3, 0, 1,\n",
       "       2, 3, 1, 2, 3, 1, 2, 3, 2, 1, 0, 0, 0, 2, 2, 3, 1, 3, 2, 3, 0, 0,\n",
       "       3, 0, 2, 3, 1, 3, 3, 0, 1, 3, 0, 2, 0, 0, 1, 3, 0, 1, 1, 2, 3, 2,\n",
       "       1, 1, 3, 1, 3, 0, 1, 0, 3, 2, 1, 2, 0, 3, 1, 3, 3, 3, 3, 0, 3, 1,\n",
       "       2, 1, 0, 2, 1, 3, 0, 0, 2, 3, 2, 3, 3, 0, 0, 0, 1, 2, 0, 2, 2, 1,\n",
       "       1, 3, 2, 3, 0, 3, 0, 0, 3, 3, 3, 1, 3, 3, 3, 3, 3, 3, 3, 0, 1, 2,\n",
       "       0, 0, 1, 0, 1, 3, 2, 2, 3, 2, 2, 2, 2, 0, 2, 1, 2, 0, 1, 0, 1, 1,\n",
       "       2, 2, 1, 3, 1, 0, 0, 2, 3, 0, 0, 0, 3, 3, 0, 1, 3, 3, 0, 2, 2, 3,\n",
       "       1, 3, 3, 0, 1, 3, 3, 3, 2, 3, 0, 3, 0, 1, 2, 1, 1, 0, 0, 3, 2, 1,\n",
       "       0, 3, 2, 0, 0, 3, 2, 0, 2, 0, 3, 0, 2, 3, 2, 0, 3, 1, 0, 2, 1, 0,\n",
       "       3, 3, 2, 2, 2, 0, 3, 2, 3, 1, 3, 1, 2, 3, 3, 0, 1, 2, 2, 3, 2, 3,\n",
       "       3, 3, 0, 0, 3, 3, 1, 2, 2, 3, 0, 3, 0, 3, 2, 2, 0, 0, 3, 3, 2, 2,\n",
       "       0, 3, 2, 1, 3, 2, 0, 3, 0, 1, 0, 2, 0, 3, 1, 1, 0, 0, 3, 0, 3, 1,\n",
       "       3, 0, 2, 3, 2, 2, 0, 3, 3, 3, 3, 0, 0, 2, 0, 1, 0, 0, 3, 1, 2, 0,\n",
       "       1, 2, 0, 3, 3, 2, 3, 2, 1, 3, 3, 3, 3, 0, 3, 0, 3, 3, 1, 2, 3, 0,\n",
       "       0, 2, 1, 3, 1, 1, 1, 1, 1, 3, 0, 3, 1, 0, 3, 0, 3, 2, 3, 3, 3, 0,\n",
       "       0, 1, 2, 2, 0, 3, 0, 0, 0, 0, 3, 0, 2, 1, 3, 3, 3, 1, 0, 2, 0, 3,\n",
       "       3, 0, 2, 2, 3, 0, 0, 2, 2, 1, 2, 2, 1, 3, 1, 0, 3, 0, 2, 3, 3, 3,\n",
       "       0, 2, 2, 3, 3, 1, 0, 2, 2, 3, 0, 1, 3, 2, 3, 3, 0, 3, 0, 0, 0, 1,\n",
       "       0, 0, 0, 3, 1, 0, 3, 0, 1, 0, 0, 2, 1, 3, 0, 2, 3, 1, 2, 0, 3, 3,\n",
       "       2, 2, 2, 2, 1, 2, 3, 2, 0, 2, 2, 3, 0, 2, 1, 0, 3, 2, 3, 2, 3, 0,\n",
       "       1, 0, 1, 2, 1, 1, 1, 0, 3, 3, 1, 0, 0, 1, 0, 1, 0, 3, 2, 0, 2, 3,\n",
       "       2, 3, 2, 2, 1, 1, 0, 0, 1, 2, 3, 2, 3, 2, 3, 0, 2, 0, 0, 3, 1, 1,\n",
       "       1, 3, 2, 3, 2, 1, 1, 1, 3, 2, 0, 0, 1, 0, 1, 0, 0, 3, 1, 2, 3, 3,\n",
       "       0, 3, 0, 2, 3, 0, 0, 2, 3, 0, 1, 2, 2, 3, 0, 2, 2, 1, 0, 3, 2, 2,\n",
       "       3, 0, 1, 1, 3, 0, 1, 3, 3, 0, 3, 3, 1, 0, 0, 0, 2, 3, 0, 3, 1, 2,\n",
       "       2, 3, 2, 0, 2, 1, 3, 0, 3, 2, 1, 2, 0, 0, 2, 0, 0, 3, 0, 2, 3, 0,\n",
       "       1, 2, 1, 2, 1, 3, 1, 3, 2, 0, 0, 3, 1, 1, 2, 3, 2, 2, 3, 3, 2, 2,\n",
       "       0, 0, 3, 0, 0, 0, 3, 0, 3, 0, 3, 1, 1, 3, 2, 1, 3, 0, 2, 0, 3, 0,\n",
       "       0, 0, 1, 0, 2, 0, 3, 0, 0, 1, 0, 3, 1, 0, 1, 0, 0, 3, 1, 0, 0, 0,\n",
       "       2, 1, 0, 1, 0, 2, 2, 3, 0, 1, 0, 3, 3, 3, 2, 1, 1, 1, 0, 3, 0, 1,\n",
       "       2, 0, 2, 1, 3, 2, 3, 3, 0, 0, 3, 1, 1, 1, 2, 3, 3, 2, 3, 0, 3, 0,\n",
       "       2, 2, 2, 3, 3, 1, 2, 2, 1, 3, 0, 0, 3, 3, 0, 3, 3, 1, 0, 2, 1, 3,\n",
       "       3, 1, 3, 2, 3, 0, 3, 0, 0, 3, 3, 2, 1, 3, 0, 1, 2, 3, 3, 1, 0, 0,\n",
       "       1, 3, 0, 0, 1, 2, 0, 1, 0, 1, 2, 3, 3, 1, 1, 1, 1, 0, 2, 2, 1, 2,\n",
       "       3, 1, 3, 0, 0, 0, 3, 0, 3, 0, 3, 0, 2, 1, 0, 2, 2, 2, 1, 0, 1, 3,\n",
       "       1, 1, 2, 2, 3, 3, 0, 3, 0, 0, 1, 3, 3, 0, 1, 3, 2, 3, 3, 1, 0, 0,\n",
       "       0, 1, 3, 3, 1, 2, 1, 3, 3, 0, 3, 0, 1, 3, 3, 1, 0, 3, 3, 1, 1, 0,\n",
       "       2, 3, 2, 2, 0, 1, 3, 2, 0, 1, 3, 2, 1, 3, 0, 0, 0, 1, 0, 3, 2, 2,\n",
       "       1, 1, 0, 0, 0, 2, 1, 2, 0, 3, 0, 3, 0, 1, 3, 0, 1, 1, 0, 3, 3, 2,\n",
       "       0, 3, 0, 3, 3, 0, 2, 3, 0, 2, 0, 2, 0, 0, 3, 1, 0, 3, 2, 3, 3, 2,\n",
       "       2, 2, 0, 0, 3, 3, 1, 1, 2, 3, 0, 0, 3, 0, 0, 2, 2, 1, 2, 2, 0, 1,\n",
       "       0, 3, 2, 1, 3, 0, 3, 2, 2, 2, 2, 3, 3, 3, 3, 1, 1, 0, 3, 1, 0, 0,\n",
       "       0, 1, 3, 3, 0, 0, 1, 3, 1])"
      ]
     },
     "execution_count": 185,
     "metadata": {},
     "output_type": "execute_result"
    }
   ],
   "source": [
    "from sklearn.ensemble import RandomForestClassifier\n",
    "\n",
    "model_rf = RandomForestClassifier(random_state=42)\n",
    "model_rf.fit(X_train, y_train)\n",
    "y_pred_rf = model_rf.predict(X_valid)\n",
    "y_pred_rf"
   ]
  },
  {
   "cell_type": "code",
   "execution_count": 187,
   "metadata": {},
   "outputs": [
    {
     "data": {
      "text/plain": [
       "0.4129366551174357"
      ]
     },
     "execution_count": 187,
     "metadata": {},
     "output_type": "execute_result"
    }
   ],
   "source": [
    "from sklearn.metrics import f1_score\n",
    "\n",
    "score = f1_score(y_valid, y_pred_rf, average='macro')\n",
    "score"
   ]
  },
  {
   "cell_type": "code",
   "execution_count": 188,
   "metadata": {},
   "outputs": [
    {
     "data": {
      "text/plain": [
       "array([3, 2, 1, ..., 3, 2, 1])"
      ]
     },
     "execution_count": 188,
     "metadata": {},
     "output_type": "execute_result"
    }
   ],
   "source": [
    "y_pred_encoded = model_rf.predict(X_test)\n",
    "y_pred_encoded "
   ]
  },
  {
   "cell_type": "code",
   "execution_count": 192,
   "metadata": {},
   "outputs": [
    {
     "data": {
      "text/plain": [
       "array(['D', 'C', 'B', ..., 'D', 'C', 'B'], dtype=object)"
      ]
     },
     "execution_count": 192,
     "metadata": {},
     "output_type": "execute_result"
    }
   ],
   "source": [
    "y_pred = encoders['Segmentation'].inverse_transform(y_pred_encoded)\n",
    "y_pred "
   ]
  },
  {
   "cell_type": "code",
   "execution_count": 193,
   "metadata": {},
   "outputs": [
    {
     "data": {
      "text/html": [
       "<div>\n",
       "<style scoped>\n",
       "    .dataframe tbody tr th:only-of-type {\n",
       "        vertical-align: middle;\n",
       "    }\n",
       "\n",
       "    .dataframe tbody tr th {\n",
       "        vertical-align: top;\n",
       "    }\n",
       "\n",
       "    .dataframe thead th {\n",
       "        text-align: right;\n",
       "    }\n",
       "</style>\n",
       "<table border=\"1\" class=\"dataframe\">\n",
       "  <thead>\n",
       "    <tr style=\"text-align: right;\">\n",
       "      <th></th>\n",
       "      <th>ID</th>\n",
       "      <th>Segmentation</th>\n",
       "    </tr>\n",
       "  </thead>\n",
       "  <tbody>\n",
       "    <tr>\n",
       "      <th>0</th>\n",
       "      <td>460406</td>\n",
       "      <td>D</td>\n",
       "    </tr>\n",
       "    <tr>\n",
       "      <th>1</th>\n",
       "      <td>466890</td>\n",
       "      <td>C</td>\n",
       "    </tr>\n",
       "    <tr>\n",
       "      <th>2</th>\n",
       "      <td>466145</td>\n",
       "      <td>B</td>\n",
       "    </tr>\n",
       "    <tr>\n",
       "      <th>3</th>\n",
       "      <td>465805</td>\n",
       "      <td>B</td>\n",
       "    </tr>\n",
       "    <tr>\n",
       "      <th>4</th>\n",
       "      <td>466137</td>\n",
       "      <td>C</td>\n",
       "    </tr>\n",
       "    <tr>\n",
       "      <th>...</th>\n",
       "      <td>...</td>\n",
       "      <td>...</td>\n",
       "    </tr>\n",
       "    <tr>\n",
       "      <th>1537</th>\n",
       "      <td>463734</td>\n",
       "      <td>A</td>\n",
       "    </tr>\n",
       "    <tr>\n",
       "      <th>1538</th>\n",
       "      <td>466055</td>\n",
       "      <td>C</td>\n",
       "    </tr>\n",
       "    <tr>\n",
       "      <th>1539</th>\n",
       "      <td>465689</td>\n",
       "      <td>D</td>\n",
       "    </tr>\n",
       "    <tr>\n",
       "      <th>1540</th>\n",
       "      <td>460401</td>\n",
       "      <td>C</td>\n",
       "    </tr>\n",
       "    <tr>\n",
       "      <th>1541</th>\n",
       "      <td>465215</td>\n",
       "      <td>B</td>\n",
       "    </tr>\n",
       "  </tbody>\n",
       "</table>\n",
       "<p>1542 rows × 2 columns</p>\n",
       "</div>"
      ],
      "text/plain": [
       "          ID Segmentation\n",
       "0     460406            D\n",
       "1     466890            C\n",
       "2     466145            B\n",
       "3     465805            B\n",
       "4     466137            C\n",
       "...      ...          ...\n",
       "1537  463734            A\n",
       "1538  466055            C\n",
       "1539  465689            D\n",
       "1540  460401            C\n",
       "1541  465215            B\n",
       "\n",
       "[1542 rows x 2 columns]"
      ]
     },
     "execution_count": 193,
     "metadata": {},
     "output_type": "execute_result"
    }
   ],
   "source": [
    "result = pd.DataFrame({\n",
    "    \"ID\": test['ID'],\n",
    "    \"Segmentation\": y_pred\n",
    "})\n",
    "result"
   ]
  },
  {
   "cell_type": "code",
   "execution_count": 194,
   "metadata": {},
   "outputs": [
    {
     "data": {
      "text/html": [
       "<div>\n",
       "<style scoped>\n",
       "    .dataframe tbody tr th:only-of-type {\n",
       "        vertical-align: middle;\n",
       "    }\n",
       "\n",
       "    .dataframe tbody tr th {\n",
       "        vertical-align: top;\n",
       "    }\n",
       "\n",
       "    .dataframe thead th {\n",
       "        text-align: right;\n",
       "    }\n",
       "</style>\n",
       "<table border=\"1\" class=\"dataframe\">\n",
       "  <thead>\n",
       "    <tr style=\"text-align: right;\">\n",
       "      <th></th>\n",
       "      <th>ID</th>\n",
       "      <th>Segmentation</th>\n",
       "    </tr>\n",
       "  </thead>\n",
       "  <tbody>\n",
       "    <tr>\n",
       "      <th>0</th>\n",
       "      <td>460406</td>\n",
       "      <td>D</td>\n",
       "    </tr>\n",
       "    <tr>\n",
       "      <th>1</th>\n",
       "      <td>466890</td>\n",
       "      <td>C</td>\n",
       "    </tr>\n",
       "    <tr>\n",
       "      <th>2</th>\n",
       "      <td>466145</td>\n",
       "      <td>B</td>\n",
       "    </tr>\n",
       "    <tr>\n",
       "      <th>3</th>\n",
       "      <td>465805</td>\n",
       "      <td>B</td>\n",
       "    </tr>\n",
       "    <tr>\n",
       "      <th>4</th>\n",
       "      <td>466137</td>\n",
       "      <td>C</td>\n",
       "    </tr>\n",
       "    <tr>\n",
       "      <th>...</th>\n",
       "      <td>...</td>\n",
       "      <td>...</td>\n",
       "    </tr>\n",
       "    <tr>\n",
       "      <th>1537</th>\n",
       "      <td>463734</td>\n",
       "      <td>A</td>\n",
       "    </tr>\n",
       "    <tr>\n",
       "      <th>1538</th>\n",
       "      <td>466055</td>\n",
       "      <td>C</td>\n",
       "    </tr>\n",
       "    <tr>\n",
       "      <th>1539</th>\n",
       "      <td>465689</td>\n",
       "      <td>D</td>\n",
       "    </tr>\n",
       "    <tr>\n",
       "      <th>1540</th>\n",
       "      <td>460401</td>\n",
       "      <td>C</td>\n",
       "    </tr>\n",
       "    <tr>\n",
       "      <th>1541</th>\n",
       "      <td>465215</td>\n",
       "      <td>B</td>\n",
       "    </tr>\n",
       "  </tbody>\n",
       "</table>\n",
       "<p>1542 rows × 2 columns</p>\n",
       "</div>"
      ],
      "text/plain": [
       "          ID Segmentation\n",
       "0     460406            D\n",
       "1     466890            C\n",
       "2     466145            B\n",
       "3     465805            B\n",
       "4     466137            C\n",
       "...      ...          ...\n",
       "1537  463734            A\n",
       "1538  466055            C\n",
       "1539  465689            D\n",
       "1540  460401            C\n",
       "1541  465215            B\n",
       "\n",
       "[1542 rows x 2 columns]"
      ]
     },
     "execution_count": 194,
     "metadata": {},
     "output_type": "execute_result"
    }
   ],
   "source": [
    "result.to_csv('result4.csv', index=False)\n",
    "\n",
    "test = pd.read_csv('result4.csv')\n",
    "test"
   ]
  },
  {
   "cell_type": "code",
   "execution_count": 195,
   "metadata": {},
   "outputs": [
    {
     "data": {
      "text/plain": [
       "Ever_Married\n",
       "Yes    2805\n",
       "No     1980\n",
       "Name: count, dtype: int64"
      ]
     },
     "execution_count": 195,
     "metadata": {},
     "output_type": "execute_result"
    }
   ],
   "source": [
    "train['Ever_Married'].value_counts()"
   ]
  },
  {
   "cell_type": "markdown",
   "metadata": {},
   "source": [
    "# 작업 3유형"
   ]
  },
  {
   "cell_type": "markdown",
   "metadata": {},
   "source": [
    "## Q4. 어느 대학교의 신입생의 학과별 성별에 대한 데이터이다.\n",
    "이 데이터를 바탕으로, 학생들의 학과와 성별이 서로 독립적인지 여부를 확인하기 위해 카이제곱 독립성 검정을 실시 하려한다.\n",
    "학과 평균 인원에 대한 값을 소숫점 이하 3자리까지 구하여라"
   ]
  },
  {
   "cell_type": "code",
   "execution_count": 196,
   "metadata": {},
   "outputs": [
    {
     "data": {
      "text/html": [
       "<div>\n",
       "<style scoped>\n",
       "    .dataframe tbody tr th:only-of-type {\n",
       "        vertical-align: middle;\n",
       "    }\n",
       "\n",
       "    .dataframe tbody tr th {\n",
       "        vertical-align: top;\n",
       "    }\n",
       "\n",
       "    .dataframe thead th {\n",
       "        text-align: right;\n",
       "    }\n",
       "</style>\n",
       "<table border=\"1\" class=\"dataframe\">\n",
       "  <thead>\n",
       "    <tr style=\"text-align: right;\">\n",
       "      <th></th>\n",
       "      <th>학번</th>\n",
       "      <th>학과</th>\n",
       "      <th>성별</th>\n",
       "    </tr>\n",
       "  </thead>\n",
       "  <tbody>\n",
       "    <tr>\n",
       "      <th>0</th>\n",
       "      <td>DFSKJK_1</td>\n",
       "      <td>경영학과</td>\n",
       "      <td>여</td>\n",
       "    </tr>\n",
       "    <tr>\n",
       "      <th>1</th>\n",
       "      <td>DFSKJK_2</td>\n",
       "      <td>사회학과</td>\n",
       "      <td>여</td>\n",
       "    </tr>\n",
       "    <tr>\n",
       "      <th>2</th>\n",
       "      <td>DFSKJK_3</td>\n",
       "      <td>기계공학과</td>\n",
       "      <td>여</td>\n",
       "    </tr>\n",
       "    <tr>\n",
       "      <th>3</th>\n",
       "      <td>DFSKJK_4</td>\n",
       "      <td>경제학과</td>\n",
       "      <td>남</td>\n",
       "    </tr>\n",
       "    <tr>\n",
       "      <th>4</th>\n",
       "      <td>DFSKJK_5</td>\n",
       "      <td>기계공학과</td>\n",
       "      <td>여</td>\n",
       "    </tr>\n",
       "  </tbody>\n",
       "</table>\n",
       "</div>"
      ],
      "text/plain": [
       "         학번     학과 성별\n",
       "0  DFSKJK_1   경영학과  여\n",
       "1  DFSKJK_2   사회학과  여\n",
       "2  DFSKJK_3  기계공학과  여\n",
       "3  DFSKJK_4   경제학과  남\n",
       "4  DFSKJK_5  기계공학과  여"
      ]
     },
     "execution_count": 196,
     "metadata": {},
     "output_type": "execute_result"
    }
   ],
   "source": [
    "import pandas as pd \n",
    "df= pd.read_csv('https://raw.githubusercontent.com/Datamanim/datarepo/main/krdatacertificate/e4_p3_1_.csv')\n",
    "df.head()"
   ]
  },
  {
   "cell_type": "code",
   "execution_count": 197,
   "metadata": {},
   "outputs": [
    {
     "data": {
      "text/plain": [
       "(1022, 3)"
      ]
     },
     "execution_count": 197,
     "metadata": {},
     "output_type": "execute_result"
    }
   ],
   "source": [
    "df.shape"
   ]
  },
  {
   "cell_type": "code",
   "execution_count": 202,
   "metadata": {},
   "outputs": [
    {
     "data": {
      "text/plain": [
       "6"
      ]
     },
     "execution_count": 202,
     "metadata": {},
     "output_type": "execute_result"
    }
   ],
   "source": [
    "df['학과'].nunique()"
   ]
  },
  {
   "cell_type": "code",
   "execution_count": 205,
   "metadata": {},
   "outputs": [
    {
     "data": {
      "text/plain": [
       "170.333"
      ]
     },
     "execution_count": 205,
     "metadata": {},
     "output_type": "execute_result"
    }
   ],
   "source": [
    "round(len(df) / df['학과'].nunique(),3)"
   ]
  },
  {
   "cell_type": "markdown",
   "metadata": {},
   "source": [
    "## Q5. 카이제곱검정 독립성 검정 통계량을 소숫점 이하 3자리까지 구하여라"
   ]
  },
  {
   "cell_type": "code",
   "execution_count": 213,
   "metadata": {},
   "outputs": [
    {
     "data": {
      "text/html": [
       "<div>\n",
       "<style scoped>\n",
       "    .dataframe tbody tr th:only-of-type {\n",
       "        vertical-align: middle;\n",
       "    }\n",
       "\n",
       "    .dataframe tbody tr th {\n",
       "        vertical-align: top;\n",
       "    }\n",
       "\n",
       "    .dataframe thead th {\n",
       "        text-align: right;\n",
       "    }\n",
       "</style>\n",
       "<table border=\"1\" class=\"dataframe\">\n",
       "  <thead>\n",
       "    <tr style=\"text-align: right;\">\n",
       "      <th>성별</th>\n",
       "      <th>남</th>\n",
       "      <th>여</th>\n",
       "    </tr>\n",
       "    <tr>\n",
       "      <th>학과</th>\n",
       "      <th></th>\n",
       "      <th></th>\n",
       "    </tr>\n",
       "  </thead>\n",
       "  <tbody>\n",
       "    <tr>\n",
       "      <th>경영학과</th>\n",
       "      <td>150</td>\n",
       "      <td>171</td>\n",
       "    </tr>\n",
       "    <tr>\n",
       "      <th>경제학과</th>\n",
       "      <td>79</td>\n",
       "      <td>91</td>\n",
       "    </tr>\n",
       "    <tr>\n",
       "      <th>기계공학과</th>\n",
       "      <td>125</td>\n",
       "      <td>119</td>\n",
       "    </tr>\n",
       "    <tr>\n",
       "      <th>사회학과</th>\n",
       "      <td>48</td>\n",
       "      <td>51</td>\n",
       "    </tr>\n",
       "    <tr>\n",
       "      <th>의학과</th>\n",
       "      <td>32</td>\n",
       "      <td>27</td>\n",
       "    </tr>\n",
       "    <tr>\n",
       "      <th>전자공학과</th>\n",
       "      <td>74</td>\n",
       "      <td>55</td>\n",
       "    </tr>\n",
       "  </tbody>\n",
       "</table>\n",
       "</div>"
      ],
      "text/plain": [
       "성별       남    여\n",
       "학과             \n",
       "경영학과   150  171\n",
       "경제학과    79   91\n",
       "기계공학과  125  119\n",
       "사회학과    48   51\n",
       "의학과     32   27\n",
       "전자공학과   74   55"
      ]
     },
     "execution_count": 213,
     "metadata": {},
     "output_type": "execute_result"
    }
   ],
   "source": [
    "observed = pd.crosstab(df['학과'],df['성별'])\n",
    "observed"
   ]
  },
  {
   "cell_type": "code",
   "execution_count": 218,
   "metadata": {},
   "outputs": [
    {
     "data": {
      "text/plain": [
       "5.646"
      ]
     },
     "execution_count": 218,
     "metadata": {},
     "output_type": "execute_result"
    }
   ],
   "source": [
    "from scipy.stats import chi2_contingency\n",
    "\n",
    "stat, p, dof, exp = chi2_contingency(observed)\n",
    "round(stat,3)"
   ]
  },
  {
   "cell_type": "markdown",
   "metadata": {},
   "source": [
    "## Q6. 카이제곱검정 독립성 검정의 pvalue를 소숫점 이하 3자리까지 구하여라. 유의수준 0.05하에서 귀무가설과 대립가설중 유의한 것을 출력하라"
   ]
  },
  {
   "cell_type": "code",
   "execution_count": null,
   "metadata": {},
   "outputs": [
    {
     "data": {
      "text/plain": [
       "('귀무가설', 0.342)"
      ]
     },
     "execution_count": 222,
     "metadata": {},
     "output_type": "execute_result"
    }
   ],
   "source": [
    "\"귀무가설\",round(p, 3) if round(p, 3) > 0.05 else \"대립가설\"\n",
    "# 귀무가설: 두 범주형 변수는 서로 독립적이다."
   ]
  },
  {
   "cell_type": "markdown",
   "metadata": {},
   "source": [
    "## Q7. 어느 학교에서 수학 시험을 본 학생 100명 중 60명이 60점 이상을 받았다. 이 학교의 수학 시험의 평균 점수가 50점 이상인지 95%의 신뢰 수준에서 검정하려한다.\n",
    "검정 통계량을 소숫점 이하 3자리에서 구하시오"
   ]
  },
  {
   "cell_type": "code",
   "execution_count": null,
   "metadata": {},
   "outputs": [
    {
     "data": {
      "text/plain": [
       "2.0"
      ]
     },
     "execution_count": 1,
     "metadata": {},
     "output_type": "execute_result"
    }
   ],
   "source": [
    "# 귀무가설(H0): 학교의 수학 시험에서 60점 이상 받을 확률 p< 0.5 (평균점수가 50점 미만이다)\n",
    "# 대립가설 : 학교의 수학시험에서 60점 이상을 받을 확률 p >= 0.5 (평균 점수가 50점 이상이다)\n",
    "## 밝히고 싶은걸 대립가설로 둔다. 단측 검정은 대립가설의 방향에 따른다.\n",
    "\n",
    "# 검정통계량 계산\n",
    "p_hat = 60 / 100 # 표본의 비율\n",
    "p_0 = 0.5 # 귀무가설에서 가정한 비율\n",
    "n = 100 # 표본의 크기\n",
    "\n",
    "import numpy as np\n",
    "Z = round((p_hat - p_0) / np.sqrt(p_0 * (1-p_0) / n),3)\n",
    "Z\n"
   ]
  },
  {
   "cell_type": "markdown",
   "metadata": {},
   "source": [
    "## Q8. pvalue를 소숫점 이하 3자리까지 구하고 귀무가설과 대립가설중 유의한 것을 출력하라"
   ]
  },
  {
   "cell_type": "code",
   "execution_count": null,
   "metadata": {},
   "outputs": [
    {
     "data": {
      "text/plain": [
       "False"
      ]
     },
     "execution_count": 3,
     "metadata": {},
     "output_type": "execute_result"
    }
   ],
   "source": [
    "from scipy.stats import norm\n",
    "\n",
    "z0_05 = 1-norm.ppf(0.05) # 누적 확률이 0.05가 되는 Z의 값, Z0.05\n",
    "\n",
    "Z > z0_05 # 귀무가설을 기각. 학교의 평균 점수는 50점 이상일 가능성이 있다."
   ]
  },
  {
   "cell_type": "code",
   "execution_count": 2,
   "metadata": {},
   "outputs": [
    {
     "data": {
      "text/plain": [
       "0.023"
      ]
     },
     "execution_count": 2,
     "metadata": {},
     "output_type": "execute_result"
    }
   ],
   "source": [
    "from scipy.stats import norm\n",
    "p_value= round(1-norm.cdf(Z),3)\n",
    "p_value"
   ]
  },
  {
   "cell_type": "code",
   "execution_count": 4,
   "metadata": {},
   "outputs": [
    {
     "data": {
      "text/plain": [
       "'대립가설'"
      ]
     },
     "execution_count": 4,
     "metadata": {},
     "output_type": "execute_result"
    }
   ],
   "source": [
    "\"귀무가설\" if p_value > 0.05 else \"대립가설\""
   ]
  }
 ],
 "metadata": {
  "kernelspec": {
   "display_name": "tensor",
   "language": "python",
   "name": "python3"
  },
  "language_info": {
   "codemirror_mode": {
    "name": "ipython",
    "version": 3
   },
   "file_extension": ".py",
   "mimetype": "text/x-python",
   "name": "python",
   "nbconvert_exporter": "python",
   "pygments_lexer": "ipython3",
   "version": "3.11.10"
  }
 },
 "nbformat": 4,
 "nbformat_minor": 2
}
